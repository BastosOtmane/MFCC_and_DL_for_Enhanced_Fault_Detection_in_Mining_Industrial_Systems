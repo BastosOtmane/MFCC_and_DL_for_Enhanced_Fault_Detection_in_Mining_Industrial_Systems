{
 "cells": [
  {
   "cell_type": "code",
   "execution_count": 1,
   "metadata": {
    "execution": {
     "iopub.execute_input": "2023-08-27T18:48:42.160706Z",
     "iopub.status.busy": "2023-08-27T18:48:42.160416Z",
     "iopub.status.idle": "2023-08-27T18:48:50.841261Z",
     "shell.execute_reply": "2023-08-27T18:48:50.840230Z",
     "shell.execute_reply.started": "2023-08-27T18:48:42.160680Z"
    }
   },
   "outputs": [
    {
     "name": "stderr",
     "output_type": "stream",
     "text": [
      "/opt/conda/lib/python3.10/site-packages/scipy/__init__.py:146: UserWarning: A NumPy version >=1.16.5 and <1.23.0 is required for this version of SciPy (detected version 1.23.5\n",
      "  warnings.warn(f\"A NumPy version >={np_minversion} and <{np_maxversion}\"\n",
      "/opt/conda/lib/python3.10/site-packages/tensorflow_io/python/ops/__init__.py:98: UserWarning: unable to load libtensorflow_io_plugins.so: unable to open file: libtensorflow_io_plugins.so, from paths: ['/opt/conda/lib/python3.10/site-packages/tensorflow_io/python/ops/libtensorflow_io_plugins.so']\n",
      "caused by: ['/opt/conda/lib/python3.10/site-packages/tensorflow_io/python/ops/libtensorflow_io_plugins.so: undefined symbol: _ZN3tsl6StatusC1EN10tensorflow5error4CodeESt17basic_string_viewIcSt11char_traitsIcEENS_14SourceLocationE']\n",
      "  warnings.warn(f\"unable to load libtensorflow_io_plugins.so: {e}\")\n",
      "/opt/conda/lib/python3.10/site-packages/tensorflow_io/python/ops/__init__.py:104: UserWarning: file system plugins are not loaded: unable to open file: libtensorflow_io.so, from paths: ['/opt/conda/lib/python3.10/site-packages/tensorflow_io/python/ops/libtensorflow_io.so']\n",
      "caused by: ['/opt/conda/lib/python3.10/site-packages/tensorflow_io/python/ops/libtensorflow_io.so: undefined symbol: _ZTVN10tensorflow13GcsFileSystemE']\n",
      "  warnings.warn(f\"file system plugins are not loaded: {e}\")\n"
     ]
    }
   ],
   "source": [
    "import numpy as np\n",
    "import pandas as pd\n",
    "import cv2\n",
    "\n",
    "from sklearn.model_selection import train_test_split\n",
    "from sklearn.utils import shuffle\n",
    "import tensorflow as tf\n",
    "from tensorflow.keras.preprocessing.image import ImageDataGenerator\n",
    "\n",
    "import os\n",
    "import sys\n",
    "from tqdm import tqdm\n",
    "from time import time\n",
    "import shutil"
   ]
  },
  {
   "cell_type": "code",
   "execution_count": 2,
   "metadata": {
    "execution": {
     "iopub.execute_input": "2023-08-27T18:48:50.844158Z",
     "iopub.status.busy": "2023-08-27T18:48:50.843407Z",
     "iopub.status.idle": "2023-08-27T18:48:50.852831Z",
     "shell.execute_reply": "2023-08-27T18:48:50.851794Z",
     "shell.execute_reply.started": "2023-08-27T18:48:50.844106Z"
    }
   },
   "outputs": [],
   "source": [
    "import matplotlib.pyplot as plt\n",
    "\n",
    "def plot_progress(history):\n",
    "    loss_tr = []\n",
    "    loss_vl = []\n",
    "    acc_tr = []\n",
    "    acc_vl = []\n",
    "    loss_tr.append(history.history['loss'])\n",
    "    loss_vl.append(history.history['val_loss'])\n",
    "    acc_tr.append(history.history['categorical_accuracy'])\n",
    "    acc_vl.append(history.history['val_categorical_accuracy'])\n",
    "    \n",
    "    plt.plot(acc_tr[0])\n",
    "    plt.plot(acc_vl[0])\n",
    "    plt.title('model accuracy')\n",
    "    plt.ylabel('accuracy')\n",
    "    plt.xlabel('epoch')\n",
    "    plt.legend(['Train', 'Validation'], loc='upper left')\n",
    "    plt.show()\n",
    "\n",
    "    plt.plot(loss_tr[0])\n",
    "    plt.plot(loss_vl[0])\n",
    "    plt.title('model loss')\n",
    "    plt.ylabel('loss')\n",
    "    plt.xlabel('epoch')\n",
    "    plt.legend(['Train', 'Validation'], loc='upper left')\n",
    "    plt.show()"
   ]
  },
  {
   "cell_type": "code",
   "execution_count": 3,
   "metadata": {
    "execution": {
     "iopub.execute_input": "2023-08-27T18:48:50.855495Z",
     "iopub.status.busy": "2023-08-27T18:48:50.854772Z",
     "iopub.status.idle": "2023-08-27T18:48:50.864221Z",
     "shell.execute_reply": "2023-08-27T18:48:50.863268Z",
     "shell.execute_reply.started": "2023-08-27T18:48:50.855460Z"
    }
   },
   "outputs": [],
   "source": [
    "from sklearn.metrics import classification_report,multilabel_confusion_matrix"
   ]
  },
  {
   "cell_type": "code",
   "execution_count": 6,
   "metadata": {
    "execution": {
     "iopub.execute_input": "2023-08-27T18:53:02.302831Z",
     "iopub.status.busy": "2023-08-27T18:53:02.301749Z",
     "iopub.status.idle": "2023-08-27T18:53:02.309715Z",
     "shell.execute_reply": "2023-08-27T18:53:02.308665Z",
     "shell.execute_reply.started": "2023-08-27T18:53:02.302787Z"
    }
   },
   "outputs": [],
   "source": [
    "inception1 = 0\n",
    "def report(model):\n",
    "    prediction = model.predict(test_gen)\n",
    "    if model == inception1:\n",
    "        print('incept')\n",
    "        prediction = prediction[0]\n",
    "    predicted_labels = np.argmax(prediction, axis=1)\n",
    "    confusion_mat = multilabel_confusion_matrix(test_gen.labels, predicted_labels)\n",
    "    print(confusion_mat)\n",
    "    print(classification_report(test_gen.labels, predicted_labels))"
   ]
  },
  {
   "cell_type": "code",
   "execution_count": 17,
   "metadata": {
    "execution": {
     "iopub.execute_input": "2023-08-27T18:55:25.721063Z",
     "iopub.status.busy": "2023-08-27T18:55:25.720706Z",
     "iopub.status.idle": "2023-08-27T18:55:25.727352Z",
     "shell.execute_reply": "2023-08-27T18:55:25.726380Z",
     "shell.execute_reply.started": "2023-08-27T18:55:25.721034Z"
    }
   },
   "outputs": [],
   "source": [
    "train_path = '/kaggle/input/cwry-2/Model_Image/train'\n",
    "val_path = '/kaggle/input/cwry-2/Model_Image/val'\n",
    "test_path = '/kaggle/input/cwry-2/Model_Image/test'\n",
    "\n",
    "num_train_samples = 12909\n",
    "num_test_samples = 2815\n",
    "num_val_samples = 2741\n",
    "train_batch_size = 64\n",
    "val_batch_size = 64\n",
    "\n",
    "\n",
    "train_steps = np.ceil(num_train_samples / train_batch_size)\n",
    "val_steps = np.ceil(num_val_samples / val_batch_size)"
   ]
  },
  {
   "cell_type": "code",
   "execution_count": 18,
   "metadata": {
    "execution": {
     "iopub.execute_input": "2023-08-27T18:55:26.571515Z",
     "iopub.status.busy": "2023-08-27T18:55:26.570817Z",
     "iopub.status.idle": "2023-08-27T18:55:26.578013Z",
     "shell.execute_reply": "2023-08-27T18:55:26.577093Z",
     "shell.execute_reply.started": "2023-08-27T18:55:26.571473Z"
    }
   },
   "outputs": [
    {
     "data": {
      "text/plain": [
       "(202.0, 43.0)"
      ]
     },
     "execution_count": 18,
     "metadata": {},
     "output_type": "execute_result"
    }
   ],
   "source": [
    "train_steps,val_steps"
   ]
  },
  {
   "cell_type": "code",
   "execution_count": 19,
   "metadata": {
    "execution": {
     "iopub.execute_input": "2023-08-27T18:55:27.252829Z",
     "iopub.status.busy": "2023-08-27T18:55:27.251923Z",
     "iopub.status.idle": "2023-08-27T18:55:28.234370Z",
     "shell.execute_reply": "2023-08-27T18:55:28.233259Z",
     "shell.execute_reply.started": "2023-08-27T18:55:27.252787Z"
    }
   },
   "outputs": [
    {
     "name": "stdout",
     "output_type": "stream",
     "text": [
      "Found 12909 images belonging to 16 classes.\n",
      "Found 2741 images belonging to 16 classes.\n",
      "Found 2815 images belonging to 16 classes.\n"
     ]
    }
   ],
   "source": [
    "IMAGE_SIZE = 256\n",
    "def preprocess(img):\n",
    "    img = cv2.resize(img, (IMAGE_SIZE, IMAGE_SIZE))\n",
    "    return img\n",
    "\n",
    "datagen = ImageDataGenerator(preprocessing_function=lambda img: preprocess(img),\n",
    "                             rescale=1.0/255)\n",
    "\n",
    "train_gen = datagen.flow_from_directory(train_path,\n",
    "                                        target_size=(IMAGE_SIZE,IMAGE_SIZE),\n",
    "                                        batch_size=train_batch_size,\n",
    "                                        class_mode='categorical')\n",
    "\n",
    "val_gen = datagen.flow_from_directory(val_path,\n",
    "                                        target_size=(IMAGE_SIZE,IMAGE_SIZE),\n",
    "                                        batch_size=val_batch_size,\n",
    "                                        class_mode='categorical')\n",
    "\n",
    "test_gen = datagen.flow_from_directory(test_path,\n",
    "                                        target_size=(IMAGE_SIZE,IMAGE_SIZE),\n",
    "                                        batch_size=1,\n",
    "                                        class_mode='categorical',\n",
    "                                        shuffle=False)"
   ]
  },
  {
   "cell_type": "markdown",
   "metadata": {},
   "source": [
    "# DL Models"
   ]
  },
  {
   "cell_type": "code",
   "execution_count": 20,
   "metadata": {
    "execution": {
     "iopub.execute_input": "2023-08-27T18:55:49.212469Z",
     "iopub.status.busy": "2023-08-27T18:55:49.211719Z",
     "iopub.status.idle": "2023-08-27T18:55:49.219033Z",
     "shell.execute_reply": "2023-08-27T18:55:49.218121Z",
     "shell.execute_reply.started": "2023-08-27T18:55:49.212428Z"
    }
   },
   "outputs": [],
   "source": [
    "from tensorflow.keras.layers import Input, Conv2D, MaxPool2D, DepthwiseConv2D, BatchNormalization, Flatten, Dense, Dropout\n",
    "from tensorflow.keras import Model"
   ]
  },
  {
   "cell_type": "code",
   "execution_count": 21,
   "metadata": {
    "execution": {
     "iopub.execute_input": "2023-08-27T18:55:50.979461Z",
     "iopub.status.busy": "2023-08-27T18:55:50.978304Z",
     "iopub.status.idle": "2023-08-27T18:55:53.606899Z",
     "shell.execute_reply": "2023-08-27T18:55:53.605906Z",
     "shell.execute_reply.started": "2023-08-27T18:55:50.979417Z"
    }
   },
   "outputs": [],
   "source": [
    "# Metrics\n",
    "cat_acc = tf.keras.metrics.CategoricalAccuracy()\n",
    "auc_roc = tf.keras.metrics.AUC(multi_label=True, num_labels=16)\n",
    "prec = tf.keras.metrics.Precision()\n",
    "recall = tf.keras.metrics.Recall()"
   ]
  },
  {
   "cell_type": "code",
   "execution_count": 22,
   "metadata": {
    "execution": {
     "iopub.execute_input": "2023-08-27T18:55:53.711468Z",
     "iopub.status.busy": "2023-08-27T18:55:53.710785Z",
     "iopub.status.idle": "2023-08-27T18:55:53.717273Z",
     "shell.execute_reply": "2023-08-27T18:55:53.716365Z",
     "shell.execute_reply.started": "2023-08-27T18:55:53.711432Z"
    }
   },
   "outputs": [
    {
     "name": "stdout",
     "output_type": "stream",
     "text": [
      "Name: /physical_device:GPU:0   Type: GPU\n"
     ]
    }
   ],
   "source": [
    "gpus = tf.config.experimental.list_physical_devices('GPU')\n",
    "for gpu in gpus:\n",
    "    print(\"Name:\", gpu.name, \"  Type:\", gpu.device_type)"
   ]
  },
  {
   "cell_type": "markdown",
   "metadata": {},
   "source": [
    "## AlexNet"
   ]
  },
  {
   "cell_type": "code",
   "execution_count": 27,
   "metadata": {
    "execution": {
     "iopub.execute_input": "2023-08-27T18:56:52.517062Z",
     "iopub.status.busy": "2023-08-27T18:56:52.516676Z",
     "iopub.status.idle": "2023-08-27T18:56:52.529745Z",
     "shell.execute_reply": "2023-08-27T18:56:52.528586Z",
     "shell.execute_reply.started": "2023-08-27T18:56:52.517032Z"
    }
   },
   "outputs": [],
   "source": [
    "def AlexNet(input_shape):\n",
    "    input = Input(shape=input_shape)\n",
    "    \n",
    "    x = Conv2D(96, (11, 11), strides=(4, 4), activation='relu')(input)\n",
    "    x = BatchNormalization()(x)\n",
    "    x = MaxPool2D(pool_size=(3, 3), strides=(2, 2))(x)\n",
    "    \n",
    "    x = Conv2D(256, kernel_size=5, padding='same', activation='relu')(x)\n",
    "    x = tf.keras.layers.SpatialDropout2D(0.2)(x)\n",
    "    x = BatchNormalization()(x)\n",
    "    x = MaxPool2D(pool_size=(3, 3), strides=(2, 2))(x)\n",
    "    \n",
    "    x = Conv2D(384, kernel_size=3, padding='same', activation='relu')(x)\n",
    "    x = tf.keras.layers.SpatialDropout2D(0.5)(x)\n",
    "    x = BatchNormalization()(x)\n",
    "    x = Conv2D(384, kernel_size=3, padding='same', activation='relu')(x)\n",
    "    x = BatchNormalization()(x)\n",
    "    x = Conv2D(256, kernel_size=3, padding='same', activation='relu')(x)\n",
    "    x = tf.keras.layers.SpatialDropout2D(0.2)(x)\n",
    "    x = BatchNormalization()(x)\n",
    "    \n",
    "    x = MaxPool2D(pool_size=(3, 3), strides=(2, 2))(x)\n",
    "    \n",
    "    x = Flatten()(x)\n",
    "    x = Dense(4096, activation='relu')(x)\n",
    "    x = Dropout(0.5)(x)\n",
    "    x = Dense(4096, activation='relu')(x)\n",
    "    x = Dropout(0.5)(x)\n",
    "    output = Dense(16, activation='softmax')(x)\n",
    "    \n",
    "    model = Model(inputs=input, outputs=output, name='AlexNet')\n",
    "    \n",
    "    return model"
   ]
  },
  {
   "cell_type": "code",
   "execution_count": 31,
   "metadata": {
    "execution": {
     "iopub.execute_input": "2023-08-27T19:02:15.521302Z",
     "iopub.status.busy": "2023-08-27T19:02:15.520885Z",
     "iopub.status.idle": "2023-08-27T19:02:15.693992Z",
     "shell.execute_reply": "2023-08-27T19:02:15.692974Z",
     "shell.execute_reply.started": "2023-08-27T19:02:15.521266Z"
    }
   },
   "outputs": [],
   "source": [
    "alexnet = AlexNet(input_shape=(256,256,3))\n",
    "alexnet.compile(optimizer=tf.keras.optimizers.Adam(learning_rate=1e-4), loss='categorical_crossentropy', metrics=[cat_acc,auc_roc,prec,recall])"
   ]
  },
  {
   "cell_type": "code",
   "execution_count": 32,
   "metadata": {
    "execution": {
     "iopub.execute_input": "2023-08-27T19:02:16.081041Z",
     "iopub.status.busy": "2023-08-27T19:02:16.080667Z",
     "iopub.status.idle": "2023-08-27T19:02:16.089842Z",
     "shell.execute_reply": "2023-08-27T19:02:16.088553Z",
     "shell.execute_reply.started": "2023-08-27T19:02:16.081009Z"
    }
   },
   "outputs": [
    {
     "data": {
      "text/plain": [
       "58352400"
      ]
     },
     "execution_count": 32,
     "metadata": {},
     "output_type": "execute_result"
    }
   ],
   "source": [
    "alexnet.count_params()"
   ]
  },
  {
   "cell_type": "code",
   "execution_count": 33,
   "metadata": {
    "execution": {
     "iopub.execute_input": "2023-08-27T19:02:16.684537Z",
     "iopub.status.busy": "2023-08-27T19:02:16.683296Z",
     "iopub.status.idle": "2023-08-27T20:05:19.929404Z",
     "shell.execute_reply": "2023-08-27T20:05:19.928353Z",
     "shell.execute_reply.started": "2023-08-27T19:02:16.684490Z"
    }
   },
   "outputs": [
    {
     "name": "stdout",
     "output_type": "stream",
     "text": [
      "Epoch 1/50\n"
     ]
    },
    {
     "name": "stderr",
     "output_type": "stream",
     "text": [
      "2023-08-27 19:02:19.307003: E tensorflow/core/grappler/optimizers/meta_optimizer.cc:954] layout failed: INVALID_ARGUMENT: Size of values 0 does not match size of permutation 4 @ fanin shape inAlexNet/spatial_dropout2d_6/dropout/SelectV2-2-TransposeNHWCToNCHW-LayoutOptimizer\n"
     ]
    },
    {
     "name": "stdout",
     "output_type": "stream",
     "text": [
      "202/202 - 79s - loss: 2.4351 - categorical_accuracy: 0.2892 - auc: 0.7995 - precision: 0.4847 - recall: 0.1603 - val_loss: 6.0100 - val_categorical_accuracy: 0.0664 - val_auc: 0.5514 - val_precision: 0.0937 - val_recall: 0.0518 - 79s/epoch - 391ms/step\n",
      "Epoch 2/50\n",
      "202/202 - 74s - loss: 1.1290 - categorical_accuracy: 0.5877 - auc: 0.9460 - precision: 0.7210 - recall: 0.4773 - val_loss: 5.9648 - val_categorical_accuracy: 0.0660 - val_auc: 0.5815 - val_precision: 0.0851 - val_recall: 0.0657 - 74s/epoch - 365ms/step\n",
      "Epoch 3/50\n",
      "202/202 - 72s - loss: 0.5496 - categorical_accuracy: 0.8023 - auc: 0.9833 - precision: 0.8482 - recall: 0.7639 - val_loss: 2.3147 - val_categorical_accuracy: 0.5064 - val_auc: 0.8742 - val_precision: 0.5213 - val_recall: 0.4863 - 72s/epoch - 357ms/step\n",
      "Epoch 4/50\n",
      "202/202 - 73s - loss: 0.3134 - categorical_accuracy: 0.8883 - auc: 0.9927 - precision: 0.9075 - recall: 0.8743 - val_loss: 0.7127 - val_categorical_accuracy: 0.8201 - val_auc: 0.9762 - val_precision: 0.8267 - val_recall: 0.8128 - 73s/epoch - 361ms/step\n",
      "Epoch 5/50\n",
      "202/202 - 75s - loss: 0.2195 - categorical_accuracy: 0.9221 - auc: 0.9960 - precision: 0.9328 - recall: 0.9134 - val_loss: 0.1145 - val_categorical_accuracy: 0.9577 - val_auc: 0.9990 - val_precision: 0.9660 - val_recall: 0.9548 - 75s/epoch - 370ms/step\n",
      "Epoch 6/50\n",
      "202/202 - 73s - loss: 0.1692 - categorical_accuracy: 0.9407 - auc: 0.9973 - precision: 0.9473 - recall: 0.9358 - val_loss: 0.0525 - val_categorical_accuracy: 0.9807 - val_auc: 0.9991 - val_precision: 0.9817 - val_recall: 0.9785 - 73s/epoch - 363ms/step\n",
      "Epoch 7/50\n",
      "202/202 - 71s - loss: 0.1193 - categorical_accuracy: 0.9596 - auc: 0.9980 - precision: 0.9638 - recall: 0.9557 - val_loss: 0.0508 - val_categorical_accuracy: 0.9858 - val_auc: 0.9993 - val_precision: 0.9861 - val_recall: 0.9843 - 71s/epoch - 350ms/step\n",
      "Epoch 8/50\n",
      "202/202 - 70s - loss: 0.1095 - categorical_accuracy: 0.9631 - auc: 0.9980 - precision: 0.9666 - recall: 0.9605 - val_loss: 0.0502 - val_categorical_accuracy: 0.9836 - val_auc: 0.9992 - val_precision: 0.9839 - val_recall: 0.9836 - 70s/epoch - 348ms/step\n",
      "Epoch 9/50\n",
      "202/202 - 70s - loss: 0.0971 - categorical_accuracy: 0.9693 - auc: 0.9981 - precision: 0.9717 - recall: 0.9671 - val_loss: 0.0759 - val_categorical_accuracy: 0.9756 - val_auc: 0.9989 - val_precision: 0.9777 - val_recall: 0.9741 - 70s/epoch - 349ms/step\n",
      "Epoch 10/50\n",
      "202/202 - 70s - loss: 0.0806 - categorical_accuracy: 0.9723 - auc: 0.9987 - precision: 0.9743 - recall: 0.9712 - val_loss: 0.0558 - val_categorical_accuracy: 0.9807 - val_auc: 0.9994 - val_precision: 0.9817 - val_recall: 0.9799 - 70s/epoch - 349ms/step\n",
      "Epoch 11/50\n",
      "202/202 - 71s - loss: 0.0793 - categorical_accuracy: 0.9727 - auc: 0.9989 - precision: 0.9746 - recall: 0.9713 - val_loss: 0.1140 - val_categorical_accuracy: 0.9646 - val_auc: 0.9979 - val_precision: 0.9667 - val_recall: 0.9628 - 71s/epoch - 351ms/step\n",
      "Epoch 12/50\n",
      "202/202 - 71s - loss: 0.0715 - categorical_accuracy: 0.9763 - auc: 0.9989 - precision: 0.9776 - recall: 0.9750 - val_loss: 0.1121 - val_categorical_accuracy: 0.9610 - val_auc: 0.9978 - val_precision: 0.9620 - val_recall: 0.9602 - 71s/epoch - 349ms/step\n",
      "Epoch 13/50\n",
      "202/202 - 70s - loss: 0.0693 - categorical_accuracy: 0.9777 - auc: 0.9985 - precision: 0.9785 - recall: 0.9765 - val_loss: 0.0470 - val_categorical_accuracy: 0.9865 - val_auc: 0.9987 - val_precision: 0.9872 - val_recall: 0.9865 - 70s/epoch - 349ms/step\n",
      "Epoch 14/50\n",
      "202/202 - 71s - loss: 0.0597 - categorical_accuracy: 0.9799 - auc: 0.9990 - precision: 0.9806 - recall: 0.9788 - val_loss: 0.0161 - val_categorical_accuracy: 0.9945 - val_auc: 0.9998 - val_precision: 0.9945 - val_recall: 0.9945 - 71s/epoch - 352ms/step\n",
      "Epoch 15/50\n",
      "202/202 - 71s - loss: 0.0578 - categorical_accuracy: 0.9813 - auc: 0.9991 - precision: 0.9826 - recall: 0.9803 - val_loss: 0.0371 - val_categorical_accuracy: 0.9876 - val_auc: 0.9994 - val_precision: 0.9876 - val_recall: 0.9872 - 71s/epoch - 353ms/step\n",
      "Epoch 16/50\n",
      "202/202 - 72s - loss: 0.0528 - categorical_accuracy: 0.9827 - auc: 0.9989 - precision: 0.9839 - recall: 0.9820 - val_loss: 0.0339 - val_categorical_accuracy: 0.9891 - val_auc: 0.9998 - val_precision: 0.9894 - val_recall: 0.9883 - 72s/epoch - 354ms/step\n",
      "Epoch 17/50\n",
      "202/202 - 71s - loss: 0.0551 - categorical_accuracy: 0.9837 - auc: 0.9987 - precision: 0.9845 - recall: 0.9831 - val_loss: 0.0785 - val_categorical_accuracy: 0.9796 - val_auc: 0.9972 - val_precision: 0.9799 - val_recall: 0.9788 - 71s/epoch - 353ms/step\n",
      "Epoch 18/50\n",
      "202/202 - 72s - loss: 0.0560 - categorical_accuracy: 0.9823 - auc: 0.9989 - precision: 0.9835 - recall: 0.9813 - val_loss: 0.0108 - val_categorical_accuracy: 0.9967 - val_auc: 1.0000 - val_precision: 0.9967 - val_recall: 0.9964 - 72s/epoch - 355ms/step\n",
      "Epoch 19/50\n",
      "202/202 - 73s - loss: 0.0431 - categorical_accuracy: 0.9861 - auc: 0.9991 - precision: 0.9868 - recall: 0.9857 - val_loss: 0.0234 - val_categorical_accuracy: 0.9927 - val_auc: 0.9994 - val_precision: 0.9931 - val_recall: 0.9927 - 73s/epoch - 359ms/step\n",
      "Epoch 20/50\n",
      "202/202 - 72s - loss: 0.0386 - categorical_accuracy: 0.9882 - auc: 0.9993 - precision: 0.9889 - recall: 0.9877 - val_loss: 0.0608 - val_categorical_accuracy: 0.9825 - val_auc: 0.9989 - val_precision: 0.9832 - val_recall: 0.9807 - 72s/epoch - 356ms/step\n",
      "Epoch 21/50\n",
      "202/202 - 71s - loss: 0.0383 - categorical_accuracy: 0.9881 - auc: 0.9994 - precision: 0.9888 - recall: 0.9878 - val_loss: 0.0296 - val_categorical_accuracy: 0.9912 - val_auc: 0.9991 - val_precision: 0.9916 - val_recall: 0.9912 - 71s/epoch - 352ms/step\n",
      "Epoch 22/50\n",
      "202/202 - 71s - loss: 0.0366 - categorical_accuracy: 0.9883 - auc: 0.9994 - precision: 0.9888 - recall: 0.9878 - val_loss: 0.0409 - val_categorical_accuracy: 0.9854 - val_auc: 0.9996 - val_precision: 0.9865 - val_recall: 0.9847 - 71s/epoch - 353ms/step\n",
      "Epoch 23/50\n",
      "202/202 - 71s - loss: 0.0332 - categorical_accuracy: 0.9899 - auc: 0.9994 - precision: 0.9903 - recall: 0.9891 - val_loss: 0.0272 - val_categorical_accuracy: 0.9901 - val_auc: 0.9998 - val_precision: 0.9909 - val_recall: 0.9898 - 71s/epoch - 351ms/step\n",
      "Epoch 24/50\n",
      "202/202 - 72s - loss: 0.0419 - categorical_accuracy: 0.9884 - auc: 0.9991 - precision: 0.9887 - recall: 0.9879 - val_loss: 0.0089 - val_categorical_accuracy: 0.9967 - val_auc: 1.0000 - val_precision: 0.9974 - val_recall: 0.9967 - 72s/epoch - 356ms/step\n",
      "Epoch 25/50\n",
      "202/202 - 71s - loss: 0.0410 - categorical_accuracy: 0.9880 - auc: 0.9991 - precision: 0.9886 - recall: 0.9877 - val_loss: 0.0087 - val_categorical_accuracy: 0.9974 - val_auc: 0.9998 - val_precision: 0.9982 - val_recall: 0.9967 - 71s/epoch - 353ms/step\n",
      "Epoch 26/50\n",
      "202/202 - 71s - loss: 0.0284 - categorical_accuracy: 0.9909 - auc: 0.9995 - precision: 0.9912 - recall: 0.9905 - val_loss: 0.0117 - val_categorical_accuracy: 0.9949 - val_auc: 1.0000 - val_precision: 0.9953 - val_recall: 0.9942 - 71s/epoch - 353ms/step\n",
      "Epoch 27/50\n",
      "202/202 - 71s - loss: 0.0478 - categorical_accuracy: 0.9863 - auc: 0.9986 - precision: 0.9867 - recall: 0.9856 - val_loss: 0.0877 - val_categorical_accuracy: 0.9737 - val_auc: 0.9982 - val_precision: 0.9755 - val_recall: 0.9730 - 71s/epoch - 350ms/step\n",
      "Epoch 28/50\n",
      "202/202 - 71s - loss: 0.0306 - categorical_accuracy: 0.9907 - auc: 0.9994 - precision: 0.9910 - recall: 0.9902 - val_loss: 0.0384 - val_categorical_accuracy: 0.9872 - val_auc: 0.9996 - val_precision: 0.9876 - val_recall: 0.9872 - 71s/epoch - 353ms/step\n",
      "Epoch 29/50\n",
      "202/202 - 71s - loss: 0.0380 - categorical_accuracy: 0.9893 - auc: 0.9991 - precision: 0.9898 - recall: 0.9891 - val_loss: 0.0094 - val_categorical_accuracy: 0.9974 - val_auc: 1.0000 - val_precision: 0.9974 - val_recall: 0.9974 - 71s/epoch - 351ms/step\n",
      "Epoch 30/50\n",
      "202/202 - 71s - loss: 0.0253 - categorical_accuracy: 0.9926 - auc: 0.9994 - precision: 0.9929 - recall: 0.9925 - val_loss: 0.0274 - val_categorical_accuracy: 0.9920 - val_auc: 0.9996 - val_precision: 0.9920 - val_recall: 0.9916 - 71s/epoch - 351ms/step\n",
      "Epoch 31/50\n",
      "202/202 - 72s - loss: 0.0242 - categorical_accuracy: 0.9933 - auc: 0.9995 - precision: 0.9934 - recall: 0.9930 - val_loss: 0.0251 - val_categorical_accuracy: 0.9934 - val_auc: 0.9996 - val_precision: 0.9934 - val_recall: 0.9934 - 72s/epoch - 355ms/step\n",
      "Epoch 32/50\n",
      "202/202 - 72s - loss: 0.0257 - categorical_accuracy: 0.9924 - auc: 0.9993 - precision: 0.9927 - recall: 0.9922 - val_loss: 0.0027 - val_categorical_accuracy: 0.9985 - val_auc: 1.0000 - val_precision: 0.9985 - val_recall: 0.9985 - 72s/epoch - 355ms/step\n",
      "Epoch 33/50\n",
      "202/202 - 71s - loss: 0.0214 - categorical_accuracy: 0.9938 - auc: 0.9996 - precision: 0.9940 - recall: 0.9936 - val_loss: 0.0308 - val_categorical_accuracy: 0.9909 - val_auc: 0.9992 - val_precision: 0.9909 - val_recall: 0.9909 - 71s/epoch - 353ms/step\n",
      "Epoch 34/50\n",
      "202/202 - 72s - loss: 0.0197 - categorical_accuracy: 0.9936 - auc: 0.9997 - precision: 0.9941 - recall: 0.9934 - val_loss: 0.0322 - val_categorical_accuracy: 0.9909 - val_auc: 0.9996 - val_precision: 0.9912 - val_recall: 0.9905 - 72s/epoch - 355ms/step\n",
      "Epoch 35/50\n",
      "202/202 - 72s - loss: 0.0300 - categorical_accuracy: 0.9902 - auc: 0.9994 - precision: 0.9906 - recall: 0.9901 - val_loss: 0.0134 - val_categorical_accuracy: 0.9953 - val_auc: 0.9998 - val_precision: 0.9953 - val_recall: 0.9953 - 72s/epoch - 356ms/step\n",
      "Epoch 36/50\n",
      "202/202 - 71s - loss: 0.0260 - categorical_accuracy: 0.9923 - auc: 0.9993 - precision: 0.9924 - recall: 0.9923 - val_loss: 0.0266 - val_categorical_accuracy: 0.9909 - val_auc: 0.9998 - val_precision: 0.9909 - val_recall: 0.9909 - 71s/epoch - 352ms/step\n",
      "Epoch 37/50\n",
      "202/202 - 71s - loss: 0.0553 - categorical_accuracy: 0.9868 - auc: 0.9986 - precision: 0.9874 - recall: 0.9865 - val_loss: 0.0169 - val_categorical_accuracy: 0.9949 - val_auc: 0.9996 - val_precision: 0.9953 - val_recall: 0.9949 - 71s/epoch - 351ms/step\n",
      "Epoch 38/50\n",
      "202/202 - 72s - loss: 0.0305 - categorical_accuracy: 0.9919 - auc: 0.9992 - precision: 0.9921 - recall: 0.9916 - val_loss: 0.0332 - val_categorical_accuracy: 0.9905 - val_auc: 0.9991 - val_precision: 0.9905 - val_recall: 0.9905 - 72s/epoch - 356ms/step\n",
      "Epoch 39/50\n",
      "202/202 - 73s - loss: 0.0344 - categorical_accuracy: 0.9899 - auc: 0.9993 - precision: 0.9904 - recall: 0.9895 - val_loss: 0.0153 - val_categorical_accuracy: 0.9945 - val_auc: 1.0000 - val_precision: 0.9949 - val_recall: 0.9942 - 73s/epoch - 361ms/step\n",
      "Epoch 40/50\n",
      "202/202 - 73s - loss: 0.0169 - categorical_accuracy: 0.9949 - auc: 0.9997 - precision: 0.9953 - recall: 0.9946 - val_loss: 0.0370 - val_categorical_accuracy: 0.9905 - val_auc: 0.9991 - val_precision: 0.9905 - val_recall: 0.9901 - 73s/epoch - 359ms/step\n",
      "Epoch 41/50\n",
      "202/202 - 72s - loss: 0.0230 - categorical_accuracy: 0.9928 - auc: 0.9997 - precision: 0.9930 - recall: 0.9926 - val_loss: 0.0227 - val_categorical_accuracy: 0.9920 - val_auc: 0.9998 - val_precision: 0.9920 - val_recall: 0.9920 - 72s/epoch - 356ms/step\n",
      "Epoch 42/50\n",
      "202/202 - 71s - loss: 0.0163 - categorical_accuracy: 0.9958 - auc: 0.9996 - precision: 0.9960 - recall: 0.9957 - val_loss: 0.0056 - val_categorical_accuracy: 0.9974 - val_auc: 1.0000 - val_precision: 0.9982 - val_recall: 0.9974 - 71s/epoch - 354ms/step\n",
      "Epoch 43/50\n",
      "202/202 - 71s - loss: 0.0119 - categorical_accuracy: 0.9968 - auc: 0.9998 - precision: 0.9970 - recall: 0.9968 - val_loss: 0.0041 - val_categorical_accuracy: 0.9985 - val_auc: 1.0000 - val_precision: 0.9985 - val_recall: 0.9982 - 71s/epoch - 354ms/step\n",
      "Epoch 44/50\n",
      "202/202 - 71s - loss: 0.0134 - categorical_accuracy: 0.9961 - auc: 0.9998 - precision: 0.9964 - recall: 0.9960 - val_loss: 0.0158 - val_categorical_accuracy: 0.9953 - val_auc: 0.9998 - val_precision: 0.9956 - val_recall: 0.9949 - 71s/epoch - 353ms/step\n",
      "Epoch 45/50\n",
      "202/202 - 70s - loss: 0.0111 - categorical_accuracy: 0.9964 - auc: 0.9998 - precision: 0.9966 - recall: 0.9964 - val_loss: 0.0117 - val_categorical_accuracy: 0.9960 - val_auc: 0.9998 - val_precision: 0.9964 - val_recall: 0.9960 - 70s/epoch - 347ms/step\n",
      "Epoch 46/50\n",
      "202/202 - 71s - loss: 0.0166 - categorical_accuracy: 0.9954 - auc: 0.9997 - precision: 0.9955 - recall: 0.9954 - val_loss: 0.0141 - val_categorical_accuracy: 0.9960 - val_auc: 0.9995 - val_precision: 0.9960 - val_recall: 0.9956 - 71s/epoch - 350ms/step\n",
      "Epoch 47/50\n",
      "202/202 - 71s - loss: 0.0114 - categorical_accuracy: 0.9969 - auc: 0.9998 - precision: 0.9970 - recall: 0.9968 - val_loss: 0.0334 - val_categorical_accuracy: 0.9887 - val_auc: 0.9996 - val_precision: 0.9887 - val_recall: 0.9887 - 71s/epoch - 350ms/step\n",
      "Epoch 48/50\n",
      "202/202 - 70s - loss: 0.0227 - categorical_accuracy: 0.9944 - auc: 0.9994 - precision: 0.9948 - recall: 0.9942 - val_loss: 0.0157 - val_categorical_accuracy: 0.9956 - val_auc: 0.9996 - val_precision: 0.9956 - val_recall: 0.9956 - 70s/epoch - 347ms/step\n",
      "Epoch 49/50\n",
      "202/202 - 70s - loss: 0.0174 - categorical_accuracy: 0.9954 - auc: 0.9997 - precision: 0.9955 - recall: 0.9952 - val_loss: 0.0178 - val_categorical_accuracy: 0.9942 - val_auc: 0.9996 - val_precision: 0.9953 - val_recall: 0.9942 - 70s/epoch - 346ms/step\n",
      "Epoch 50/50\n",
      "202/202 - 70s - loss: 0.0172 - categorical_accuracy: 0.9951 - auc: 0.9995 - precision: 0.9951 - recall: 0.9948 - val_loss: 0.0089 - val_categorical_accuracy: 0.9971 - val_auc: 1.0000 - val_precision: 0.9978 - val_recall: 0.9964 - 70s/epoch - 347ms/step\n",
      "===================================\n",
      "50 epochs in 63.053964948654176 min\n"
     ]
    }
   ],
   "source": [
    "start = time()\n",
    "alexnet_hist = alexnet.fit(train_gen, steps_per_epoch=train_steps, \n",
    "                    validation_data=val_gen,\n",
    "                    validation_steps=val_steps,\n",
    "                    epochs=50, verbose=2)\n",
    "end = time()\n",
    "print(\"===================================\")\n",
    "print(f'50 epochs in {(end-start)/60} min')"
   ]
  },
  {
   "cell_type": "code",
   "execution_count": 34,
   "metadata": {
    "execution": {
     "iopub.execute_input": "2023-08-27T20:08:46.089308Z",
     "iopub.status.busy": "2023-08-27T20:08:46.088246Z",
     "iopub.status.idle": "2023-08-27T20:08:46.099919Z",
     "shell.execute_reply": "2023-08-27T20:08:46.098850Z",
     "shell.execute_reply.started": "2023-08-27T20:08:46.089270Z"
    }
   },
   "outputs": [],
   "source": [
    "hist_df = pd.DataFrame(alexnet_hist.history)\n",
    "hist_json_file = 'AlexNet_50ep_history.json' \n",
    "with open(hist_json_file, mode='w') as f:\n",
    "    hist_df.to_json(f)"
   ]
  },
  {
   "cell_type": "code",
   "execution_count": 154,
   "metadata": {
    "execution": {
     "iopub.execute_input": "2023-05-27T22:11:24.611977Z",
     "iopub.status.busy": "2023-05-27T22:11:24.611304Z",
     "iopub.status.idle": "2023-05-27T22:11:25.108159Z",
     "shell.execute_reply": "2023-05-27T22:11:25.107204Z",
     "shell.execute_reply.started": "2023-05-27T22:11:24.611941Z"
    }
   },
   "outputs": [],
   "source": [
    "alexnet.save_weights('AlexNet.hdf5')"
   ]
  },
  {
   "cell_type": "code",
   "execution_count": 35,
   "metadata": {
    "execution": {
     "iopub.execute_input": "2023-08-27T20:08:52.864671Z",
     "iopub.status.busy": "2023-08-27T20:08:52.864179Z",
     "iopub.status.idle": "2023-08-27T20:09:33.885496Z",
     "shell.execute_reply": "2023-08-27T20:09:33.884337Z",
     "shell.execute_reply.started": "2023-08-27T20:08:52.864629Z"
    }
   },
   "outputs": [
    {
     "name": "stdout",
     "output_type": "stream",
     "text": [
      "2815/2815 [==============================] - 26s 9ms/step - loss: 0.8476 - categorical_accuracy: 0.9648 - auc: 0.9662 - precision: 0.9648 - recall: 0.9648\n"
     ]
    },
    {
     "data": {
      "text/plain": [
       "[0.8476091623306274,\n",
       " 0.9648312330245972,\n",
       " 0.9661738872528076,\n",
       " 0.9648312330245972,\n",
       " 0.9648312330245972]"
      ]
     },
     "execution_count": 35,
     "metadata": {},
     "output_type": "execute_result"
    }
   ],
   "source": [
    "alexnet.evaluate(test_gen)"
   ]
  },
  {
   "cell_type": "code",
   "execution_count": 36,
   "metadata": {
    "execution": {
     "iopub.execute_input": "2023-08-27T20:09:33.889464Z",
     "iopub.status.busy": "2023-08-27T20:09:33.889140Z",
     "iopub.status.idle": "2023-08-27T20:09:49.556443Z",
     "shell.execute_reply": "2023-08-27T20:09:49.555401Z",
     "shell.execute_reply.started": "2023-08-27T20:09:33.889435Z"
    }
   },
   "outputs": [
    {
     "name": "stdout",
     "output_type": "stream",
     "text": [
      "2815/2815 [==============================] - 14s 5ms/step\n",
      "[[[2623    6]\n",
      "  [   2  184]]\n",
      "\n",
      " [[2629    0]\n",
      "  [   2  184]]\n",
      "\n",
      " [[2629    0]\n",
      "  [   9  177]]\n",
      "\n",
      " [[2608   21]\n",
      "  [   0  186]]\n",
      "\n",
      " [[2578   51]\n",
      "  [   0  186]]\n",
      "\n",
      " [[2621    8]\n",
      "  [   1  185]]\n",
      "\n",
      " [[2626    3]\n",
      "  [   1  185]]\n",
      "\n",
      " [[2629    0]\n",
      "  [  10  176]]\n",
      "\n",
      " [[2623    6]\n",
      "  [  14  172]]\n",
      "\n",
      " [[2629    0]\n",
      "  [   0  186]]\n",
      "\n",
      " [[2625    4]\n",
      "  [   0  186]]\n",
      "\n",
      " [[2629    0]\n",
      "  [   0  186]]\n",
      "\n",
      " [[2629    0]\n",
      "  [   1  185]]\n",
      "\n",
      " [[2754    0]\n",
      "  [  59    2]]\n",
      "\n",
      " [[2753    0]\n",
      "  [   0   62]]\n",
      "\n",
      " [[2541    0]\n",
      "  [   0  274]]]\n",
      "              precision    recall  f1-score   support\n",
      "\n",
      "           0       0.97      0.99      0.98       186\n",
      "           1       1.00      0.99      0.99       186\n",
      "           2       1.00      0.95      0.98       186\n",
      "           3       0.90      1.00      0.95       186\n",
      "           4       0.78      1.00      0.88       186\n",
      "           5       0.96      0.99      0.98       186\n",
      "           6       0.98      0.99      0.99       186\n",
      "           7       1.00      0.95      0.97       186\n",
      "           8       0.97      0.92      0.95       186\n",
      "           9       1.00      1.00      1.00       186\n",
      "          10       0.98      1.00      0.99       186\n",
      "          11       1.00      1.00      1.00       186\n",
      "          12       1.00      0.99      1.00       186\n",
      "          13       1.00      0.03      0.06        61\n",
      "          14       1.00      1.00      1.00        62\n",
      "          15       1.00      1.00      1.00       274\n",
      "\n",
      "    accuracy                           0.96      2815\n",
      "   macro avg       0.97      0.93      0.92      2815\n",
      "weighted avg       0.97      0.96      0.96      2815\n",
      "\n"
     ]
    }
   ],
   "source": [
    "report(alexnet)"
   ]
  },
  {
   "cell_type": "markdown",
   "metadata": {},
   "source": [
    "## VGG"
   ]
  },
  {
   "cell_type": "code",
   "execution_count": 37,
   "metadata": {
    "execution": {
     "iopub.execute_input": "2023-08-27T20:11:09.945131Z",
     "iopub.status.busy": "2023-08-27T20:11:09.944714Z",
     "iopub.status.idle": "2023-08-27T20:11:09.956678Z",
     "shell.execute_reply": "2023-08-27T20:11:09.955660Z",
     "shell.execute_reply.started": "2023-08-27T20:11:09.945100Z"
    }
   },
   "outputs": [],
   "source": [
    "def conv_2(x,filters,kernel_size,activation):\n",
    "    x = Conv2D(filters, kernel_size=kernel_size, padding='same', activation=activation)(x)\n",
    "    x = Conv2D(filters, kernel_size=kernel_size, padding='same', activation=activation)(x)\n",
    "    x = MaxPool2D(pool_size=2, strides=2, padding='same')(x)\n",
    "    return x\n",
    "\n",
    "def conv_3(x,filters,kernel_size,activation):\n",
    "    x = Conv2D(filters, kernel_size=kernel_size, padding='same', activation=activation)(x)\n",
    "    x = Conv2D(filters, kernel_size=kernel_size, padding='same', activation=activation)(x)\n",
    "    x = Conv2D(filters, kernel_size=kernel_size, padding='same', activation=activation)(x)\n",
    "    x = MaxPool2D(pool_size=2, strides=2, padding='same')(x)\n",
    "    return x\n",
    "\n",
    "def conv_4(x,filters,kernel_size,activation):\n",
    "    x = Conv2D(filters, kernel_size=kernel_size, padding='same', activation=activation)(x)\n",
    "    x = Conv2D(filters, kernel_size=kernel_size, padding='same', activation=activation)(x)\n",
    "    x = Conv2D(filters, kernel_size=kernel_size, padding='same', activation=activation)(x)\n",
    "    x = Conv2D(filters, kernel_size=kernel_size, padding='same', activation=activation)(x)\n",
    "    x = MaxPool2D(pool_size=2, strides=2, padding='same')(x)\n",
    "    return x\n",
    "\n",
    "def FC(x,units,activation):\n",
    "    x = Flatten()(x) \n",
    "    x = Dense(units = units, activation =activation)(x)\n",
    "    x = Dropout(0.5)(x)\n",
    "    x = Dense(units = units, activation =activation)(x)\n",
    "    x = Dropout(0.5)(x)\n",
    "    x = Dense(units = 16, activation ='softmax')(x)\n",
    "    return x"
   ]
  },
  {
   "cell_type": "markdown",
   "metadata": {},
   "source": [
    "### VGG16"
   ]
  },
  {
   "cell_type": "code",
   "execution_count": 38,
   "metadata": {
    "execution": {
     "iopub.execute_input": "2023-08-27T20:11:14.870249Z",
     "iopub.status.busy": "2023-08-27T20:11:14.869087Z",
     "iopub.status.idle": "2023-08-27T20:11:14.878301Z",
     "shell.execute_reply": "2023-08-27T20:11:14.877296Z",
     "shell.execute_reply.started": "2023-08-27T20:11:14.870195Z"
    }
   },
   "outputs": [],
   "source": [
    "def VGG16(input_shape):\n",
    "    \n",
    "    input = Input(shape=input_shape)\n",
    "    \n",
    "    filters = 64\n",
    "    kernel_same = 3\n",
    "    act = 'relu'\n",
    "    \n",
    "    x = conv_2(input,filters,kernel_same,act)\n",
    "    x = conv_2(x,filters*2,kernel_same,act)\n",
    "    x = tf.keras.layers.SpatialDropout2D(0.2)(x)\n",
    "    x = conv_3(x,filters*4,kernel_same,act)\n",
    "    x = conv_3(x,filters*8,kernel_same,act)\n",
    "    x = tf.keras.layers.SpatialDropout2D(0.2)(x)\n",
    "    x = conv_3(x,filters*8,kernel_same,act)\n",
    "    \n",
    "    units = 4096\n",
    "    \n",
    "    output = FC(x,units,act)\n",
    "    \n",
    "    model = Model(inputs=input, outputs=output, name='VGG16')\n",
    "    \n",
    "    return model"
   ]
  },
  {
   "cell_type": "code",
   "execution_count": 39,
   "metadata": {
    "execution": {
     "iopub.execute_input": "2023-08-27T20:11:24.475024Z",
     "iopub.status.busy": "2023-08-27T20:11:24.474289Z",
     "iopub.status.idle": "2023-08-27T20:11:24.694375Z",
     "shell.execute_reply": "2023-08-27T20:11:24.693388Z",
     "shell.execute_reply.started": "2023-08-27T20:11:24.474988Z"
    }
   },
   "outputs": [],
   "source": [
    "vgg16 = VGG16(input_shape=(256,256,3))\n",
    "vgg16.compile(optimizer=tf.keras.optimizers.Adam(learning_rate=1e-5), loss='categorical_crossentropy', metrics=[cat_acc,auc_roc,prec,recall])"
   ]
  },
  {
   "cell_type": "code",
   "execution_count": 40,
   "metadata": {
    "execution": {
     "iopub.execute_input": "2023-08-27T20:11:25.344097Z",
     "iopub.status.busy": "2023-08-27T20:11:25.343716Z",
     "iopub.status.idle": "2023-08-27T20:11:25.352410Z",
     "shell.execute_reply": "2023-08-27T20:11:25.351385Z",
     "shell.execute_reply.started": "2023-08-27T20:11:25.344066Z"
    }
   },
   "outputs": [
    {
     "data": {
      "text/plain": [
       "165783376"
      ]
     },
     "execution_count": 40,
     "metadata": {},
     "output_type": "execute_result"
    }
   ],
   "source": [
    "vgg16.count_params()"
   ]
  },
  {
   "cell_type": "code",
   "execution_count": 41,
   "metadata": {
    "execution": {
     "iopub.execute_input": "2023-08-27T20:11:33.555596Z",
     "iopub.status.busy": "2023-08-27T20:11:33.554854Z",
     "iopub.status.idle": "2023-08-27T22:29:47.652203Z",
     "shell.execute_reply": "2023-08-27T22:29:47.651114Z",
     "shell.execute_reply.started": "2023-08-27T20:11:33.555559Z"
    }
   },
   "outputs": [
    {
     "name": "stdout",
     "output_type": "stream",
     "text": [
      "Epoch 1/50\n"
     ]
    },
    {
     "name": "stderr",
     "output_type": "stream",
     "text": [
      "2023-08-27 20:11:36.491384: E tensorflow/core/grappler/optimizers/meta_optimizer.cc:954] layout failed: INVALID_ARGUMENT: Size of values 0 does not match size of permutation 4 @ fanin shape inVGG16/spatial_dropout2d_9/dropout/SelectV2-2-TransposeNHWCToNCHW-LayoutOptimizer\n"
     ]
    },
    {
     "name": "stdout",
     "output_type": "stream",
     "text": [
      "202/202 - 182s - loss: 2.4944 - categorical_accuracy: 0.3055 - auc: 0.7750 - precision: 0.9479 - recall: 0.2071 - val_loss: 1.7681 - val_categorical_accuracy: 0.3521 - val_auc: 0.8991 - val_precision: 1.0000 - val_recall: 0.1040 - 182s/epoch - 899ms/step\n",
      "Epoch 2/50\n",
      "202/202 - 150s - loss: 1.5180 - categorical_accuracy: 0.4431 - auc: 0.9058 - precision: 0.7561 - recall: 0.2406 - val_loss: 0.8948 - val_categorical_accuracy: 0.6753 - val_auc: 0.9652 - val_precision: 0.9129 - val_recall: 0.4743 - 150s/epoch - 745ms/step\n",
      "Epoch 3/50\n",
      "202/202 - 151s - loss: 0.8101 - categorical_accuracy: 0.6951 - auc: 0.9684 - precision: 0.8348 - recall: 0.5799 - val_loss: 0.3613 - val_categorical_accuracy: 0.8880 - val_auc: 0.9946 - val_precision: 0.9524 - val_recall: 0.8107 - 151s/epoch - 746ms/step\n",
      "Epoch 4/50\n",
      "202/202 - 152s - loss: 0.4152 - categorical_accuracy: 0.8420 - auc: 0.9899 - precision: 0.8907 - recall: 0.7998 - val_loss: 0.1931 - val_categorical_accuracy: 0.9362 - val_auc: 0.9979 - val_precision: 0.9545 - val_recall: 0.9183 - 152s/epoch - 751ms/step\n",
      "Epoch 5/50\n",
      "202/202 - 152s - loss: 0.2535 - categorical_accuracy: 0.9094 - auc: 0.9954 - precision: 0.9279 - recall: 0.8906 - val_loss: 0.1323 - val_categorical_accuracy: 0.9566 - val_auc: 0.9983 - val_precision: 0.9609 - val_recall: 0.9515 - 152s/epoch - 751ms/step\n",
      "Epoch 6/50\n",
      "202/202 - 152s - loss: 0.1911 - categorical_accuracy: 0.9338 - auc: 0.9966 - precision: 0.9445 - recall: 0.9236 - val_loss: 0.0858 - val_categorical_accuracy: 0.9715 - val_auc: 0.9990 - val_precision: 0.9754 - val_recall: 0.9679 - 152s/epoch - 751ms/step\n",
      "Epoch 7/50\n",
      "202/202 - 152s - loss: 0.1355 - categorical_accuracy: 0.9528 - auc: 0.9981 - precision: 0.9592 - recall: 0.9463 - val_loss: 0.0766 - val_categorical_accuracy: 0.9759 - val_auc: 0.9993 - val_precision: 0.9794 - val_recall: 0.9723 - 152s/epoch - 751ms/step\n",
      "Epoch 8/50\n",
      "202/202 - 151s - loss: 0.1168 - categorical_accuracy: 0.9601 - auc: 0.9987 - precision: 0.9648 - recall: 0.9548 - val_loss: 0.0592 - val_categorical_accuracy: 0.9836 - val_auc: 0.9991 - val_precision: 0.9843 - val_recall: 0.9814 - 151s/epoch - 749ms/step\n",
      "Epoch 9/50\n",
      "202/202 - 152s - loss: 0.0969 - categorical_accuracy: 0.9664 - auc: 0.9988 - precision: 0.9702 - recall: 0.9631 - val_loss: 0.0587 - val_categorical_accuracy: 0.9839 - val_auc: 0.9991 - val_precision: 0.9846 - val_recall: 0.9821 - 152s/epoch - 751ms/step\n",
      "Epoch 10/50\n",
      "202/202 - 153s - loss: 0.0750 - categorical_accuracy: 0.9748 - auc: 0.9992 - precision: 0.9776 - recall: 0.9715 - val_loss: 0.0274 - val_categorical_accuracy: 0.9934 - val_auc: 0.9997 - val_precision: 0.9942 - val_recall: 0.9931 - 153s/epoch - 756ms/step\n",
      "Epoch 11/50\n",
      "202/202 - 152s - loss: 0.0646 - categorical_accuracy: 0.9772 - auc: 0.9995 - precision: 0.9790 - recall: 0.9754 - val_loss: 0.0414 - val_categorical_accuracy: 0.9880 - val_auc: 0.9994 - val_precision: 0.9879 - val_recall: 0.9865 - 152s/epoch - 752ms/step\n",
      "Epoch 12/50\n",
      "202/202 - 152s - loss: 0.0594 - categorical_accuracy: 0.9802 - auc: 0.9994 - precision: 0.9811 - recall: 0.9782 - val_loss: 0.0252 - val_categorical_accuracy: 0.9909 - val_auc: 1.0000 - val_precision: 0.9912 - val_recall: 0.9901 - 152s/epoch - 752ms/step\n",
      "Epoch 13/50\n",
      "202/202 - 152s - loss: 0.0510 - categorical_accuracy: 0.9834 - auc: 0.9996 - precision: 0.9844 - recall: 0.9821 - val_loss: 0.0229 - val_categorical_accuracy: 0.9931 - val_auc: 0.9998 - val_precision: 0.9934 - val_recall: 0.9927 - 152s/epoch - 754ms/step\n",
      "Epoch 14/50\n",
      "202/202 - 152s - loss: 0.0468 - categorical_accuracy: 0.9847 - auc: 0.9996 - precision: 0.9859 - recall: 0.9836 - val_loss: 0.0245 - val_categorical_accuracy: 0.9927 - val_auc: 1.0000 - val_precision: 0.9927 - val_recall: 0.9916 - 152s/epoch - 754ms/step\n",
      "Epoch 15/50\n",
      "202/202 - 152s - loss: 0.0422 - categorical_accuracy: 0.9856 - auc: 0.9995 - precision: 0.9863 - recall: 0.9844 - val_loss: 0.0242 - val_categorical_accuracy: 0.9938 - val_auc: 0.9994 - val_precision: 0.9945 - val_recall: 0.9934 - 152s/epoch - 752ms/step\n",
      "Epoch 16/50\n",
      "202/202 - 152s - loss: 0.0373 - categorical_accuracy: 0.9878 - auc: 0.9998 - precision: 0.9881 - recall: 0.9871 - val_loss: 0.0242 - val_categorical_accuracy: 0.9927 - val_auc: 0.9998 - val_precision: 0.9927 - val_recall: 0.9927 - 152s/epoch - 754ms/step\n",
      "Epoch 17/50\n",
      "202/202 - 152s - loss: 0.0316 - categorical_accuracy: 0.9899 - auc: 0.9998 - precision: 0.9905 - recall: 0.9893 - val_loss: 0.0365 - val_categorical_accuracy: 0.9858 - val_auc: 0.9994 - val_precision: 0.9861 - val_recall: 0.9854 - 152s/epoch - 755ms/step\n",
      "Epoch 18/50\n",
      "202/202 - 152s - loss: 0.0304 - categorical_accuracy: 0.9896 - auc: 0.9998 - precision: 0.9897 - recall: 0.9893 - val_loss: 0.0172 - val_categorical_accuracy: 0.9949 - val_auc: 0.9998 - val_precision: 0.9949 - val_recall: 0.9945 - 152s/epoch - 753ms/step\n",
      "Epoch 19/50\n",
      "202/202 - 152s - loss: 0.0382 - categorical_accuracy: 0.9866 - auc: 0.9997 - precision: 0.9873 - recall: 0.9858 - val_loss: 0.0270 - val_categorical_accuracy: 0.9909 - val_auc: 0.9994 - val_precision: 0.9912 - val_recall: 0.9909 - 152s/epoch - 755ms/step\n",
      "Epoch 20/50\n",
      "202/202 - 152s - loss: 0.0245 - categorical_accuracy: 0.9921 - auc: 0.9998 - precision: 0.9929 - recall: 0.9917 - val_loss: 0.0333 - val_categorical_accuracy: 0.9880 - val_auc: 0.9996 - val_precision: 0.9880 - val_recall: 0.9880 - 152s/epoch - 753ms/step\n",
      "Epoch 21/50\n",
      "202/202 - 152s - loss: 0.0291 - categorical_accuracy: 0.9906 - auc: 0.9996 - precision: 0.9915 - recall: 0.9905 - val_loss: 0.0281 - val_categorical_accuracy: 0.9920 - val_auc: 0.9994 - val_precision: 0.9923 - val_recall: 0.9920 - 152s/epoch - 753ms/step\n",
      "Epoch 22/50\n",
      "202/202 - 158s - loss: 0.0202 - categorical_accuracy: 0.9936 - auc: 0.9999 - precision: 0.9939 - recall: 0.9932 - val_loss: 0.0295 - val_categorical_accuracy: 0.9883 - val_auc: 0.9998 - val_precision: 0.9890 - val_recall: 0.9883 - 158s/epoch - 783ms/step\n",
      "Epoch 23/50\n",
      "202/202 - 152s - loss: 0.0234 - categorical_accuracy: 0.9926 - auc: 0.9998 - precision: 0.9927 - recall: 0.9923 - val_loss: 0.0264 - val_categorical_accuracy: 0.9927 - val_auc: 0.9994 - val_precision: 0.9927 - val_recall: 0.9927 - 152s/epoch - 754ms/step\n",
      "Epoch 24/50\n",
      "202/202 - 152s - loss: 0.0266 - categorical_accuracy: 0.9905 - auc: 0.9998 - precision: 0.9909 - recall: 0.9903 - val_loss: 0.0168 - val_categorical_accuracy: 0.9956 - val_auc: 0.9998 - val_precision: 0.9956 - val_recall: 0.9956 - 152s/epoch - 753ms/step\n",
      "Epoch 25/50\n",
      "202/202 - 152s - loss: 0.0134 - categorical_accuracy: 0.9950 - auc: 0.9999 - precision: 0.9953 - recall: 0.9946 - val_loss: 0.0172 - val_categorical_accuracy: 0.9945 - val_auc: 0.9998 - val_precision: 0.9945 - val_recall: 0.9945 - 152s/epoch - 754ms/step\n",
      "Epoch 26/50\n",
      "202/202 - 153s - loss: 0.0187 - categorical_accuracy: 0.9953 - auc: 0.9997 - precision: 0.9954 - recall: 0.9953 - val_loss: 0.0207 - val_categorical_accuracy: 0.9931 - val_auc: 0.9996 - val_precision: 0.9931 - val_recall: 0.9923 - 153s/epoch - 756ms/step\n",
      "Epoch 27/50\n",
      "202/202 - 151s - loss: 0.0165 - categorical_accuracy: 0.9946 - auc: 0.9999 - precision: 0.9947 - recall: 0.9943 - val_loss: 0.0215 - val_categorical_accuracy: 0.9945 - val_auc: 0.9994 - val_precision: 0.9945 - val_recall: 0.9942 - 151s/epoch - 749ms/step\n",
      "Epoch 28/50\n",
      "202/202 - 152s - loss: 0.0187 - categorical_accuracy: 0.9943 - auc: 0.9997 - precision: 0.9946 - recall: 0.9941 - val_loss: 0.0343 - val_categorical_accuracy: 0.9894 - val_auc: 0.9994 - val_precision: 0.9894 - val_recall: 0.9894 - 152s/epoch - 753ms/step\n",
      "Epoch 29/50\n",
      "202/202 - 152s - loss: 0.0143 - categorical_accuracy: 0.9952 - auc: 0.9999 - precision: 0.9955 - recall: 0.9948 - val_loss: 0.0176 - val_categorical_accuracy: 0.9956 - val_auc: 0.9996 - val_precision: 0.9956 - val_recall: 0.9956 - 152s/epoch - 752ms/step\n",
      "Epoch 30/50\n",
      "202/202 - 152s - loss: 0.0175 - categorical_accuracy: 0.9943 - auc: 0.9997 - precision: 0.9943 - recall: 0.9940 - val_loss: 0.0198 - val_categorical_accuracy: 0.9953 - val_auc: 0.9996 - val_precision: 0.9953 - val_recall: 0.9953 - 152s/epoch - 755ms/step\n",
      "Epoch 31/50\n",
      "202/202 - 153s - loss: 0.0143 - categorical_accuracy: 0.9954 - auc: 0.9999 - precision: 0.9955 - recall: 0.9950 - val_loss: 0.0205 - val_categorical_accuracy: 0.9934 - val_auc: 0.9998 - val_precision: 0.9938 - val_recall: 0.9931 - 153s/epoch - 755ms/step\n",
      "Epoch 32/50\n",
      "202/202 - 152s - loss: 0.0120 - categorical_accuracy: 0.9961 - auc: 0.9998 - precision: 0.9964 - recall: 0.9961 - val_loss: 0.0260 - val_categorical_accuracy: 0.9945 - val_auc: 0.9993 - val_precision: 0.9949 - val_recall: 0.9945 - 152s/epoch - 752ms/step\n",
      "Epoch 33/50\n",
      "202/202 - 152s - loss: 0.0119 - categorical_accuracy: 0.9960 - auc: 0.9999 - precision: 0.9960 - recall: 0.9959 - val_loss: 0.0292 - val_categorical_accuracy: 0.9909 - val_auc: 0.9992 - val_precision: 0.9912 - val_recall: 0.9901 - 152s/epoch - 754ms/step\n",
      "Epoch 34/50\n",
      "202/202 - 152s - loss: 0.0097 - categorical_accuracy: 0.9969 - auc: 0.9999 - precision: 0.9970 - recall: 0.9968 - val_loss: 0.0151 - val_categorical_accuracy: 0.9945 - val_auc: 0.9998 - val_precision: 0.9945 - val_recall: 0.9945 - 152s/epoch - 755ms/step\n",
      "Epoch 35/50\n",
      "202/202 - 152s - loss: 0.0115 - categorical_accuracy: 0.9964 - auc: 0.9999 - precision: 0.9964 - recall: 0.9962 - val_loss: 0.0156 - val_categorical_accuracy: 0.9953 - val_auc: 0.9998 - val_precision: 0.9953 - val_recall: 0.9953 - 152s/epoch - 754ms/step\n",
      "Epoch 36/50\n",
      "202/202 - 152s - loss: 0.0127 - categorical_accuracy: 0.9959 - auc: 0.9998 - precision: 0.9961 - recall: 0.9957 - val_loss: 0.0191 - val_categorical_accuracy: 0.9953 - val_auc: 0.9996 - val_precision: 0.9960 - val_recall: 0.9949 - 152s/epoch - 752ms/step\n",
      "Epoch 37/50\n",
      "202/202 - 153s - loss: 0.0172 - categorical_accuracy: 0.9946 - auc: 0.9998 - precision: 0.9946 - recall: 0.9945 - val_loss: 0.0151 - val_categorical_accuracy: 0.9949 - val_auc: 0.9998 - val_precision: 0.9953 - val_recall: 0.9949 - 153s/epoch - 757ms/step\n",
      "Epoch 38/50\n",
      "202/202 - 152s - loss: 0.0109 - categorical_accuracy: 0.9967 - auc: 0.9999 - precision: 0.9967 - recall: 0.9967 - val_loss: 0.0212 - val_categorical_accuracy: 0.9942 - val_auc: 0.9994 - val_precision: 0.9942 - val_recall: 0.9942 - 152s/epoch - 754ms/step\n",
      "Epoch 39/50\n",
      "202/202 - 152s - loss: 0.0077 - categorical_accuracy: 0.9978 - auc: 1.0000 - precision: 0.9979 - recall: 0.9978 - val_loss: 0.0208 - val_categorical_accuracy: 0.9949 - val_auc: 0.9993 - val_precision: 0.9949 - val_recall: 0.9949 - 152s/epoch - 753ms/step\n",
      "Epoch 40/50\n",
      "202/202 - 152s - loss: 0.0066 - categorical_accuracy: 0.9974 - auc: 1.0000 - precision: 0.9975 - recall: 0.9974 - val_loss: 0.0197 - val_categorical_accuracy: 0.9942 - val_auc: 0.9994 - val_precision: 0.9942 - val_recall: 0.9942 - 152s/epoch - 751ms/step\n",
      "Epoch 41/50\n",
      "202/202 - 152s - loss: 0.0099 - categorical_accuracy: 0.9967 - auc: 1.0000 - precision: 0.9967 - recall: 0.9967 - val_loss: 0.0188 - val_categorical_accuracy: 0.9949 - val_auc: 0.9994 - val_precision: 0.9949 - val_recall: 0.9949 - 152s/epoch - 753ms/step\n",
      "Epoch 42/50\n",
      "202/202 - 152s - loss: 0.0106 - categorical_accuracy: 0.9967 - auc: 0.9999 - precision: 0.9968 - recall: 0.9965 - val_loss: 0.0115 - val_categorical_accuracy: 0.9949 - val_auc: 1.0000 - val_precision: 0.9949 - val_recall: 0.9949 - 152s/epoch - 753ms/step\n",
      "Epoch 43/50\n",
      "202/202 - 152s - loss: 0.0095 - categorical_accuracy: 0.9970 - auc: 0.9999 - precision: 0.9971 - recall: 0.9970 - val_loss: 0.0192 - val_categorical_accuracy: 0.9945 - val_auc: 0.9993 - val_precision: 0.9949 - val_recall: 0.9945 - 152s/epoch - 755ms/step\n",
      "Epoch 44/50\n",
      "202/202 - 152s - loss: 0.0070 - categorical_accuracy: 0.9982 - auc: 0.9999 - precision: 0.9982 - recall: 0.9981 - val_loss: 0.0271 - val_categorical_accuracy: 0.9938 - val_auc: 0.9991 - val_precision: 0.9938 - val_recall: 0.9934 - 152s/epoch - 752ms/step\n",
      "Epoch 45/50\n",
      "202/202 - 153s - loss: 0.0106 - categorical_accuracy: 0.9968 - auc: 0.9999 - precision: 0.9968 - recall: 0.9967 - val_loss: 0.0132 - val_categorical_accuracy: 0.9956 - val_auc: 0.9998 - val_precision: 0.9956 - val_recall: 0.9956 - 153s/epoch - 755ms/step\n",
      "Epoch 46/50\n",
      "202/202 - 158s - loss: 0.0065 - categorical_accuracy: 0.9979 - auc: 1.0000 - precision: 0.9979 - recall: 0.9978 - val_loss: 0.0113 - val_categorical_accuracy: 0.9956 - val_auc: 0.9998 - val_precision: 0.9956 - val_recall: 0.9956 - 158s/epoch - 783ms/step\n",
      "Epoch 47/50\n",
      "202/202 - 152s - loss: 0.0096 - categorical_accuracy: 0.9969 - auc: 1.0000 - precision: 0.9969 - recall: 0.9969 - val_loss: 0.0220 - val_categorical_accuracy: 0.9934 - val_auc: 0.9994 - val_precision: 0.9938 - val_recall: 0.9934 - 152s/epoch - 753ms/step\n",
      "Epoch 48/50\n",
      "202/202 - 152s - loss: 0.0107 - categorical_accuracy: 0.9966 - auc: 0.9999 - precision: 0.9967 - recall: 0.9966 - val_loss: 0.0283 - val_categorical_accuracy: 0.9909 - val_auc: 0.9993 - val_precision: 0.9912 - val_recall: 0.9909 - 152s/epoch - 753ms/step\n",
      "Epoch 49/50\n",
      "202/202 - 152s - loss: 0.0185 - categorical_accuracy: 0.9939 - auc: 0.9998 - precision: 0.9940 - recall: 0.9938 - val_loss: 0.0245 - val_categorical_accuracy: 0.9938 - val_auc: 0.9992 - val_precision: 0.9938 - val_recall: 0.9931 - 152s/epoch - 751ms/step\n",
      "Epoch 50/50\n",
      "202/202 - 152s - loss: 0.0072 - categorical_accuracy: 0.9979 - auc: 0.9999 - precision: 0.9979 - recall: 0.9979 - val_loss: 0.0391 - val_categorical_accuracy: 0.9901 - val_auc: 0.9991 - val_precision: 0.9901 - val_recall: 0.9901 - 152s/epoch - 752ms/step\n",
      "===================================\n",
      "50 epochs in 138.23484905560812 min\n"
     ]
    }
   ],
   "source": [
    "start = time()\n",
    "vgg16_hist = vgg16.fit(train_gen, steps_per_epoch=train_steps, \n",
    "                    validation_data=val_gen,\n",
    "                    validation_steps=val_steps,\n",
    "                    epochs=50, verbose=2)\n",
    "end = time()\n",
    "print(\"===================================\")\n",
    "print(f'50 epochs in {(end-start)/60} min')"
   ]
  },
  {
   "cell_type": "code",
   "execution_count": 42,
   "metadata": {
    "execution": {
     "iopub.execute_input": "2023-08-27T22:34:17.615126Z",
     "iopub.status.busy": "2023-08-27T22:34:17.614713Z",
     "iopub.status.idle": "2023-08-27T22:34:17.624681Z",
     "shell.execute_reply": "2023-08-27T22:34:17.623593Z",
     "shell.execute_reply.started": "2023-08-27T22:34:17.615095Z"
    }
   },
   "outputs": [],
   "source": [
    "hist_df = pd.DataFrame(vgg16_hist.history)\n",
    "hist_json_file = 'VGG16_50ep_history.json' \n",
    "with open(hist_json_file, mode='w') as f:\n",
    "    hist_df.to_json(f)"
   ]
  },
  {
   "cell_type": "code",
   "execution_count": 43,
   "metadata": {
    "execution": {
     "iopub.execute_input": "2023-08-27T22:34:19.694165Z",
     "iopub.status.busy": "2023-08-27T22:34:19.693798Z",
     "iopub.status.idle": "2023-08-27T22:34:50.101187Z",
     "shell.execute_reply": "2023-08-27T22:34:50.100135Z",
     "shell.execute_reply.started": "2023-08-27T22:34:19.694133Z"
    }
   },
   "outputs": [
    {
     "name": "stdout",
     "output_type": "stream",
     "text": [
      "2815/2815 [==============================] - 30s 11ms/step - loss: 58.1734 - categorical_accuracy: 0.5911 - auc: 0.7707 - precision: 0.5911 - recall: 0.5911\n"
     ]
    },
    {
     "data": {
      "text/plain": [
       "[58.173362731933594,\n",
       " 0.5911189913749695,\n",
       " 0.7706522941589355,\n",
       " 0.5911189913749695,\n",
       " 0.5911189913749695]"
      ]
     },
     "execution_count": 43,
     "metadata": {},
     "output_type": "execute_result"
    }
   ],
   "source": [
    "vgg16.evaluate(test_gen)"
   ]
  },
  {
   "cell_type": "code",
   "execution_count": 44,
   "metadata": {
    "execution": {
     "iopub.execute_input": "2023-08-27T22:35:01.159769Z",
     "iopub.status.busy": "2023-08-27T22:35:01.159395Z",
     "iopub.status.idle": "2023-08-27T22:35:22.106640Z",
     "shell.execute_reply": "2023-08-27T22:35:22.105631Z",
     "shell.execute_reply.started": "2023-08-27T22:35:01.159739Z"
    }
   },
   "outputs": [
    {
     "name": "stdout",
     "output_type": "stream",
     "text": [
      "2815/2815 [==============================] - 20s 7ms/step\n",
      "[[[2485  144]\n",
      "  [  78  108]]\n",
      "\n",
      " [[2399  230]\n",
      "  [   0  186]]\n",
      "\n",
      " [[2611   18]\n",
      "  [ 134   52]]\n",
      "\n",
      " [[2537   92]\n",
      "  [  62  124]]\n",
      "\n",
      " [[2629    0]\n",
      "  [ 124   62]]\n",
      "\n",
      " [[2614   15]\n",
      "  [  89   97]]\n",
      "\n",
      " [[2512  117]\n",
      "  [  82  104]]\n",
      "\n",
      " [[2573   56]\n",
      "  [  56  130]]\n",
      "\n",
      " [[2528  101]\n",
      "  [  71  115]]\n",
      "\n",
      " [[2491  138]\n",
      "  [   7  179]]\n",
      "\n",
      " [[2629    0]\n",
      "  [ 162   24]]\n",
      "\n",
      " [[2391  238]\n",
      "  [  31  155]]\n",
      "\n",
      " [[2627    2]\n",
      "  [ 126   60]]\n",
      "\n",
      " [[2754    0]\n",
      "  [  60    1]]\n",
      "\n",
      " [[2753    0]\n",
      "  [  26   36]]\n",
      "\n",
      " [[2541    0]\n",
      "  [  43  231]]]\n",
      "              precision    recall  f1-score   support\n",
      "\n",
      "           0       0.43      0.58      0.49       186\n",
      "           1       0.45      1.00      0.62       186\n",
      "           2       0.74      0.28      0.41       186\n",
      "           3       0.57      0.67      0.62       186\n",
      "           4       1.00      0.33      0.50       186\n",
      "           5       0.87      0.52      0.65       186\n",
      "           6       0.47      0.56      0.51       186\n",
      "           7       0.70      0.70      0.70       186\n",
      "           8       0.53      0.62      0.57       186\n",
      "           9       0.56      0.96      0.71       186\n",
      "          10       1.00      0.13      0.23       186\n",
      "          11       0.39      0.83      0.54       186\n",
      "          12       0.97      0.32      0.48       186\n",
      "          13       1.00      0.02      0.03        61\n",
      "          14       1.00      0.58      0.73        62\n",
      "          15       1.00      0.84      0.91       274\n",
      "\n",
      "    accuracy                           0.59      2815\n",
      "   macro avg       0.73      0.56      0.54      2815\n",
      "weighted avg       0.72      0.59      0.57      2815\n",
      "\n"
     ]
    }
   ],
   "source": [
    "report(vgg16)"
   ]
  },
  {
   "cell_type": "markdown",
   "metadata": {},
   "source": [
    "### VGG19"
   ]
  },
  {
   "cell_type": "code",
   "execution_count": 45,
   "metadata": {
    "execution": {
     "iopub.execute_input": "2023-08-27T22:35:40.864512Z",
     "iopub.status.busy": "2023-08-27T22:35:40.864112Z",
     "iopub.status.idle": "2023-08-27T22:35:40.873422Z",
     "shell.execute_reply": "2023-08-27T22:35:40.871384Z",
     "shell.execute_reply.started": "2023-08-27T22:35:40.864479Z"
    }
   },
   "outputs": [],
   "source": [
    "def VGG19(input_shape):\n",
    "    \n",
    "    input = Input(shape=input_shape)\n",
    "    \n",
    "    filters = 64\n",
    "    kernel_same = 3\n",
    "    act = 'relu'\n",
    "    \n",
    "    x = conv_2(input,filters,kernel_same,act)\n",
    "    x = conv_2(x,filters*2,kernel_same,act)\n",
    "    x = tf.keras.layers.SpatialDropout2D(0.2)(x)\n",
    "    x = conv_4(x,filters*4,kernel_same,act)\n",
    "    x = tf.keras.layers.SpatialDropout2D(0.5)(x)\n",
    "    x = conv_4(x,filters*8,kernel_same,act)\n",
    "    x = tf.keras.layers.SpatialDropout2D(0.2)(x)\n",
    "    x = conv_4(x,filters*8,kernel_same,act)\n",
    "    \n",
    "    units = 4096\n",
    "    \n",
    "    output = FC(x,units,act)\n",
    "    \n",
    "    model = Model(inputs=input, outputs=output)\n",
    "    \n",
    "    return model"
   ]
  },
  {
   "cell_type": "code",
   "execution_count": 46,
   "metadata": {
    "execution": {
     "iopub.execute_input": "2023-08-27T22:35:59.509823Z",
     "iopub.status.busy": "2023-08-27T22:35:59.509386Z",
     "iopub.status.idle": "2023-08-27T22:35:59.765423Z",
     "shell.execute_reply": "2023-08-27T22:35:59.764298Z",
     "shell.execute_reply.started": "2023-08-27T22:35:59.509786Z"
    }
   },
   "outputs": [],
   "source": [
    "vgg19 = VGG19(input_shape=(256,256,3))\n",
    "vgg19.compile(optimizer=tf.keras.optimizers.Adam(learning_rate=1e-5), loss='categorical_crossentropy', metrics=[cat_acc,auc_roc,prec,recall])"
   ]
  },
  {
   "cell_type": "code",
   "execution_count": 47,
   "metadata": {
    "execution": {
     "iopub.execute_input": "2023-08-27T22:36:00.414778Z",
     "iopub.status.busy": "2023-08-27T22:36:00.413531Z",
     "iopub.status.idle": "2023-08-27T22:36:00.424707Z",
     "shell.execute_reply": "2023-08-27T22:36:00.423641Z",
     "shell.execute_reply.started": "2023-08-27T22:36:00.414716Z"
    }
   },
   "outputs": [
    {
     "data": {
      "text/plain": [
       "171093072"
      ]
     },
     "execution_count": 47,
     "metadata": {},
     "output_type": "execute_result"
    }
   ],
   "source": [
    "vgg19.count_params()"
   ]
  },
  {
   "cell_type": "code",
   "execution_count": 48,
   "metadata": {
    "execution": {
     "iopub.execute_input": "2023-08-27T22:36:11.529138Z",
     "iopub.status.busy": "2023-08-27T22:36:11.528760Z",
     "iopub.status.idle": "2023-08-28T01:14:13.661186Z",
     "shell.execute_reply": "2023-08-28T01:14:13.660021Z",
     "shell.execute_reply.started": "2023-08-27T22:36:11.529103Z"
    }
   },
   "outputs": [
    {
     "name": "stdout",
     "output_type": "stream",
     "text": [
      "Epoch 1/50\n"
     ]
    },
    {
     "name": "stderr",
     "output_type": "stream",
     "text": [
      "2023-08-27 22:37:00.995097: E tensorflow/core/grappler/optimizers/meta_optimizer.cc:954] layout failed: INVALID_ARGUMENT: Size of values 0 does not match size of permutation 4 @ fanin shape inmodel/spatial_dropout2d_11/dropout/SelectV2-2-TransposeNHWCToNCHW-LayoutOptimizer\n"
     ]
    },
    {
     "name": "stdout",
     "output_type": "stream",
     "text": [
      "202/202 - 233s - loss: 2.6299 - categorical_accuracy: 0.1974 - auc: 0.6690 - precision: 0.6220 - recall: 0.1216 - val_loss: 2.3057 - val_categorical_accuracy: 0.1722 - val_auc: 0.7678 - val_precision: 1.0000 - val_recall: 0.0992 - 233s/epoch - 1s/step\n",
      "Epoch 2/50\n",
      "202/202 - 179s - loss: 2.0285 - categorical_accuracy: 0.2723 - auc: 0.8128 - precision: 0.8474 - recall: 0.1132 - val_loss: 1.5368 - val_categorical_accuracy: 0.4068 - val_auc: 0.9106 - val_precision: 0.7658 - val_recall: 0.2160 - 179s/epoch - 887ms/step\n",
      "Epoch 3/50\n",
      "202/202 - 179s - loss: 1.3473 - categorical_accuracy: 0.4992 - auc: 0.9206 - precision: 0.7693 - recall: 0.3161 - val_loss: 0.9275 - val_categorical_accuracy: 0.6527 - val_auc: 0.9657 - val_precision: 0.8069 - val_recall: 0.4757 - 179s/epoch - 884ms/step\n",
      "Epoch 4/50\n",
      "202/202 - 186s - loss: 0.9395 - categorical_accuracy: 0.6506 - auc: 0.9601 - precision: 0.7946 - recall: 0.5207 - val_loss: 0.8951 - val_categorical_accuracy: 0.6538 - val_auc: 0.9715 - val_precision: 0.7336 - val_recall: 0.5637 - 186s/epoch - 919ms/step\n",
      "Epoch 5/50\n",
      "202/202 - 179s - loss: 0.7208 - categorical_accuracy: 0.7374 - auc: 0.9748 - precision: 0.8264 - recall: 0.6485 - val_loss: 0.9188 - val_categorical_accuracy: 0.6775 - val_auc: 0.9700 - val_precision: 0.7362 - val_recall: 0.6067 - 179s/epoch - 886ms/step\n",
      "Epoch 6/50\n",
      "202/202 - 179s - loss: 0.5623 - categorical_accuracy: 0.7926 - auc: 0.9828 - precision: 0.8581 - recall: 0.7341 - val_loss: 0.5705 - val_categorical_accuracy: 0.8012 - val_auc: 0.9846 - val_precision: 0.8542 - val_recall: 0.7523 - 179s/epoch - 884ms/step\n",
      "Epoch 7/50\n",
      "202/202 - 179s - loss: 0.4776 - categorical_accuracy: 0.8297 - auc: 0.9866 - precision: 0.8777 - recall: 0.7813 - val_loss: 0.3534 - val_categorical_accuracy: 0.8756 - val_auc: 0.9925 - val_precision: 0.9106 - val_recall: 0.8435 - 179s/epoch - 886ms/step\n",
      "Epoch 8/50\n",
      "202/202 - 179s - loss: 0.4030 - categorical_accuracy: 0.8502 - auc: 0.9902 - precision: 0.8913 - recall: 0.8165 - val_loss: 0.4187 - val_categorical_accuracy: 0.8537 - val_auc: 0.9896 - val_precision: 0.8885 - val_recall: 0.8282 - 179s/epoch - 885ms/step\n",
      "Epoch 9/50\n",
      "202/202 - 179s - loss: 0.3369 - categorical_accuracy: 0.8770 - auc: 0.9922 - precision: 0.9096 - recall: 0.8500 - val_loss: 0.3057 - val_categorical_accuracy: 0.8898 - val_auc: 0.9939 - val_precision: 0.9192 - val_recall: 0.8679 - 179s/epoch - 886ms/step\n",
      "Epoch 10/50\n",
      "202/202 - 179s - loss: 0.2985 - categorical_accuracy: 0.8915 - auc: 0.9938 - precision: 0.9175 - recall: 0.8698 - val_loss: 0.3150 - val_categorical_accuracy: 0.8989 - val_auc: 0.9924 - val_precision: 0.9183 - val_recall: 0.8811 - 179s/epoch - 884ms/step\n",
      "Epoch 11/50\n",
      "202/202 - 179s - loss: 0.2648 - categorical_accuracy: 0.9036 - auc: 0.9949 - precision: 0.9240 - recall: 0.8840 - val_loss: 0.2753 - val_categorical_accuracy: 0.9092 - val_auc: 0.9942 - val_precision: 0.9242 - val_recall: 0.8982 - 179s/epoch - 886ms/step\n",
      "Epoch 12/50\n",
      "202/202 - 179s - loss: 0.2273 - categorical_accuracy: 0.9192 - auc: 0.9959 - precision: 0.9346 - recall: 0.9052 - val_loss: 0.1705 - val_categorical_accuracy: 0.9471 - val_auc: 0.9965 - val_precision: 0.9572 - val_recall: 0.9394 - 179s/epoch - 885ms/step\n",
      "Epoch 13/50\n",
      "202/202 - 179s - loss: 0.1956 - categorical_accuracy: 0.9297 - auc: 0.9969 - precision: 0.9429 - recall: 0.9177 - val_loss: 0.1685 - val_categorical_accuracy: 0.9471 - val_auc: 0.9970 - val_precision: 0.9535 - val_recall: 0.9424 - 179s/epoch - 884ms/step\n",
      "Epoch 14/50\n",
      "202/202 - 179s - loss: 0.1785 - categorical_accuracy: 0.9362 - auc: 0.9973 - precision: 0.9463 - recall: 0.9264 - val_loss: 0.1517 - val_categorical_accuracy: 0.9515 - val_auc: 0.9971 - val_precision: 0.9565 - val_recall: 0.9467 - 179s/epoch - 884ms/step\n",
      "Epoch 15/50\n",
      "202/202 - 179s - loss: 0.1602 - categorical_accuracy: 0.9448 - auc: 0.9975 - precision: 0.9532 - recall: 0.9386 - val_loss: 0.1931 - val_categorical_accuracy: 0.9387 - val_auc: 0.9960 - val_precision: 0.9451 - val_recall: 0.9358 - 179s/epoch - 885ms/step\n",
      "Epoch 16/50\n",
      "202/202 - 179s - loss: 0.1320 - categorical_accuracy: 0.9544 - auc: 0.9981 - precision: 0.9605 - recall: 0.9479 - val_loss: 0.1478 - val_categorical_accuracy: 0.9551 - val_auc: 0.9968 - val_precision: 0.9603 - val_recall: 0.9518 - 179s/epoch - 886ms/step\n",
      "Epoch 17/50\n",
      "202/202 - 179s - loss: 0.1322 - categorical_accuracy: 0.9532 - auc: 0.9982 - precision: 0.9587 - recall: 0.9478 - val_loss: 0.1205 - val_categorical_accuracy: 0.9642 - val_auc: 0.9976 - val_precision: 0.9684 - val_recall: 0.9610 - 179s/epoch - 885ms/step\n",
      "Epoch 18/50\n",
      "202/202 - 179s - loss: 0.1208 - categorical_accuracy: 0.9585 - auc: 0.9985 - precision: 0.9643 - recall: 0.9537 - val_loss: 0.1004 - val_categorical_accuracy: 0.9730 - val_auc: 0.9975 - val_precision: 0.9769 - val_recall: 0.9704 - 179s/epoch - 885ms/step\n",
      "Epoch 19/50\n",
      "202/202 - 179s - loss: 0.1153 - categorical_accuracy: 0.9611 - auc: 0.9985 - precision: 0.9653 - recall: 0.9559 - val_loss: 0.0974 - val_categorical_accuracy: 0.9694 - val_auc: 0.9984 - val_precision: 0.9721 - val_recall: 0.9675 - 179s/epoch - 884ms/step\n",
      "Epoch 20/50\n",
      "202/202 - 179s - loss: 0.0965 - categorical_accuracy: 0.9694 - auc: 0.9988 - precision: 0.9720 - recall: 0.9660 - val_loss: 0.1850 - val_categorical_accuracy: 0.9460 - val_auc: 0.9963 - val_precision: 0.9500 - val_recall: 0.9435 - 179s/epoch - 885ms/step\n",
      "Epoch 21/50\n",
      "202/202 - 178s - loss: 0.0890 - categorical_accuracy: 0.9698 - auc: 0.9989 - precision: 0.9727 - recall: 0.9671 - val_loss: 0.1214 - val_categorical_accuracy: 0.9635 - val_auc: 0.9972 - val_precision: 0.9663 - val_recall: 0.9617 - 178s/epoch - 884ms/step\n",
      "Epoch 22/50\n",
      "202/202 - 179s - loss: 0.0784 - categorical_accuracy: 0.9730 - auc: 0.9991 - precision: 0.9751 - recall: 0.9704 - val_loss: 0.1047 - val_categorical_accuracy: 0.9679 - val_auc: 0.9978 - val_precision: 0.9700 - val_recall: 0.9672 - 179s/epoch - 887ms/step\n",
      "Epoch 23/50\n",
      "202/202 - 178s - loss: 0.0753 - categorical_accuracy: 0.9731 - auc: 0.9993 - precision: 0.9753 - recall: 0.9710 - val_loss: 0.0836 - val_categorical_accuracy: 0.9726 - val_auc: 0.9981 - val_precision: 0.9758 - val_recall: 0.9715 - 178s/epoch - 883ms/step\n",
      "Epoch 24/50\n",
      "202/202 - 178s - loss: 0.0746 - categorical_accuracy: 0.9740 - auc: 0.9994 - precision: 0.9768 - recall: 0.9721 - val_loss: 0.1058 - val_categorical_accuracy: 0.9683 - val_auc: 0.9981 - val_precision: 0.9718 - val_recall: 0.9679 - 178s/epoch - 883ms/step\n",
      "Epoch 25/50\n",
      "202/202 - 179s - loss: 0.0680 - categorical_accuracy: 0.9765 - auc: 0.9993 - precision: 0.9782 - recall: 0.9749 - val_loss: 0.0924 - val_categorical_accuracy: 0.9730 - val_auc: 0.9977 - val_precision: 0.9744 - val_recall: 0.9726 - 179s/epoch - 884ms/step\n",
      "Epoch 26/50\n",
      "202/202 - 178s - loss: 0.0627 - categorical_accuracy: 0.9795 - auc: 0.9992 - precision: 0.9812 - recall: 0.9778 - val_loss: 0.0741 - val_categorical_accuracy: 0.9770 - val_auc: 0.9985 - val_precision: 0.9791 - val_recall: 0.9756 - 178s/epoch - 883ms/step\n",
      "Epoch 27/50\n",
      "202/202 - 179s - loss: 0.0642 - categorical_accuracy: 0.9791 - auc: 0.9993 - precision: 0.9806 - recall: 0.9769 - val_loss: 0.1311 - val_categorical_accuracy: 0.9694 - val_auc: 0.9963 - val_precision: 0.9711 - val_recall: 0.9679 - 179s/epoch - 885ms/step\n",
      "Epoch 28/50\n",
      "202/202 - 178s - loss: 0.0589 - categorical_accuracy: 0.9795 - auc: 0.9993 - precision: 0.9819 - recall: 0.9782 - val_loss: 0.0862 - val_categorical_accuracy: 0.9752 - val_auc: 0.9986 - val_precision: 0.9762 - val_recall: 0.9726 - 178s/epoch - 883ms/step\n",
      "Epoch 29/50\n",
      "202/202 - 179s - loss: 0.0639 - categorical_accuracy: 0.9789 - auc: 0.9994 - precision: 0.9808 - recall: 0.9774 - val_loss: 0.0903 - val_categorical_accuracy: 0.9748 - val_auc: 0.9978 - val_precision: 0.9762 - val_recall: 0.9741 - 179s/epoch - 885ms/step\n",
      "Epoch 30/50\n",
      "202/202 - 178s - loss: 0.0472 - categorical_accuracy: 0.9838 - auc: 0.9995 - precision: 0.9845 - recall: 0.9826 - val_loss: 0.0654 - val_categorical_accuracy: 0.9836 - val_auc: 0.9984 - val_precision: 0.9843 - val_recall: 0.9821 - 178s/epoch - 883ms/step\n",
      "Epoch 31/50\n",
      "202/202 - 179s - loss: 0.0528 - categorical_accuracy: 0.9816 - auc: 0.9996 - precision: 0.9825 - recall: 0.9803 - val_loss: 0.0886 - val_categorical_accuracy: 0.9763 - val_auc: 0.9983 - val_precision: 0.9766 - val_recall: 0.9748 - 179s/epoch - 886ms/step\n",
      "Epoch 32/50\n",
      "202/202 - 179s - loss: 0.0450 - categorical_accuracy: 0.9850 - auc: 0.9996 - precision: 0.9860 - recall: 0.9837 - val_loss: 0.1132 - val_categorical_accuracy: 0.9752 - val_auc: 0.9969 - val_precision: 0.9763 - val_recall: 0.9748 - 179s/epoch - 884ms/step\n",
      "Epoch 33/50\n",
      "202/202 - 179s - loss: 0.0422 - categorical_accuracy: 0.9856 - auc: 0.9996 - precision: 0.9864 - recall: 0.9846 - val_loss: 0.0798 - val_categorical_accuracy: 0.9781 - val_auc: 0.9982 - val_precision: 0.9792 - val_recall: 0.9781 - 179s/epoch - 885ms/step\n",
      "Epoch 34/50\n",
      "202/202 - 179s - loss: 0.0437 - categorical_accuracy: 0.9857 - auc: 0.9995 - precision: 0.9861 - recall: 0.9850 - val_loss: 0.0838 - val_categorical_accuracy: 0.9767 - val_auc: 0.9979 - val_precision: 0.9784 - val_recall: 0.9767 - 179s/epoch - 884ms/step\n",
      "Epoch 35/50\n",
      "202/202 - 179s - loss: 0.0388 - categorical_accuracy: 0.9864 - auc: 0.9997 - precision: 0.9872 - recall: 0.9857 - val_loss: 0.0978 - val_categorical_accuracy: 0.9763 - val_auc: 0.9973 - val_precision: 0.9773 - val_recall: 0.9748 - 179s/epoch - 885ms/step\n",
      "Epoch 36/50\n",
      "202/202 - 179s - loss: 0.0453 - categorical_accuracy: 0.9850 - auc: 0.9994 - precision: 0.9859 - recall: 0.9841 - val_loss: 0.0968 - val_categorical_accuracy: 0.9774 - val_auc: 0.9971 - val_precision: 0.9784 - val_recall: 0.9767 - 179s/epoch - 885ms/step\n",
      "Epoch 37/50\n",
      "202/202 - 179s - loss: 0.0378 - categorical_accuracy: 0.9878 - auc: 0.9996 - precision: 0.9883 - recall: 0.9874 - val_loss: 0.1263 - val_categorical_accuracy: 0.9646 - val_auc: 0.9970 - val_precision: 0.9660 - val_recall: 0.9639 - 179s/epoch - 887ms/step\n",
      "Epoch 38/50\n",
      "202/202 - 179s - loss: 0.0447 - categorical_accuracy: 0.9852 - auc: 0.9996 - precision: 0.9860 - recall: 0.9840 - val_loss: 0.0767 - val_categorical_accuracy: 0.9825 - val_auc: 0.9975 - val_precision: 0.9836 - val_recall: 0.9821 - 179s/epoch - 886ms/step\n",
      "Epoch 39/50\n",
      "202/202 - 179s - loss: 0.0304 - categorical_accuracy: 0.9904 - auc: 0.9997 - precision: 0.9906 - recall: 0.9900 - val_loss: 0.0631 - val_categorical_accuracy: 0.9810 - val_auc: 0.9990 - val_precision: 0.9814 - val_recall: 0.9807 - 179s/epoch - 886ms/step\n",
      "Epoch 40/50\n",
      "202/202 - 180s - loss: 0.0274 - categorical_accuracy: 0.9911 - auc: 0.9997 - precision: 0.9914 - recall: 0.9906 - val_loss: 0.0802 - val_categorical_accuracy: 0.9792 - val_auc: 0.9980 - val_precision: 0.9810 - val_recall: 0.9785 - 180s/epoch - 889ms/step\n",
      "Epoch 41/50\n",
      "202/202 - 179s - loss: 0.0315 - categorical_accuracy: 0.9891 - auc: 0.9997 - precision: 0.9893 - recall: 0.9888 - val_loss: 0.0713 - val_categorical_accuracy: 0.9825 - val_auc: 0.9977 - val_precision: 0.9832 - val_recall: 0.9818 - 179s/epoch - 889ms/step\n",
      "Epoch 42/50\n",
      "202/202 - 179s - loss: 0.0353 - categorical_accuracy: 0.9881 - auc: 0.9996 - precision: 0.9885 - recall: 0.9875 - val_loss: 0.0652 - val_categorical_accuracy: 0.9788 - val_auc: 0.9981 - val_precision: 0.9799 - val_recall: 0.9788 - 179s/epoch - 884ms/step\n",
      "Epoch 43/50\n",
      "202/202 - 179s - loss: 0.0305 - categorical_accuracy: 0.9904 - auc: 0.9998 - precision: 0.9909 - recall: 0.9902 - val_loss: 0.0744 - val_categorical_accuracy: 0.9829 - val_auc: 0.9978 - val_precision: 0.9846 - val_recall: 0.9825 - 179s/epoch - 886ms/step\n",
      "Epoch 44/50\n",
      "202/202 - 185s - loss: 0.0284 - categorical_accuracy: 0.9899 - auc: 0.9998 - precision: 0.9903 - recall: 0.9895 - val_loss: 0.0630 - val_categorical_accuracy: 0.9850 - val_auc: 0.9980 - val_precision: 0.9854 - val_recall: 0.9843 - 185s/epoch - 918ms/step\n",
      "Epoch 45/50\n",
      "202/202 - 179s - loss: 0.0278 - categorical_accuracy: 0.9911 - auc: 0.9997 - precision: 0.9913 - recall: 0.9903 - val_loss: 0.0816 - val_categorical_accuracy: 0.9832 - val_auc: 0.9975 - val_precision: 0.9836 - val_recall: 0.9829 - 179s/epoch - 887ms/step\n",
      "Epoch 46/50\n",
      "202/202 - 179s - loss: 0.0295 - categorical_accuracy: 0.9903 - auc: 0.9997 - precision: 0.9906 - recall: 0.9899 - val_loss: 0.0745 - val_categorical_accuracy: 0.9799 - val_auc: 0.9979 - val_precision: 0.9817 - val_recall: 0.9799 - 179s/epoch - 885ms/step\n",
      "Epoch 47/50\n",
      "202/202 - 179s - loss: 0.0211 - categorical_accuracy: 0.9932 - auc: 0.9999 - precision: 0.9935 - recall: 0.9929 - val_loss: 0.0811 - val_categorical_accuracy: 0.9832 - val_auc: 0.9970 - val_precision: 0.9839 - val_recall: 0.9825 - 179s/epoch - 885ms/step\n",
      "Epoch 48/50\n",
      "202/202 - 179s - loss: 0.0299 - categorical_accuracy: 0.9905 - auc: 0.9996 - precision: 0.9908 - recall: 0.9899 - val_loss: 0.0748 - val_categorical_accuracy: 0.9814 - val_auc: 0.9982 - val_precision: 0.9821 - val_recall: 0.9814 - 179s/epoch - 884ms/step\n",
      "Epoch 49/50\n",
      "202/202 - 179s - loss: 0.0247 - categorical_accuracy: 0.9922 - auc: 0.9998 - precision: 0.9926 - recall: 0.9917 - val_loss: 0.0830 - val_categorical_accuracy: 0.9821 - val_auc: 0.9973 - val_precision: 0.9828 - val_recall: 0.9818 - 179s/epoch - 887ms/step\n",
      "Epoch 50/50\n",
      "202/202 - 179s - loss: 0.0195 - categorical_accuracy: 0.9941 - auc: 0.9997 - precision: 0.9942 - recall: 0.9939 - val_loss: 0.0904 - val_categorical_accuracy: 0.9814 - val_auc: 0.9972 - val_precision: 0.9821 - val_recall: 0.9810 - 179s/epoch - 886ms/step\n",
      "===================================\n",
      "50 epochs in 158.0354331056277 min\n"
     ]
    }
   ],
   "source": [
    "start = time()\n",
    "vgg19_hist = vgg19.fit(train_gen, steps_per_epoch=train_steps, \n",
    "                    validation_data=val_gen,\n",
    "                    validation_steps=val_steps,\n",
    "                    epochs=50, verbose=2)\n",
    "end = time()\n",
    "print(\"===================================\")\n",
    "print(f'50 epochs in {(end-start)/60} min')"
   ]
  },
  {
   "cell_type": "code",
   "execution_count": 49,
   "metadata": {
    "execution": {
     "iopub.execute_input": "2023-08-28T01:28:38.152180Z",
     "iopub.status.busy": "2023-08-28T01:28:38.151763Z",
     "iopub.status.idle": "2023-08-28T01:28:38.159522Z",
     "shell.execute_reply": "2023-08-28T01:28:38.158424Z",
     "shell.execute_reply.started": "2023-08-28T01:28:38.152149Z"
    }
   },
   "outputs": [],
   "source": [
    "hist_df = pd.DataFrame(vgg19_hist.history)\n",
    "hist_json_file = 'VGG19_50ep_history.json' \n",
    "with open(hist_json_file, mode='w') as f:\n",
    "    hist_df.to_json(f)"
   ]
  },
  {
   "cell_type": "code",
   "execution_count": 50,
   "metadata": {
    "execution": {
     "iopub.execute_input": "2023-08-28T01:28:42.534912Z",
     "iopub.status.busy": "2023-08-28T01:28:42.534409Z",
     "iopub.status.idle": "2023-08-28T01:29:23.585433Z",
     "shell.execute_reply": "2023-08-28T01:29:23.584367Z",
     "shell.execute_reply.started": "2023-08-28T01:28:42.534874Z"
    }
   },
   "outputs": [
    {
     "name": "stdout",
     "output_type": "stream",
     "text": [
      "2815/2815 [==============================] - 34s 12ms/step - loss: 4682.5850 - categorical_accuracy: 0.1560 - auc: 0.5529 - precision: 0.1560 - recall: 0.1560\n"
     ]
    }
   ],
   "source": [
    "pred = vgg19.evaluate(test_gen)"
   ]
  },
  {
   "cell_type": "code",
   "execution_count": 51,
   "metadata": {
    "execution": {
     "iopub.execute_input": "2023-08-28T01:29:23.590343Z",
     "iopub.status.busy": "2023-08-28T01:29:23.589491Z",
     "iopub.status.idle": "2023-08-28T01:29:48.456915Z",
     "shell.execute_reply": "2023-08-28T01:29:48.455877Z",
     "shell.execute_reply.started": "2023-08-28T01:29:23.590290Z"
    }
   },
   "outputs": [
    {
     "name": "stdout",
     "output_type": "stream",
     "text": [
      "2815/2815 [==============================] - 24s 8ms/step\n",
      "[[[1206 1423]\n",
      "  [  24  162]]\n",
      "\n",
      " [[2529  100]\n",
      "  [ 183    3]]\n",
      "\n",
      " [[2629    0]\n",
      "  [ 186    0]]\n",
      "\n",
      " [[2592   37]\n",
      "  [ 183    3]]\n",
      "\n",
      " [[2629    0]\n",
      "  [ 186    0]]\n",
      "\n",
      " [[2629    0]\n",
      "  [ 186    0]]\n",
      "\n",
      " [[2629    0]\n",
      "  [ 186    0]]\n",
      "\n",
      " [[2225  404]\n",
      "  [  25  161]]\n",
      "\n",
      " [[2312  317]\n",
      "  [ 154   32]]\n",
      "\n",
      " [[2587   42]\n",
      "  [ 184    2]]\n",
      "\n",
      " [[2629    0]\n",
      "  [ 186    0]]\n",
      "\n",
      " [[2629    0]\n",
      "  [ 186    0]]\n",
      "\n",
      " [[2576   53]\n",
      "  [ 131   55]]\n",
      "\n",
      " [[2754    0]\n",
      "  [  40   21]]\n",
      "\n",
      " [[2753    0]\n",
      "  [  62    0]]\n",
      "\n",
      " [[2541    0]\n",
      "  [ 274    0]]]\n",
      "              precision    recall  f1-score   support\n",
      "\n",
      "           0       0.10      0.87      0.18       186\n",
      "           1       0.03      0.02      0.02       186\n",
      "           2       0.00      0.00      0.00       186\n",
      "           3       0.07      0.02      0.03       186\n",
      "           4       0.00      0.00      0.00       186\n",
      "           5       0.00      0.00      0.00       186\n",
      "           6       0.00      0.00      0.00       186\n",
      "           7       0.28      0.87      0.43       186\n",
      "           8       0.09      0.17      0.12       186\n",
      "           9       0.05      0.01      0.02       186\n",
      "          10       0.00      0.00      0.00       186\n",
      "          11       0.00      0.00      0.00       186\n",
      "          12       0.51      0.30      0.37       186\n",
      "          13       1.00      0.34      0.51        61\n",
      "          14       0.00      0.00      0.00        62\n",
      "          15       0.00      0.00      0.00       274\n",
      "\n",
      "    accuracy                           0.16      2815\n",
      "   macro avg       0.13      0.16      0.11      2815\n",
      "weighted avg       0.10      0.16      0.09      2815\n",
      "\n"
     ]
    },
    {
     "name": "stderr",
     "output_type": "stream",
     "text": [
      "/opt/conda/lib/python3.10/site-packages/sklearn/metrics/_classification.py:1344: UndefinedMetricWarning: Precision and F-score are ill-defined and being set to 0.0 in labels with no predicted samples. Use `zero_division` parameter to control this behavior.\n",
      "  _warn_prf(average, modifier, msg_start, len(result))\n",
      "/opt/conda/lib/python3.10/site-packages/sklearn/metrics/_classification.py:1344: UndefinedMetricWarning: Precision and F-score are ill-defined and being set to 0.0 in labels with no predicted samples. Use `zero_division` parameter to control this behavior.\n",
      "  _warn_prf(average, modifier, msg_start, len(result))\n",
      "/opt/conda/lib/python3.10/site-packages/sklearn/metrics/_classification.py:1344: UndefinedMetricWarning: Precision and F-score are ill-defined and being set to 0.0 in labels with no predicted samples. Use `zero_division` parameter to control this behavior.\n",
      "  _warn_prf(average, modifier, msg_start, len(result))\n"
     ]
    }
   ],
   "source": [
    "report(vgg19)"
   ]
  },
  {
   "cell_type": "markdown",
   "metadata": {},
   "source": [
    "## MobileNet"
   ]
  },
  {
   "cell_type": "code",
   "execution_count": 70,
   "metadata": {
    "execution": {
     "iopub.execute_input": "2023-05-28T01:48:14.153458Z",
     "iopub.status.busy": "2023-05-28T01:48:14.153088Z",
     "iopub.status.idle": "2023-05-28T01:48:14.166363Z",
     "shell.execute_reply": "2023-05-28T01:48:14.165467Z",
     "shell.execute_reply.started": "2023-05-28T01:48:14.153427Z"
    }
   },
   "outputs": [],
   "source": [
    "def block(x, filters, strides, activation):\n",
    "    \n",
    "    x = DepthwiseConv2D(kernel_size=3, strides=strides, padding='same')(x)\n",
    "    x = BatchNormalization()(x)\n",
    "    x = tf.keras.layers.Activation(activation)(x)\n",
    "    \n",
    "    x = Conv2D(filters=filters, kernel_size=1, strides=1)(x)\n",
    "    x = BatchNormalization()(x)\n",
    "    x = tf.keras.layers.Activation(activation)(x)\n",
    "    \n",
    "    return x\n",
    "\n",
    "def MobileNet(input_shape):\n",
    "    \n",
    "    activation = 'relu'\n",
    "    filters = 32\n",
    "    reps = 5\n",
    "    input = Input(shape =input_shape)\n",
    "    x = Conv2D(filters = 32, kernel_size = 3, strides = 2, padding = 'same')(input)\n",
    "    x = BatchNormalization()(x)\n",
    "    x = tf.keras.layers.Activation(activation)(x)\n",
    "    \n",
    "    x = block(x, filters = filters, strides = 1, activation=activation)\n",
    "    x = block(x, filters = filters*2, strides = 2, activation=activation)\n",
    "    x = block(x, filters = filters*2, strides = 1, activation=activation)\n",
    "    x = block(x, filters = filters*4, strides = 2, activation=activation)\n",
    "    x = Dropout(0.2)(x)\n",
    "    x = block(x, filters = filters*4, strides = 1, activation=activation)\n",
    "    x = block(x, filters = filters*8, strides = 2, activation=activation)\n",
    "    for _ in range (reps):\n",
    "         x = block(x, filters = filters*8, strides = 1, activation=activation)\n",
    "    x = block(x, filters = filters*16, strides = 2, activation=activation)\n",
    "    x = block(x, filters = filters*16, strides = 1, activation=activation)\n",
    "    x = Dropout(0.2)(x)\n",
    "    x = tf.keras.layers.GlobalAveragePooling2D()(x)\n",
    "    x = Flatten()(x)\n",
    "    output = Dense(units = 3, activation = 'softmax')(x)\n",
    "    model = Model(inputs=input, outputs=output)\n",
    "    \n",
    "    return model"
   ]
  },
  {
   "cell_type": "code",
   "execution_count": 71,
   "metadata": {
    "execution": {
     "iopub.execute_input": "2023-05-28T01:48:16.386488Z",
     "iopub.status.busy": "2023-05-28T01:48:16.386128Z",
     "iopub.status.idle": "2023-05-28T01:48:17.009396Z",
     "shell.execute_reply": "2023-05-28T01:48:17.008475Z",
     "shell.execute_reply.started": "2023-05-28T01:48:16.386458Z"
    }
   },
   "outputs": [],
   "source": [
    "mobilenet = MobileNet(input_shape=(256,256,3))\n",
    "mobilenet.compile(optimizer=tf.keras.optimizers.Adam(learning_rate=1e-4), loss='categorical_crossentropy', metrics=[cat_acc,auc_roc,prec,recall])"
   ]
  },
  {
   "cell_type": "code",
   "execution_count": 72,
   "metadata": {
    "execution": {
     "iopub.execute_input": "2023-05-28T01:48:17.357288Z",
     "iopub.status.busy": "2023-05-28T01:48:17.356928Z",
     "iopub.status.idle": "2023-05-28T01:48:17.368037Z",
     "shell.execute_reply": "2023-05-28T01:48:17.367134Z",
     "shell.execute_reply.started": "2023-05-28T01:48:17.357260Z"
    }
   },
   "outputs": [
    {
     "data": {
      "text/plain": [
       "848379"
      ]
     },
     "execution_count": 72,
     "metadata": {},
     "output_type": "execute_result"
    }
   ],
   "source": [
    "mobilenet.count_params()"
   ]
  },
  {
   "cell_type": "code",
   "execution_count": 73,
   "metadata": {
    "execution": {
     "iopub.execute_input": "2023-05-28T01:48:18.603351Z",
     "iopub.status.busy": "2023-05-28T01:48:18.601892Z",
     "iopub.status.idle": "2023-05-28T02:04:57.189199Z",
     "shell.execute_reply": "2023-05-28T02:04:57.188199Z",
     "shell.execute_reply.started": "2023-05-28T01:48:18.603256Z"
    }
   },
   "outputs": [
    {
     "name": "stdout",
     "output_type": "stream",
     "text": [
      "Epoch 1/10\n"
     ]
    },
    {
     "name": "stderr",
     "output_type": "stream",
     "text": [
      "2023-05-28 01:48:26.988870: E tensorflow/core/grappler/optimizers/meta_optimizer.cc:954] layout failed: INVALID_ARGUMENT: Size of values 0 does not match size of permutation 4 @ fanin shape inmodel/dropout_18/dropout/SelectV2-2-TransposeNHWCToNCHW-LayoutOptimizer\n"
     ]
    },
    {
     "name": "stdout",
     "output_type": "stream",
     "text": [
      "450/450 - 114s - loss: 0.2762 - categorical_accuracy: 0.9182 - auc: 0.9844 - auc_1: 0.9706 - val_loss: 3.2312 - val_categorical_accuracy: 0.3333 - val_auc: 0.5000 - val_auc_1: 0.3333 - 114s/epoch - 253ms/step\n",
      "\n",
      "Epoch 2/10\n",
      "\n",
      "450/450 - 95s - loss: 0.1696 - categorical_accuracy: 0.9319 - auc: 0.9898 - auc_1: 0.9792 - val_loss: 0.3577 - val_categorical_accuracy: 0.8647 - val_auc: 0.9872 - val_auc_1: 0.9762 - 95s/epoch - 211ms/step\n",
      "\n",
      "Epoch 3/10\n",
      "\n",
      "450/450 - 94s - loss: 0.1717 - categorical_accuracy: 0.9328 - auc: 0.9893 - auc_1: 0.9781 - val_loss: 0.2491 - val_categorical_accuracy: 0.8975 - val_auc: 0.9871 - val_auc_1: 0.9741 - 94s/epoch - 209ms/step\n",
      "\n",
      "Epoch 4/10\n",
      "\n",
      "450/450 - 93s - loss: 0.1573 - categorical_accuracy: 0.9351 - auc: 0.9912 - auc_1: 0.9827 - val_loss: 0.2802 - val_categorical_accuracy: 0.8970 - val_auc: 0.9874 - val_auc_1: 0.9756 - 93s/epoch - 206ms/step\n",
      "\n",
      "Epoch 5/10\n",
      "\n",
      "450/450 - 92s - loss: 0.1558 - categorical_accuracy: 0.9358 - auc: 0.9910 - auc_1: 0.9817 - val_loss: 0.2086 - val_categorical_accuracy: 0.9180 - val_auc: 0.9902 - val_auc_1: 0.9798 - 92s/epoch - 204ms/step\n",
      "\n",
      "Epoch 6/10\n",
      "\n",
      "450/450 - 111s - loss: 0.1527 - categorical_accuracy: 0.9360 - auc: 0.9914 - auc_1: 0.9825 - val_loss: 0.2692 - val_categorical_accuracy: 0.9062 - val_auc: 0.9872 - val_auc_1: 0.9749 - 111s/epoch - 248ms/step\n",
      "\n",
      "Epoch 7/10\n",
      "\n",
      "450/450 - 95s - loss: 0.1508 - categorical_accuracy: 0.9360 - auc: 0.9915 - auc_1: 0.9826 - val_loss: 0.2186 - val_categorical_accuracy: 0.9130 - val_auc: 0.9896 - val_auc_1: 0.9794 - 95s/epoch - 212ms/step\n",
      "\n",
      "Epoch 8/10\n",
      "\n",
      "450/450 - 94s - loss: 0.1461 - categorical_accuracy: 0.9384 - auc: 0.9919 - auc_1: 0.9835 - val_loss: 0.1954 - val_categorical_accuracy: 0.9262 - val_auc: 0.9895 - val_auc_1: 0.9787 - 94s/epoch - 210ms/step\n",
      "\n",
      "Epoch 9/10\n",
      "\n",
      "450/450 - 95s - loss: 0.1441 - categorical_accuracy: 0.9403 - auc: 0.9922 - auc_1: 0.9839 - val_loss: 0.1959 - val_categorical_accuracy: 0.9317 - val_auc: 0.9900 - val_auc_1: 0.9799 - 95s/epoch - 210ms/step\n",
      "\n",
      "Epoch 10/10\n",
      "\n",
      "450/450 - 115s - loss: 0.1392 - categorical_accuracy: 0.9399 - auc: 0.9927 - auc_1: 0.9849 - val_loss: 0.2122 - val_categorical_accuracy: 0.9260 - val_auc: 0.9888 - val_auc_1: 0.9778 - 115s/epoch - 255ms/step\n",
      "\n",
      "===================================\n",
      "\n",
      "10 epochs in 16.6429598291715 min\n"
     ]
    }
   ],
   "source": [
    "start = time()\n",
    "mobilenet_hist = mobilenet.fit(train_gen, steps_per_epoch=train_steps, \n",
    "                    validation_data=val_gen,\n",
    "                    validation_steps=val_steps,\n",
    "                    epochs=10, verbose=2)\n",
    "end = time()\n",
    "print(\"===================================\")\n",
    "print(f'10 epochs in {(end-start)/60} min')"
   ]
  },
  {
   "cell_type": "code",
   "execution_count": 74,
   "metadata": {
    "execution": {
     "iopub.execute_input": "2023-05-28T02:05:13.292384Z",
     "iopub.status.busy": "2023-05-28T02:05:13.292033Z",
     "iopub.status.idle": "2023-05-28T02:05:13.300660Z",
     "shell.execute_reply": "2023-05-28T02:05:13.299677Z",
     "shell.execute_reply.started": "2023-05-28T02:05:13.292356Z"
    }
   },
   "outputs": [],
   "source": [
    "hist_df = pd.DataFrame(mobilenet_hist.history)\n",
    "hist_json_file = 'MobileNet_10ep_histori.json'\n",
    "with open(hist_json_file, mode='w') as f:\n",
    "    hist_df.to_json(f)"
   ]
  },
  {
   "cell_type": "code",
   "execution_count": 75,
   "metadata": {
    "execution": {
     "iopub.execute_input": "2023-05-28T02:05:14.824400Z",
     "iopub.status.busy": "2023-05-28T02:05:14.823727Z",
     "iopub.status.idle": "2023-05-28T02:05:47.735366Z",
     "shell.execute_reply": "2023-05-28T02:05:47.734251Z",
     "shell.execute_reply.started": "2023-05-28T02:05:14.824360Z"
    }
   },
   "outputs": [
    {
     "name": "stdout",
     "output_type": "stream",
     "text": [
      "3600/3600 [==============================] - 33s 9ms/step - loss: 0.1905 - categorical_accuracy: 0.9289 - auc: 0.9908 - auc_1: 0.9814\n"
     ]
    }
   ],
   "source": [
    "pred = mobilenet.evaluate(test_gen)"
   ]
  },
  {
   "cell_type": "code",
   "execution_count": 76,
   "metadata": {
    "execution": {
     "iopub.execute_input": "2023-05-28T02:05:56.536936Z",
     "iopub.status.busy": "2023-05-28T02:05:56.536435Z",
     "iopub.status.idle": "2023-05-28T02:06:19.411519Z",
     "shell.execute_reply": "2023-05-28T02:06:19.409680Z",
     "shell.execute_reply.started": "2023-05-28T02:05:56.536899Z"
    }
   },
   "outputs": [
    {
     "name": "stdout",
     "output_type": "stream",
     "text": [
      "3600/3600 [==============================] - 21s 6ms/step\n",
      "\n",
      "[[[2182  218]\n",
      "\n",
      "  [  36 1164]]\n",
      "\n",
      "\n",
      "\n",
      " [[2392    8]\n",
      "\n",
      "  [ 135 1065]]\n",
      "\n",
      "\n",
      "\n",
      " [[2370   30]\n",
      "\n",
      "  [  85 1115]]]\n",
      "\n",
      "              precision    recall  f1-score   support\n",
      "\n",
      "\n",
      "\n",
      "      faulty     0.8423    0.9700    0.9016      1200\n",
      "\n",
      "      normal     0.9925    0.8875    0.9371      1200\n",
      "\n",
      "     vfaulty     0.9738    0.9292    0.9510      1200\n",
      "\n",
      "\n",
      "\n",
      "    accuracy                         0.9289      3600\n",
      "\n",
      "   macro avg     0.9362    0.9289    0.9299      3600\n",
      "\n",
      "weighted avg     0.9362    0.9289    0.9299      3600\n",
      "\n",
      "\n"
     ]
    }
   ],
   "source": [
    "report(mobilenet)"
   ]
  },
  {
   "cell_type": "markdown",
   "metadata": {},
   "source": [
    "## MobileNet v2"
   ]
  },
  {
   "cell_type": "code",
   "execution_count": 10,
   "metadata": {
    "execution": {
     "iopub.execute_input": "2023-05-28T11:24:34.483062Z",
     "iopub.status.busy": "2023-05-28T11:24:34.482621Z",
     "iopub.status.idle": "2023-05-28T11:24:34.490793Z",
     "shell.execute_reply": "2023-05-28T11:24:34.489906Z",
     "shell.execute_reply.started": "2023-05-28T11:24:34.483029Z"
    }
   },
   "outputs": [],
   "source": [
    "def inverted_residual_block(x, factor, filters_in, filters_out, strides, activation):\n",
    "    \n",
    "    x_add = x\n",
    "    x = Conv2D(filters=filters_in*factor, kernel_size=1, strides=1)(x)\n",
    "    x = BatchNormalization()(x)\n",
    "    x = tf.keras.layers.Activation(activation)(x)\n",
    "    \n",
    "    x = DepthwiseConv2D(kernel_size=3, strides=strides, padding='same')(x)\n",
    "    x = BatchNormalization()(x)\n",
    "    x = tf.keras.layers.Activation(activation)(x)\n",
    "    \n",
    "    x = Conv2D(filters=filters_out, kernel_size=1, strides=1,use_bias=False)(x)\n",
    "    x = BatchNormalization()(x)\n",
    "    \n",
    "    if x_add.shape[-1] == x.shape[-1]:\n",
    "        x = tf.keras.layers.Add()([x_add,x])\n",
    "    \n",
    "    return x"
   ]
  },
  {
   "cell_type": "code",
   "execution_count": 15,
   "metadata": {
    "execution": {
     "iopub.execute_input": "2023-05-28T11:38:00.184398Z",
     "iopub.status.busy": "2023-05-28T11:38:00.183850Z",
     "iopub.status.idle": "2023-05-28T11:38:00.205972Z",
     "shell.execute_reply": "2023-05-28T11:38:00.205031Z",
     "shell.execute_reply.started": "2023-05-28T11:38:00.184358Z"
    }
   },
   "outputs": [],
   "source": [
    "def MobileNet_v2(input_shape=(256,256,3)):\n",
    "    \n",
    "    input = Input(shape=input_shape)\n",
    "    \n",
    "    x = Conv2D(filters=32, kernel_size=3, strides=2, padding='same', use_bias=False)(input)\n",
    "    x = BatchNormalization()(x)\n",
    "    x = tf.keras.layers.Activation('relu6')(x)\n",
    "    \n",
    "    x = inverted_residual_block(x, factor=1, filters_in=x.shape[-1], filters_out=16, strides=1, activation='relu6')\n",
    "    x = Dropout(0.2)(x)\n",
    "    for i in range(2):\n",
    "        s = 1\n",
    "        if i == 0:\n",
    "            s = 2\n",
    "        x = inverted_residual_block(x, factor=6, filters_in=x.shape[-1], filters_out=24, strides=s, activation='relu6')\n",
    "    for i in range(3):\n",
    "        s = 1\n",
    "        if i == 0:\n",
    "            s = 2\n",
    "        x = inverted_residual_block(x, factor=6, filters_in=x.shape[-1], filters_out=32, strides=s, activation='relu6')\n",
    "    for i in range(4):\n",
    "        s = 1\n",
    "        if i == 0:\n",
    "            s = 2\n",
    "        x = inverted_residual_block(x, factor=6, filters_in=x.shape[-1], filters_out=64, strides=s, activation='relu6')\n",
    "    for i in range(3):\n",
    "        x = inverted_residual_block(x, factor=6, filters_in=x.shape[-1], filters_out=96, strides=1, activation='relu6')\n",
    "    for i in range(3):\n",
    "        s = 1\n",
    "        if i == 0:\n",
    "            s = 2\n",
    "        x = inverted_residual_block(x, factor=6, filters_in=x.shape[-1], filters_out=160, strides=s, activation='relu6')\n",
    "    x = inverted_residual_block(x, factor=6, filters_in=x.shape[-1], filters_out=320, strides=1, activation='relu6')\n",
    "    x = Dropout(0.2)(x)\n",
    "    \n",
    "    x = Conv2D(filters=1280, kernel_size=1, padding='same', use_bias=False)(x)\n",
    "    x = BatchNormalization()(x)\n",
    "    x = tf.keras.layers.Activation('relu6')(x)\n",
    "    x = tf.keras.layers.GlobalAveragePooling2D()(x)\n",
    "    \n",
    "    x = Flatten()(x)\n",
    "    output = Dense(units=3, activation='softmax')(x)\n",
    "    \n",
    "    model = Model(inputs=input, outputs=output)\n",
    "    \n",
    "    return model"
   ]
  },
  {
   "cell_type": "code",
   "execution_count": 16,
   "metadata": {
    "execution": {
     "iopub.execute_input": "2023-05-28T11:38:00.998702Z",
     "iopub.status.busy": "2023-05-28T11:38:00.998024Z",
     "iopub.status.idle": "2023-05-28T11:38:02.109368Z",
     "shell.execute_reply": "2023-05-28T11:38:02.108428Z",
     "shell.execute_reply.started": "2023-05-28T11:38:00.998667Z"
    }
   },
   "outputs": [],
   "source": [
    "mobilenet_v2 = MobileNet_v2(input_shape=(256,256,3))\n",
    "mobilenet_v2.compile(optimizer=tf.keras.optimizers.Adam(learning_rate=1e-4), loss='categorical_crossentropy', metrics=[cat_acc,auc_roc,prec,recall])"
   ]
  },
  {
   "cell_type": "code",
   "execution_count": 17,
   "metadata": {
    "execution": {
     "iopub.execute_input": "2023-05-28T11:38:04.291588Z",
     "iopub.status.busy": "2023-05-28T11:38:04.291183Z",
     "iopub.status.idle": "2023-05-28T11:38:04.307172Z",
     "shell.execute_reply": "2023-05-28T11:38:04.306072Z",
     "shell.execute_reply.started": "2023-05-28T11:38:04.291557Z"
    }
   },
   "outputs": [
    {
     "data": {
      "text/plain": [
       "2277251"
      ]
     },
     "execution_count": 17,
     "metadata": {},
     "output_type": "execute_result"
    }
   ],
   "source": [
    "mobilenet_v2.count_params()"
   ]
  },
  {
   "cell_type": "code",
   "execution_count": 18,
   "metadata": {
    "execution": {
     "iopub.execute_input": "2023-05-28T11:38:25.581890Z",
     "iopub.status.busy": "2023-05-28T11:38:25.581300Z",
     "iopub.status.idle": "2023-05-28T11:59:30.149506Z",
     "shell.execute_reply": "2023-05-28T11:59:30.148537Z",
     "shell.execute_reply.started": "2023-05-28T11:38:25.581827Z"
    }
   },
   "outputs": [
    {
     "name": "stdout",
     "output_type": "stream",
     "text": [
      "Epoch 1/10\n"
     ]
    },
    {
     "name": "stderr",
     "output_type": "stream",
     "text": [
      "2023-05-28 11:38:38.327724: E tensorflow/core/grappler/optimizers/meta_optimizer.cc:954] layout failed: INVALID_ARGUMENT: Size of values 0 does not match size of permutation 4 @ fanin shape inmodel_1/dropout_2/dropout/SelectV2-2-TransposeNHWCToNCHW-LayoutOptimizer\n"
     ]
    },
    {
     "name": "stdout",
     "output_type": "stream",
     "text": [
      "450/450 - 155s - loss: 0.2516 - categorical_accuracy: 0.9112 - auc: 0.9832 - auc_1: 0.9671 - val_loss: 2.6948 - val_categorical_accuracy: 0.3333 - val_auc: 0.5000 - val_auc_1: 0.3333 - 155s/epoch - 344ms/step\n",
      "\n",
      "Epoch 2/10\n",
      "\n",
      "450/450 - 126s - loss: 0.1860 - categorical_accuracy: 0.9278 - auc: 0.9876 - auc_1: 0.9752 - val_loss: 0.2241 - val_categorical_accuracy: 0.9232 - val_auc: 0.9870 - val_auc_1: 0.9760 - 126s/epoch - 279ms/step\n",
      "\n",
      "Epoch 3/10\n",
      "\n",
      "450/450 - 123s - loss: 0.1742 - categorical_accuracy: 0.9322 - auc: 0.9889 - auc_1: 0.9776 - val_loss: 0.1920 - val_categorical_accuracy: 0.9310 - val_auc: 0.9878 - val_auc_1: 0.9769 - 123s/epoch - 273ms/step\n",
      "\n",
      "Epoch 4/10\n",
      "\n",
      "450/450 - 122s - loss: 0.1649 - categorical_accuracy: 0.9340 - auc: 0.9898 - auc_1: 0.9791 - val_loss: 0.2580 - val_categorical_accuracy: 0.9167 - val_auc: 0.9859 - val_auc_1: 0.9736 - 122s/epoch - 271ms/step\n",
      "\n",
      "Epoch 5/10\n",
      "\n",
      "450/450 - 122s - loss: 0.1571 - categorical_accuracy: 0.9384 - auc: 0.9908 - auc_1: 0.9807 - val_loss: 0.2181 - val_categorical_accuracy: 0.9253 - val_auc: 0.9884 - val_auc_1: 0.9771 - 122s/epoch - 270ms/step\n",
      "\n",
      "Epoch 6/10\n",
      "\n",
      "450/450 - 125s - loss: 0.1521 - categorical_accuracy: 0.9392 - auc: 0.9911 - auc_1: 0.9815 - val_loss: 0.1971 - val_categorical_accuracy: 0.9173 - val_auc: 0.9893 - val_auc_1: 0.9789 - 125s/epoch - 278ms/step\n",
      "\n",
      "Epoch 7/10\n",
      "\n",
      "450/450 - 123s - loss: 0.1438 - categorical_accuracy: 0.9431 - auc: 0.9921 - auc_1: 0.9837 - val_loss: 0.1371 - val_categorical_accuracy: 0.9432 - val_auc: 0.9934 - val_auc_1: 0.9872 - 123s/epoch - 273ms/step\n",
      "\n",
      "Epoch 8/10\n",
      "\n",
      "450/450 - 121s - loss: 0.1378 - categorical_accuracy: 0.9439 - auc: 0.9928 - auc_1: 0.9854 - val_loss: 0.1893 - val_categorical_accuracy: 0.9328 - val_auc: 0.9903 - val_auc_1: 0.9809 - 121s/epoch - 269ms/step\n",
      "\n",
      "Epoch 9/10\n",
      "\n",
      "450/450 - 123s - loss: 0.1369 - categorical_accuracy: 0.9447 - auc: 0.9928 - auc_1: 0.9853 - val_loss: 0.1449 - val_categorical_accuracy: 0.9443 - val_auc: 0.9927 - val_auc_1: 0.9848 - 123s/epoch - 273ms/step\n",
      "\n",
      "Epoch 10/10\n",
      "\n",
      "450/450 - 125s - loss: 0.1306 - categorical_accuracy: 0.9474 - auc: 0.9934 - auc_1: 0.9866 - val_loss: 0.2653 - val_categorical_accuracy: 0.9268 - val_auc: 0.9845 - val_auc_1: 0.9703 - 125s/epoch - 278ms/step\n",
      "\n",
      "===================================\n",
      "\n",
      "10 epochs in 21.07599977652232 min\n"
     ]
    }
   ],
   "source": [
    "start = time()\n",
    "mobilenet_v2_hist = mobilenet_v2.fit(train_gen, steps_per_epoch=train_steps, \n",
    "                    validation_data=val_gen,\n",
    "                    validation_steps=val_steps,\n",
    "                    epochs=10, verbose=2)\n",
    "end = time()\n",
    "print(\"===================================\")\n",
    "print(f'10 epochs in {(end-start)/60} min')"
   ]
  },
  {
   "cell_type": "code",
   "execution_count": 19,
   "metadata": {
    "execution": {
     "iopub.execute_input": "2023-05-28T11:59:44.079776Z",
     "iopub.status.busy": "2023-05-28T11:59:44.079396Z",
     "iopub.status.idle": "2023-05-28T11:59:44.091386Z",
     "shell.execute_reply": "2023-05-28T11:59:44.090198Z",
     "shell.execute_reply.started": "2023-05-28T11:59:44.079747Z"
    }
   },
   "outputs": [],
   "source": [
    "hist_df = pd.DataFrame(mobilenet_v2_hist.history)\n",
    "hist_json_file = 'MobileNe_v2_10ep_histori.json' \n",
    "with open(hist_json_file, mode='w') as f:\n",
    "    hist_df.to_json(f)"
   ]
  },
  {
   "cell_type": "code",
   "execution_count": 20,
   "metadata": {
    "execution": {
     "iopub.execute_input": "2023-05-28T11:59:48.793273Z",
     "iopub.status.busy": "2023-05-28T11:59:48.792905Z",
     "iopub.status.idle": "2023-05-28T12:01:10.774833Z",
     "shell.execute_reply": "2023-05-28T12:01:10.773800Z",
     "shell.execute_reply.started": "2023-05-28T11:59:48.793243Z"
    }
   },
   "outputs": [
    {
     "name": "stdout",
     "output_type": "stream",
     "text": [
      "3600/3600 [==============================] - 48s 13ms/step - loss: 0.2512 - categorical_accuracy: 0.9333 - auc: 0.9858 - auc_1: 0.9724\n"
     ]
    }
   ],
   "source": [
    "pred = mobilenet_v2.evaluate(test_gen)"
   ]
  },
  {
   "cell_type": "code",
   "execution_count": 23,
   "metadata": {
    "execution": {
     "iopub.execute_input": "2023-05-28T12:03:06.534244Z",
     "iopub.status.busy": "2023-05-28T12:03:06.533890Z",
     "iopub.status.idle": "2023-05-28T12:03:40.154792Z",
     "shell.execute_reply": "2023-05-28T12:03:40.153801Z",
     "shell.execute_reply.started": "2023-05-28T12:03:06.534209Z"
    }
   },
   "outputs": [
    {
     "name": "stdout",
     "output_type": "stream",
     "text": [
      "3600/3600 [==============================] - 32s 9ms/step\n",
      "\n",
      "[[[2199  201]\n",
      "\n",
      "  [  36 1164]]\n",
      "\n",
      "\n",
      "\n",
      " [[2378   22]\n",
      "\n",
      "  [  68 1132]]\n",
      "\n",
      "\n",
      "\n",
      " [[2383   17]\n",
      "\n",
      "  [ 136 1064]]]\n",
      "\n",
      "              precision    recall  f1-score   support\n",
      "\n",
      "\n",
      "\n",
      "      faulty     0.8527    0.9700    0.9076      1200\n",
      "\n",
      "      normal     0.9809    0.9433    0.9618      1200\n",
      "\n",
      "     vfaulty     0.9843    0.8867    0.9329      1200\n",
      "\n",
      "\n",
      "\n",
      "    accuracy                         0.9333      3600\n",
      "\n",
      "   macro avg     0.9393    0.9333    0.9341      3600\n",
      "\n",
      "weighted avg     0.9393    0.9333    0.9341      3600\n",
      "\n",
      "\n"
     ]
    }
   ],
   "source": [
    "report(mobilenet_v2)"
   ]
  },
  {
   "cell_type": "markdown",
   "metadata": {},
   "source": [
    "## MobileNet v3"
   ]
  },
  {
   "cell_type": "code",
   "execution_count": 24,
   "metadata": {
    "execution": {
     "iopub.execute_input": "2023-05-28T12:03:47.635482Z",
     "iopub.status.busy": "2023-05-28T12:03:47.635133Z",
     "iopub.status.idle": "2023-05-28T12:03:47.648912Z",
     "shell.execute_reply": "2023-05-28T12:03:47.647657Z",
     "shell.execute_reply.started": "2023-05-28T12:03:47.635456Z"
    }
   },
   "outputs": [],
   "source": [
    "def bottleneck_block(x, kernel_size, stride, filters_out, exp_size, SE, NL):\n",
    "\n",
    "    expanded_channels = exp_size\n",
    "    reduction_ratio = 4\n",
    "    x_add = x\n",
    "    \n",
    "    x = Conv2D(expanded_channels, kernel_size=1, padding='valid')(x)\n",
    "    x = BatchNormalization()(x)\n",
    "    x = tf.keras.layers.Activation(NL)(x)\n",
    "    \n",
    "    x = DepthwiseConv2D(kernel_size=kernel_size, padding='same', strides=stride)(x)\n",
    "    x = BatchNormalization()(x)\n",
    "    x = tf.keras.layers.Activation(NL)(x)\n",
    "    \n",
    "    if SE == True:\n",
    "        # Squeeze and Excitation Layer\n",
    "        squeeze = tf.keras.layers.GlobalAveragePooling2D()(x)\n",
    "        excitation = Dense(expanded_channels // reduction_ratio, activation='relu')(squeeze)\n",
    "        excitation = Dense(expanded_channels, activation='hard_sigmoid')(excitation)\n",
    "        excitation = tf.keras.layers.Reshape((1, 1, expanded_channels))(excitation)\n",
    "        x = tf.keras.layers.multiply([x, excitation])\n",
    "\n",
    "    x = Conv2D(filters_out, kernel_size=1, padding='valid')(x)\n",
    "    x = BatchNormalization()(x)\n",
    "    \n",
    "    if x_add.shape == x.shape:\n",
    "        x = tf.keras.layers.add([x, x_add])\n",
    "    \n",
    "    return x\n",
    "\n",
    "def efficient_final_layers(x,l=960):\n",
    "    x = Conv2D(l, kernel_size=1, padding='valid', use_bias=False)(x)\n",
    "    x = BatchNormalization()(x)\n",
    "    x = tf.keras.layers.Activation('swish')(x)\n",
    "    \n",
    "    x = tf.keras.layers.AveragePooling2D(8)(x)\n",
    "    \n",
    "    x = Conv2D(1280, kernel_size=1, use_bias=False)(x)\n",
    "    x = tf.keras.layers.Activation('swish')(x)\n",
    "    x = Dropout(0.2)(x)\n",
    "    x = Conv2D(3, kernel_size=1, activation='softmax')(x)\n",
    "    \n",
    "    x = tf.squeeze(x, 1)\n",
    "    x = tf.squeeze(x, 1)\n",
    "    \n",
    "    return x"
   ]
  },
  {
   "cell_type": "code",
   "execution_count": 25,
   "metadata": {
    "execution": {
     "iopub.execute_input": "2023-05-28T12:03:48.423861Z",
     "iopub.status.busy": "2023-05-28T12:03:48.423467Z",
     "iopub.status.idle": "2023-05-28T12:03:48.442278Z",
     "shell.execute_reply": "2023-05-28T12:03:48.441108Z",
     "shell.execute_reply.started": "2023-05-28T12:03:48.423828Z"
    }
   },
   "outputs": [],
   "source": [
    "def MobileNet_v3(size='Large',input_shape=(256,256,3)):\n",
    "    \n",
    "    input = Input(shape=input_shape)\n",
    "    \n",
    "    if size == 'Large':\n",
    "        x = Conv2D(16, kernel_size=3, padding='same', strides=2, use_bias=False)(input)\n",
    "        x = BatchNormalization()(x)\n",
    "        x = tf.keras.layers.Activation('swish')(x)\n",
    "\n",
    "                           # x  k  s  out exp sq&ex   act\n",
    "        x = bottleneck_block(x, 3, 1, 16, 16, False, 'relu')\n",
    "        x = bottleneck_block(x, 3, 2, 24, 64, False, 'relu')\n",
    "        x = bottleneck_block(x, 3, 1, 24, 72, False, 'relu')\n",
    "        x = Dropout(0.2)(x)\n",
    "\n",
    "        x = bottleneck_block(x, 5, 2, 40, 72, True, 'relu')\n",
    "        x = bottleneck_block(x, 5, 1, 40, 120, True, 'relu')\n",
    "        x = bottleneck_block(x, 5, 1, 40, 120, True, 'relu')\n",
    "\n",
    "        x = bottleneck_block(x, 3, 2, 80, 240, False, 'swish')\n",
    "        x = bottleneck_block(x, 3, 1, 80, 200, False, 'swish')\n",
    "        x = bottleneck_block(x, 3, 1, 80, 184, False, 'swish')\n",
    "        x = bottleneck_block(x, 3, 1, 80, 184, False, 'swish')\n",
    "        x = bottleneck_block(x, 3, 1, 112, 480, True, 'swish')\n",
    "        x = bottleneck_block(x, 3, 1, 112, 672, True, 'swish')\n",
    "        x = Dropout(0.2)(x)\n",
    "\n",
    "        x = bottleneck_block(x, 5, 2, 160, 672, True, 'swish')\n",
    "        x = bottleneck_block(x, 5, 1, 160, 960, True, 'swish')\n",
    "        x = bottleneck_block(x, 5, 1, 160, 960, True, 'swish')\n",
    "        \n",
    "\n",
    "        output = efficient_final_layers(x)\n",
    "\n",
    "        model = Model(inputs=input, outputs=output, name='MobileNetv3_large')\n",
    "    if size == 'Small':\n",
    "        x = Conv2D(16, kernel_size=3, padding='same', strides=2, use_bias=False)(input)\n",
    "        x = BatchNormalization()(x)\n",
    "        x = tf.keras.layers.Activation('swish')(x)\n",
    "\n",
    "                           # x  k  s  out exp sq&ex   act\n",
    "        x = bottleneck_block(x, 3, 2, 16, 16, True, 'relu')\n",
    "        x = bottleneck_block(x, 3, 2, 24, 72, False, 'relu')\n",
    "        x = bottleneck_block(x, 3, 1, 24, 88, False, 'relu')\n",
    "        x = Dropout(0.2)(x)\n",
    "        \n",
    "        x = bottleneck_block(x, 5, 2, 40, 96, True, 'swish')\n",
    "        x = bottleneck_block(x, 5, 1, 40, 240, True, 'swish')\n",
    "        x = bottleneck_block(x, 5, 1, 40, 240, True, 'swish')\n",
    "        x = bottleneck_block(x, 5, 1, 48, 120, True, 'swish')\n",
    "        x = bottleneck_block(x, 5, 1, 48, 144, True, 'swish')\n",
    "        x = bottleneck_block(x, 5, 2, 96, 288, True, 'swish')\n",
    "        x = Dropout(0.2)(x)\n",
    "        x = bottleneck_block(x, 5, 1, 96, 576, True, 'swish')\n",
    "        x = bottleneck_block(x, 5, 1, 96, 576, True, 'swish')\n",
    "\n",
    "        output = efficient_final_layers(x,l=576)\n",
    "\n",
    "        model = Model(inputs=input, outputs=output, name='MobileNetv3_Small')\n",
    "    \n",
    "    return model"
   ]
  },
  {
   "cell_type": "code",
   "execution_count": 26,
   "metadata": {
    "execution": {
     "iopub.execute_input": "2023-05-28T12:03:55.908758Z",
     "iopub.status.busy": "2023-05-28T12:03:55.907931Z",
     "iopub.status.idle": "2023-05-28T12:03:58.158128Z",
     "shell.execute_reply": "2023-05-28T12:03:58.157194Z",
     "shell.execute_reply.started": "2023-05-28T12:03:55.908724Z"
    }
   },
   "outputs": [],
   "source": [
    "Lmobilenet_v3 = MobileNet_v3(size='Large',input_shape=(256,256,3))\n",
    "Lmobilenet_v3.compile(optimizer=tf.keras.optimizers.Adam(learning_rate=1e-4), loss='categorical_crossentropy', metrics=[cat_acc,auc_roc,prec,recall])"
   ]
  },
  {
   "cell_type": "code",
   "execution_count": 27,
   "metadata": {
    "execution": {
     "iopub.execute_input": "2023-05-28T12:03:59.949171Z",
     "iopub.status.busy": "2023-05-28T12:03:59.948800Z",
     "iopub.status.idle": "2023-05-28T12:03:59.962993Z",
     "shell.execute_reply": "2023-05-28T12:03:59.962125Z",
     "shell.execute_reply.started": "2023-05-28T12:03:59.949141Z"
    }
   },
   "outputs": [
    {
     "data": {
      "text/plain": [
       "4238721"
      ]
     },
     "execution_count": 27,
     "metadata": {},
     "output_type": "execute_result"
    }
   ],
   "source": [
    "Lmobilenet_v3.count_params()"
   ]
  },
  {
   "cell_type": "code",
   "execution_count": 28,
   "metadata": {
    "execution": {
     "iopub.execute_input": "2023-05-28T12:05:13.159731Z",
     "iopub.status.busy": "2023-05-28T12:05:13.158845Z",
     "iopub.status.idle": "2023-05-28T12:24:45.976142Z",
     "shell.execute_reply": "2023-05-28T12:24:45.975190Z",
     "shell.execute_reply.started": "2023-05-28T12:05:13.159677Z"
    }
   },
   "outputs": [
    {
     "name": "stdout",
     "output_type": "stream",
     "text": [
      "Epoch 1/10\n"
     ]
    },
    {
     "name": "stderr",
     "output_type": "stream",
     "text": [
      "2023-05-28 12:05:28.196987: E tensorflow/core/grappler/optimizers/meta_optimizer.cc:954] layout failed: INVALID_ARGUMENT: Size of values 0 does not match size of permutation 4 @ fanin shape inMobileNetv3_large/dropout_4/dropout/SelectV2-2-TransposeNHWCToNCHW-LayoutOptimizer\n"
     ]
    },
    {
     "name": "stdout",
     "output_type": "stream",
     "text": [
      "450/450 - 155s - loss: 0.2099 - categorical_accuracy: 0.9226 - auc: 0.9843 - auc_1: 0.9684 - val_loss: 2.3968 - val_categorical_accuracy: 0.3333 - val_auc: 0.5000 - val_auc_1: 0.3333 - 155s/epoch - 345ms/step\n",
      "\n",
      "Epoch 2/10\n",
      "\n",
      "450/450 - 110s - loss: 0.1610 - categorical_accuracy: 0.9347 - auc: 0.9906 - auc_1: 0.9814 - val_loss: 0.1731 - val_categorical_accuracy: 0.9250 - val_auc: 0.9905 - val_auc_1: 0.9808 - 110s/epoch - 246ms/step\n",
      "\n",
      "Epoch 3/10\n",
      "\n",
      "450/450 - 109s - loss: 0.1495 - categorical_accuracy: 0.9389 - auc: 0.9916 - auc_1: 0.9826 - val_loss: 0.1660 - val_categorical_accuracy: 0.9382 - val_auc: 0.9906 - val_auc_1: 0.9822 - 109s/epoch - 243ms/step\n",
      "\n",
      "Epoch 4/10\n",
      "\n",
      "450/450 - 109s - loss: 0.1366 - categorical_accuracy: 0.9461 - auc: 0.9928 - auc_1: 0.9853 - val_loss: 0.1749 - val_categorical_accuracy: 0.9473 - val_auc: 0.9894 - val_auc_1: 0.9796 - 109s/epoch - 242ms/step\n",
      "\n",
      "Epoch 5/10\n",
      "\n",
      "450/450 - 109s - loss: 0.1347 - categorical_accuracy: 0.9466 - auc: 0.9927 - auc_1: 0.9849 - val_loss: 0.1492 - val_categorical_accuracy: 0.9438 - val_auc: 0.9921 - val_auc_1: 0.9838 - 109s/epoch - 242ms/step\n",
      "\n",
      "Epoch 6/10\n",
      "\n",
      "450/450 - 110s - loss: 0.1206 - categorical_accuracy: 0.9504 - auc: 0.9944 - auc_1: 0.9888 - val_loss: 0.1487 - val_categorical_accuracy: 0.9455 - val_auc: 0.9925 - val_auc_1: 0.9856 - 110s/epoch - 244ms/step\n",
      "\n",
      "Epoch 7/10\n",
      "\n",
      "450/450 - 108s - loss: 0.1172 - categorical_accuracy: 0.9538 - auc: 0.9946 - auc_1: 0.9890 - val_loss: 0.1283 - val_categorical_accuracy: 0.9493 - val_auc: 0.9940 - val_auc_1: 0.9881 - 108s/epoch - 241ms/step\n",
      "\n",
      "Epoch 8/10\n",
      "\n",
      "450/450 - 110s - loss: 0.1099 - categorical_accuracy: 0.9583 - auc: 0.9950 - auc_1: 0.9901 - val_loss: 0.1460 - val_categorical_accuracy: 0.9513 - val_auc: 0.9922 - val_auc_1: 0.9849 - 110s/epoch - 244ms/step\n",
      "\n",
      "Epoch 9/10\n",
      "\n",
      "450/450 - 110s - loss: 0.1044 - categorical_accuracy: 0.9607 - auc: 0.9955 - auc_1: 0.9909 - val_loss: 0.1715 - val_categorical_accuracy: 0.9400 - val_auc: 0.9906 - val_auc_1: 0.9811 - 110s/epoch - 244ms/step\n",
      "\n",
      "Epoch 10/10\n",
      "\n",
      "450/450 - 108s - loss: 0.0964 - categorical_accuracy: 0.9647 - auc: 0.9960 - auc_1: 0.9918 - val_loss: 0.1336 - val_categorical_accuracy: 0.9507 - val_auc: 0.9937 - val_auc_1: 0.9870 - 108s/epoch - 241ms/step\n",
      "\n",
      "===================================\n",
      "\n",
      "10 epochs in 19.54682927131653 min\n"
     ]
    }
   ],
   "source": [
    "start = time()\n",
    "Lmobilenet_v3_hist = Lmobilenet_v3.fit(train_gen, steps_per_epoch=train_steps, \n",
    "                    validation_data=val_gen,\n",
    "                    validation_steps=val_steps,\n",
    "                    epochs=10, verbose=2)\n",
    "end = time()\n",
    "print(\"===================================\")\n",
    "print(f'10 epochs in {(end-start)/60} min')"
   ]
  },
  {
   "cell_type": "code",
   "execution_count": 29,
   "metadata": {
    "execution": {
     "iopub.execute_input": "2023-05-28T12:25:14.466760Z",
     "iopub.status.busy": "2023-05-28T12:25:14.466373Z",
     "iopub.status.idle": "2023-05-28T12:25:14.476815Z",
     "shell.execute_reply": "2023-05-28T12:25:14.475916Z",
     "shell.execute_reply.started": "2023-05-28T12:25:14.466727Z"
    }
   },
   "outputs": [],
   "source": [
    "hist_df = pd.DataFrame(Lmobilenet_v3_hist.history)\n",
    "hist_json_file = 'LMobileNe_v3_10ep_histori.json' \n",
    "with open(hist_json_file, mode='w') as f:\n",
    "    hist_df.to_json(f)"
   ]
  },
  {
   "cell_type": "code",
   "execution_count": 30,
   "metadata": {
    "execution": {
     "iopub.execute_input": "2023-05-28T12:25:19.872812Z",
     "iopub.status.busy": "2023-05-28T12:25:19.871822Z",
     "iopub.status.idle": "2023-05-28T12:26:41.854756Z",
     "shell.execute_reply": "2023-05-28T12:26:41.853598Z",
     "shell.execute_reply.started": "2023-05-28T12:25:19.872771Z"
    }
   },
   "outputs": [
    {
     "name": "stdout",
     "output_type": "stream",
     "text": [
      "3600/3600 [==============================] - 48s 13ms/step - loss: 0.1384 - categorical_accuracy: 0.9472 - auc: 0.9935 - auc_1: 0.9874\n"
     ]
    }
   ],
   "source": [
    "pred = Lmobilenet_v3.evaluate(test_gen)"
   ]
  },
  {
   "cell_type": "code",
   "execution_count": 31,
   "metadata": {
    "execution": {
     "iopub.execute_input": "2023-05-28T12:26:41.857336Z",
     "iopub.status.busy": "2023-05-28T12:26:41.856977Z",
     "iopub.status.idle": "2023-05-28T12:27:22.008017Z",
     "shell.execute_reply": "2023-05-28T12:27:22.006947Z",
     "shell.execute_reply.started": "2023-05-28T12:26:41.857301Z"
    }
   },
   "outputs": [
    {
     "name": "stdout",
     "output_type": "stream",
     "text": [
      "3600/3600 [==============================] - 39s 10ms/step\n",
      "\n",
      "[[[2290  110]\n",
      "\n",
      "  [  78 1122]]\n",
      "\n",
      "\n",
      "\n",
      " [[2342   58]\n",
      "\n",
      "  [  25 1175]]\n",
      "\n",
      "\n",
      "\n",
      " [[2378   22]\n",
      "\n",
      "  [  87 1113]]]\n",
      "\n",
      "              precision    recall  f1-score   support\n",
      "\n",
      "\n",
      "\n",
      "      faulty     0.9107    0.9350    0.9227      1200\n",
      "\n",
      "      normal     0.9530    0.9792    0.9659      1200\n",
      "\n",
      "     vfaulty     0.9806    0.9275    0.9533      1200\n",
      "\n",
      "\n",
      "\n",
      "    accuracy                         0.9472      3600\n",
      "\n",
      "   macro avg     0.9481    0.9472    0.9473      3600\n",
      "\n",
      "weighted avg     0.9481    0.9472    0.9473      3600\n",
      "\n",
      "\n"
     ]
    }
   ],
   "source": [
    "report(Lmobilenet_v3)"
   ]
  },
  {
   "cell_type": "code",
   "execution_count": 32,
   "metadata": {
    "execution": {
     "iopub.execute_input": "2023-05-28T12:31:06.881620Z",
     "iopub.status.busy": "2023-05-28T12:31:06.881239Z",
     "iopub.status.idle": "2023-05-28T12:31:08.758313Z",
     "shell.execute_reply": "2023-05-28T12:31:08.757371Z",
     "shell.execute_reply.started": "2023-05-28T12:31:06.881590Z"
    }
   },
   "outputs": [],
   "source": [
    "Smobilenet_v3 = MobileNet_v3(size='Small',input_shape=(256,256,3))\n",
    "Smobilenet_v3.compile(optimizer=tf.keras.optimizers.Adam(learning_rate=1e-4), loss='categorical_crossentropy', metrics=[cat_acc,auc_roc,prec,recall])"
   ]
  },
  {
   "cell_type": "code",
   "execution_count": 33,
   "metadata": {
    "execution": {
     "iopub.execute_input": "2023-05-28T12:31:09.901082Z",
     "iopub.status.busy": "2023-05-28T12:31:09.900713Z",
     "iopub.status.idle": "2023-05-28T12:31:09.913646Z",
     "shell.execute_reply": "2023-05-28T12:31:09.912486Z",
     "shell.execute_reply.started": "2023-05-28T12:31:09.901052Z"
    }
   },
   "outputs": [
    {
     "data": {
      "text/plain": [
       "1680425"
      ]
     },
     "execution_count": 33,
     "metadata": {},
     "output_type": "execute_result"
    }
   ],
   "source": [
    "Smobilenet_v3.count_params()"
   ]
  },
  {
   "cell_type": "code",
   "execution_count": 35,
   "metadata": {
    "execution": {
     "iopub.execute_input": "2023-05-28T12:32:11.083597Z",
     "iopub.status.busy": "2023-05-28T12:32:11.083158Z",
     "iopub.status.idle": "2023-05-28T12:46:54.899653Z",
     "shell.execute_reply": "2023-05-28T12:46:54.898466Z",
     "shell.execute_reply.started": "2023-05-28T12:32:11.083561Z"
    }
   },
   "outputs": [
    {
     "name": "stdout",
     "output_type": "stream",
     "text": [
      "Epoch 1/10\n"
     ]
    },
    {
     "name": "stderr",
     "output_type": "stream",
     "text": [
      "2023-05-28 12:32:23.947130: E tensorflow/core/grappler/optimizers/meta_optimizer.cc:954] layout failed: INVALID_ARGUMENT: Size of values 0 does not match size of permutation 4 @ fanin shape inMobileNetv3_Small/dropout_7/dropout/SelectV2-2-TransposeNHWCToNCHW-LayoutOptimizer\n"
     ]
    },
    {
     "name": "stdout",
     "output_type": "stream",
     "text": [
      "450/450 - 132s - loss: 0.2223 - categorical_accuracy: 0.9199 - auc: 0.9862 - auc_1: 0.9732 - val_loss: 1.9227 - val_categorical_accuracy: 0.3333 - val_auc: 0.6413 - val_auc_1: 0.5109 - 132s/epoch - 293ms/step\n",
      "\n",
      "Epoch 2/10\n",
      "\n",
      "450/450 - 86s - loss: 0.1543 - categorical_accuracy: 0.9401 - auc: 0.9910 - auc_1: 0.9815 - val_loss: 0.1351 - val_categorical_accuracy: 0.9490 - val_auc: 0.9927 - val_auc_1: 0.9850 - 86s/epoch - 191ms/step\n",
      "\n",
      "Epoch 3/10\n",
      "\n",
      "450/450 - 85s - loss: 0.1362 - categorical_accuracy: 0.9460 - auc: 0.9930 - auc_1: 0.9860 - val_loss: 0.1269 - val_categorical_accuracy: 0.9518 - val_auc: 0.9937 - val_auc_1: 0.9876 - 85s/epoch - 189ms/step\n",
      "\n",
      "Epoch 4/10\n",
      "\n",
      "450/450 - 83s - loss: 0.1191 - categorical_accuracy: 0.9536 - auc: 0.9944 - auc_1: 0.9888 - val_loss: 0.1304 - val_categorical_accuracy: 0.9515 - val_auc: 0.9939 - val_auc_1: 0.9880 - 83s/epoch - 184ms/step\n",
      "\n",
      "Epoch 5/10\n",
      "\n",
      "450/450 - 80s - loss: 0.1097 - categorical_accuracy: 0.9564 - auc: 0.9951 - auc_1: 0.9903 - val_loss: 0.1486 - val_categorical_accuracy: 0.9478 - val_auc: 0.9931 - val_auc_1: 0.9869 - 80s/epoch - 178ms/step\n",
      "\n",
      "Epoch 6/10\n",
      "\n",
      "450/450 - 81s - loss: 0.0998 - categorical_accuracy: 0.9612 - auc: 0.9957 - auc_1: 0.9915 - val_loss: 0.1262 - val_categorical_accuracy: 0.9527 - val_auc: 0.9943 - val_auc_1: 0.9886 - 81s/epoch - 179ms/step\n",
      "\n",
      "Epoch 7/10\n",
      "\n",
      "450/450 - 84s - loss: 0.0924 - categorical_accuracy: 0.9660 - auc: 0.9964 - auc_1: 0.9927 - val_loss: 0.1329 - val_categorical_accuracy: 0.9507 - val_auc: 0.9935 - val_auc_1: 0.9870 - 84s/epoch - 187ms/step\n",
      "\n",
      "Epoch 8/10\n",
      "\n",
      "450/450 - 82s - loss: 0.0802 - categorical_accuracy: 0.9703 - auc: 0.9970 - auc_1: 0.9940 - val_loss: 0.1313 - val_categorical_accuracy: 0.9527 - val_auc: 0.9934 - val_auc_1: 0.9870 - 82s/epoch - 183ms/step\n",
      "\n",
      "Epoch 9/10\n",
      "\n",
      "450/450 - 85s - loss: 0.0725 - categorical_accuracy: 0.9737 - auc: 0.9975 - auc_1: 0.9951 - val_loss: 0.1596 - val_categorical_accuracy: 0.9462 - val_auc: 0.9912 - val_auc_1: 0.9824 - 85s/epoch - 190ms/step\n",
      "\n",
      "Epoch 10/10\n",
      "\n",
      "450/450 - 85s - loss: 0.0664 - categorical_accuracy: 0.9753 - auc: 0.9982 - auc_1: 0.9965 - val_loss: 0.1393 - val_categorical_accuracy: 0.9500 - val_auc: 0.9931 - val_auc_1: 0.9867 - 85s/epoch - 188ms/step\n",
      "\n",
      "===================================\n",
      "\n",
      "10 epochs in 14.73016848564148 min\n"
     ]
    }
   ],
   "source": [
    "start = time()\n",
    "Smobilenet_v3_hist = Smobilenet_v3.fit(train_gen, steps_per_epoch=train_steps, \n",
    "                    validation_data=val_gen,\n",
    "                    validation_steps=val_steps,\n",
    "                    epochs=10, verbose=2)\n",
    "end = time()\n",
    "print(\"===================================\")\n",
    "print(f'10 epochs in {(end-start)/60} min')"
   ]
  },
  {
   "cell_type": "code",
   "execution_count": 36,
   "metadata": {
    "execution": {
     "iopub.execute_input": "2023-05-28T12:47:34.300939Z",
     "iopub.status.busy": "2023-05-28T12:47:34.299923Z",
     "iopub.status.idle": "2023-05-28T12:47:34.308433Z",
     "shell.execute_reply": "2023-05-28T12:47:34.307444Z",
     "shell.execute_reply.started": "2023-05-28T12:47:34.300889Z"
    }
   },
   "outputs": [],
   "source": [
    "hist_df = pd.DataFrame(Smobilenet_v3_hist.history)\n",
    "hist_json_file = 'SMobileNe_v3_10ep_histori.json' \n",
    "with open(hist_json_file, mode='w') as f:\n",
    "    hist_df.to_json(f)"
   ]
  },
  {
   "cell_type": "code",
   "execution_count": 37,
   "metadata": {
    "execution": {
     "iopub.execute_input": "2023-05-28T12:47:36.147780Z",
     "iopub.status.busy": "2023-05-28T12:47:36.147403Z",
     "iopub.status.idle": "2023-05-28T12:48:21.286889Z",
     "shell.execute_reply": "2023-05-28T12:48:21.285952Z",
     "shell.execute_reply.started": "2023-05-28T12:47:36.147748Z"
    }
   },
   "outputs": [
    {
     "name": "stdout",
     "output_type": "stream",
     "text": [
      "3600/3600 [==============================] - 45s 12ms/step - loss: 0.1418 - categorical_accuracy: 0.9514 - auc: 0.9925 - auc_1: 0.9850\n"
     ]
    }
   ],
   "source": [
    "pred = Smobilenet_v3.evaluate(test_gen)"
   ]
  },
  {
   "cell_type": "code",
   "execution_count": 38,
   "metadata": {
    "execution": {
     "iopub.execute_input": "2023-05-28T12:48:34.708263Z",
     "iopub.status.busy": "2023-05-28T12:48:34.707892Z",
     "iopub.status.idle": "2023-05-28T12:49:10.006110Z",
     "shell.execute_reply": "2023-05-28T12:49:10.005140Z",
     "shell.execute_reply.started": "2023-05-28T12:48:34.708233Z"
    }
   },
   "outputs": [
    {
     "name": "stdout",
     "output_type": "stream",
     "text": [
      "3600/3600 [==============================] - 34s 9ms/step\n",
      "\n",
      "[[[2330   70]\n",
      "\n",
      "  [ 103 1097]]\n",
      "\n",
      "\n",
      "\n",
      " [[2379   21]\n",
      "\n",
      "  [  43 1157]]\n",
      "\n",
      "\n",
      "\n",
      " [[2316   84]\n",
      "\n",
      "  [  29 1171]]]\n",
      "\n",
      "              precision    recall  f1-score   support\n",
      "\n",
      "\n",
      "\n",
      "      faulty     0.9400    0.9142    0.9269      1200\n",
      "\n",
      "      normal     0.9822    0.9642    0.9731      1200\n",
      "\n",
      "     vfaulty     0.9331    0.9758    0.9540      1200\n",
      "\n",
      "\n",
      "\n",
      "    accuracy                         0.9514      3600\n",
      "\n",
      "   macro avg     0.9518    0.9514    0.9513      3600\n",
      "\n",
      "weighted avg     0.9518    0.9514    0.9513      3600\n",
      "\n",
      "\n"
     ]
    }
   ],
   "source": [
    "report(Smobilenet_v3)"
   ]
  },
  {
   "cell_type": "markdown",
   "metadata": {},
   "source": [
    "## ResNet under 50"
   ]
  },
  {
   "cell_type": "code",
   "execution_count": 39,
   "metadata": {
    "execution": {
     "iopub.execute_input": "2023-05-28T12:51:23.559451Z",
     "iopub.status.busy": "2023-05-28T12:51:23.559070Z",
     "iopub.status.idle": "2023-05-28T12:51:23.570150Z",
     "shell.execute_reply": "2023-05-28T12:51:23.569179Z",
     "shell.execute_reply.started": "2023-05-28T12:51:23.559421Z"
    }
   },
   "outputs": [],
   "source": [
    "def identity_block(x, filter):\n",
    "    x_skip = x\n",
    "    \n",
    "    act = 'relu'\n",
    "    \n",
    "    x = Conv2D(filters=filter, kernel_size=(3,3), padding='same')(x)\n",
    "    x = BatchNormalization(axis=3)(x)\n",
    "    x = tf.keras.layers.Activation(act)(x)\n",
    "    \n",
    "    x = Conv2D(filters=filter, kernel_size=(3,3), padding='same')(x)\n",
    "    x = BatchNormalization(axis=3)(x)\n",
    "    \n",
    "    x = tf.keras.layers.Add()([x, x_skip])\n",
    "    x = tf.keras.layers.Activation(act)(x)\n",
    "    \n",
    "    return x\n",
    "\n",
    "def convolutional_block(x, filter):\n",
    "    x_skip = x\n",
    "    \n",
    "    act = 'relu'\n",
    "    \n",
    "    x = Conv2D(filters=filter, kernel_size=(3,3), padding='same', strides=2)(x)\n",
    "    x = BatchNormalization(axis=3)(x)\n",
    "    x = tf.keras.layers.Activation(act)(x)\n",
    "    \n",
    "    x = Conv2D(filters=filter, kernel_size=(3,3), padding='same')(x)\n",
    "    x = BatchNormalization(axis=3)(x)\n",
    "    \n",
    "    x_skip = Conv2D(filters=filter, kernel_size=1, strides=2)(x_skip)\n",
    "    \n",
    "    x = tf.keras.layers.Add()([x, x_skip])\n",
    "    x = tf.keras.layers.Activation(act)(x)\n",
    "    return x"
   ]
  },
  {
   "cell_type": "code",
   "execution_count": 40,
   "metadata": {
    "execution": {
     "iopub.execute_input": "2023-05-28T12:51:43.923443Z",
     "iopub.status.busy": "2023-05-28T12:51:43.923085Z",
     "iopub.status.idle": "2023-05-28T12:51:43.933857Z",
     "shell.execute_reply": "2023-05-28T12:51:43.932774Z",
     "shell.execute_reply.started": "2023-05-28T12:51:43.923414Z"
    }
   },
   "outputs": [],
   "source": [
    "def ResNet(layers=18, input_shape=(256,256,3)):\n",
    "    \n",
    "    filters = 64\n",
    "    act = 'relu'\n",
    "    \n",
    "    input = Input(shape=input_shape)\n",
    "    #x = tf.keras.layers.ZeroPadding2D((3,3))(x_input)\n",
    "    \n",
    "    x = Conv2D(filters=filters, kernel_size=(7,7), strides=2)(input)\n",
    "    x = Dropout(0.2)(x)\n",
    "    x = BatchNormalization()(x)\n",
    "    x = tf.keras.layers.Activation(act)(x)\n",
    "    x = MaxPool2D(pool_size=3, strides=2, padding='same')(x)\n",
    "    \n",
    "    if layers == 18:\n",
    "        block_layers = [2,2,2,2]\n",
    "    if layers == 34:\n",
    "        block_layers = [3,4,6,3]\n",
    "    for i in range(4):\n",
    "        if i == 0:\n",
    "            for j in range(block_layers[i]):\n",
    "                x = identity_block(x, filters)\n",
    "        else:\n",
    "            filters = filters*2\n",
    "            x = convolutional_block(x, filters)\n",
    "            for j in range(block_layers[i] - 1):\n",
    "                x = identity_block(x, filters)\n",
    "    \n",
    "    x = tf.keras.layers.GlobalAveragePooling2D()(x)\n",
    "    x = Flatten()(x)\n",
    "    x = Dropout(0.5)(x)\n",
    "    output = Dense(units=3, activation='softmax')(x)\n",
    "    \n",
    "    model = Model(inputs=input, outputs=output, name='ResNet18')\n",
    "    \n",
    "    return model"
   ]
  },
  {
   "cell_type": "code",
   "execution_count": 41,
   "metadata": {
    "execution": {
     "iopub.execute_input": "2023-05-28T12:51:47.187900Z",
     "iopub.status.busy": "2023-05-28T12:51:47.187526Z",
     "iopub.status.idle": "2023-05-28T12:51:47.657603Z",
     "shell.execute_reply": "2023-05-28T12:51:47.656617Z",
     "shell.execute_reply.started": "2023-05-28T12:51:47.187856Z"
    }
   },
   "outputs": [],
   "source": [
    "resnet18 = ResNet(input_shape=(256,256,3))\n",
    "resnet18.compile(optimizer=tf.keras.optimizers.Adam(learning_rate=1e-4), loss='categorical_crossentropy', metrics=[cat_acc,auc_roc,prec,recall])"
   ]
  },
  {
   "cell_type": "code",
   "execution_count": 42,
   "metadata": {
    "execution": {
     "iopub.execute_input": "2023-05-28T12:51:47.659857Z",
     "iopub.status.busy": "2023-05-28T12:51:47.659512Z",
     "iopub.status.idle": "2023-05-28T12:51:47.668089Z",
     "shell.execute_reply": "2023-05-28T12:51:47.667196Z",
     "shell.execute_reply.started": "2023-05-28T12:51:47.659824Z"
    }
   },
   "outputs": [
    {
     "data": {
      "text/plain": [
       "11188867"
      ]
     },
     "execution_count": 42,
     "metadata": {},
     "output_type": "execute_result"
    }
   ],
   "source": [
    "resnet18.count_params()"
   ]
  },
  {
   "cell_type": "code",
   "execution_count": 43,
   "metadata": {
    "execution": {
     "iopub.execute_input": "2023-05-28T12:52:04.123230Z",
     "iopub.status.busy": "2023-05-28T12:52:04.122853Z",
     "iopub.status.idle": "2023-05-28T13:06:18.831436Z",
     "shell.execute_reply": "2023-05-28T13:06:18.830539Z",
     "shell.execute_reply.started": "2023-05-28T12:52:04.123202Z"
    }
   },
   "outputs": [
    {
     "name": "stdout",
     "output_type": "stream",
     "text": [
      "Epoch 1/10\n"
     ]
    },
    {
     "name": "stderr",
     "output_type": "stream",
     "text": [
      "2023-05-28 12:52:09.884609: E tensorflow/core/grappler/optimizers/meta_optimizer.cc:954] layout failed: INVALID_ARGUMENT: Size of values 0 does not match size of permutation 4 @ fanin shape inResNet18/dropout_10/dropout/SelectV2-2-TransposeNHWCToNCHW-LayoutOptimizer\n"
     ]
    },
    {
     "name": "stdout",
     "output_type": "stream",
     "text": [
      "450/450 - 113s - loss: 0.2254 - categorical_accuracy: 0.9264 - auc: 0.9851 - auc_1: 0.9710 - val_loss: 1.1994 - val_categorical_accuracy: 0.3688 - val_auc: 0.9107 - val_auc_1: 0.8639 - 113s/epoch - 252ms/step\n",
      "\n",
      "Epoch 2/10\n",
      "\n",
      "450/450 - 80s - loss: 0.1649 - categorical_accuracy: 0.9332 - auc: 0.9902 - auc_1: 0.9804 - val_loss: 0.1659 - val_categorical_accuracy: 0.9353 - val_auc: 0.9915 - val_auc_1: 0.9832 - 80s/epoch - 178ms/step\n",
      "\n",
      "Epoch 3/10\n",
      "\n",
      "450/450 - 86s - loss: 0.1481 - categorical_accuracy: 0.9426 - auc: 0.9918 - auc_1: 0.9836 - val_loss: 0.2725 - val_categorical_accuracy: 0.9225 - val_auc: 0.9830 - val_auc_1: 0.9706 - 86s/epoch - 190ms/step\n",
      "\n",
      "Epoch 4/10\n",
      "\n",
      "450/450 - 81s - loss: 0.1302 - categorical_accuracy: 0.9483 - auc: 0.9932 - auc_1: 0.9860 - val_loss: 0.1542 - val_categorical_accuracy: 0.9372 - val_auc: 0.9925 - val_auc_1: 0.9849 - 81s/epoch - 180ms/step\n",
      "\n",
      "Epoch 5/10\n",
      "\n",
      "450/450 - 82s - loss: 0.1179 - categorical_accuracy: 0.9535 - auc: 0.9944 - auc_1: 0.9890 - val_loss: 0.1728 - val_categorical_accuracy: 0.9437 - val_auc: 0.9908 - val_auc_1: 0.9815 - 82s/epoch - 182ms/step\n",
      "\n",
      "Epoch 6/10\n",
      "\n",
      "450/450 - 82s - loss: 0.1142 - categorical_accuracy: 0.9546 - auc: 0.9944 - auc_1: 0.9887 - val_loss: 0.1710 - val_categorical_accuracy: 0.9477 - val_auc: 0.9931 - val_auc_1: 0.9870 - 82s/epoch - 182ms/step\n",
      "\n",
      "Epoch 7/10\n",
      "\n",
      "450/450 - 83s - loss: 0.1084 - categorical_accuracy: 0.9574 - auc: 0.9950 - auc_1: 0.9900 - val_loss: 0.1858 - val_categorical_accuracy: 0.9523 - val_auc: 0.9930 - val_auc_1: 0.9882 - 83s/epoch - 185ms/step\n",
      "\n",
      "Epoch 8/10\n",
      "\n",
      "450/450 - 84s - loss: 0.1060 - categorical_accuracy: 0.9596 - auc: 0.9952 - auc_1: 0.9903 - val_loss: 0.2050 - val_categorical_accuracy: 0.9265 - val_auc: 0.9907 - val_auc_1: 0.9829 - 84s/epoch - 187ms/step\n",
      "\n",
      "Epoch 9/10\n",
      "\n",
      "450/450 - 83s - loss: 0.1029 - categorical_accuracy: 0.9616 - auc: 0.9955 - auc_1: 0.9910 - val_loss: 0.3042 - val_categorical_accuracy: 0.9063 - val_auc: 0.9830 - val_auc_1: 0.9703 - 83s/epoch - 183ms/step\n",
      "\n",
      "Epoch 10/10\n",
      "\n",
      "450/450 - 80s - loss: 0.0960 - categorical_accuracy: 0.9619 - auc: 0.9961 - auc_1: 0.9921 - val_loss: 0.1481 - val_categorical_accuracy: 0.9463 - val_auc: 0.9936 - val_auc_1: 0.9873 - 80s/epoch - 179ms/step\n",
      "\n",
      "===================================\n",
      "\n",
      "10 epochs in 14.2450412829717 min\n"
     ]
    }
   ],
   "source": [
    "start = time()\n",
    "resnet18_hist = resnet18.fit(train_gen, steps_per_epoch=train_steps, \n",
    "                    validation_data=val_gen,\n",
    "                    validation_steps=val_steps,\n",
    "                    epochs=10, verbose=2)\n",
    "end = time()\n",
    "print(\"===================================\")\n",
    "print(f'10 epochs in {(end-start)/60} min')"
   ]
  },
  {
   "cell_type": "code",
   "execution_count": 44,
   "metadata": {
    "execution": {
     "iopub.execute_input": "2023-05-28T13:07:42.528940Z",
     "iopub.status.busy": "2023-05-28T13:07:42.528538Z",
     "iopub.status.idle": "2023-05-28T13:07:42.536138Z",
     "shell.execute_reply": "2023-05-28T13:07:42.535071Z",
     "shell.execute_reply.started": "2023-05-28T13:07:42.528908Z"
    }
   },
   "outputs": [],
   "source": [
    "hist_df = pd.DataFrame(resnet18_hist.history)\n",
    "hist_json_file = 'ResNet18_10ep_histori.json' \n",
    "with open(hist_json_file, mode='w') as f:\n",
    "    hist_df.to_json(f)"
   ]
  },
  {
   "cell_type": "code",
   "execution_count": 45,
   "metadata": {
    "execution": {
     "iopub.execute_input": "2023-05-28T13:07:44.217945Z",
     "iopub.status.busy": "2023-05-28T13:07:44.217126Z",
     "iopub.status.idle": "2023-05-28T13:08:25.232901Z",
     "shell.execute_reply": "2023-05-28T13:08:25.231922Z",
     "shell.execute_reply.started": "2023-05-28T13:07:44.217911Z"
    }
   },
   "outputs": [
    {
     "name": "stdout",
     "output_type": "stream",
     "text": [
      "3600/3600 [==============================] - 35s 10ms/step - loss: 0.1444 - categorical_accuracy: 0.9500 - auc: 0.9939 - auc_1: 0.9878\n"
     ]
    }
   ],
   "source": [
    "pred = resnet18.evaluate(test_gen)"
   ]
  },
  {
   "cell_type": "code",
   "execution_count": 46,
   "metadata": {
    "execution": {
     "iopub.execute_input": "2023-05-28T13:09:16.453132Z",
     "iopub.status.busy": "2023-05-28T13:09:16.452724Z",
     "iopub.status.idle": "2023-05-28T13:09:42.278718Z",
     "shell.execute_reply": "2023-05-28T13:09:42.277552Z",
     "shell.execute_reply.started": "2023-05-28T13:09:16.453100Z"
    }
   },
   "outputs": [
    {
     "name": "stdout",
     "output_type": "stream",
     "text": [
      "3600/3600 [==============================] - 24s 7ms/step\n",
      "\n",
      "[[[2294  106]\n",
      "\n",
      "  [  72 1128]]\n",
      "\n",
      "\n",
      "\n",
      " [[2389   11]\n",
      "\n",
      "  [  55 1145]]\n",
      "\n",
      "\n",
      "\n",
      " [[2337   63]\n",
      "\n",
      "  [  53 1147]]]\n",
      "\n",
      "              precision    recall  f1-score   support\n",
      "\n",
      "\n",
      "\n",
      "      faulty     0.9141    0.9400    0.9269      1200\n",
      "\n",
      "      normal     0.9905    0.9542    0.9720      1200\n",
      "\n",
      "     vfaulty     0.9479    0.9558    0.9519      1200\n",
      "\n",
      "\n",
      "\n",
      "    accuracy                         0.9500      3600\n",
      "\n",
      "   macro avg     0.9508    0.9500    0.9502      3600\n",
      "\n",
      "weighted avg     0.9508    0.9500    0.9502      3600\n",
      "\n",
      "\n"
     ]
    }
   ],
   "source": [
    "report(resnet18)"
   ]
  },
  {
   "cell_type": "code",
   "execution_count": 47,
   "metadata": {
    "execution": {
     "iopub.execute_input": "2023-05-28T13:11:49.307093Z",
     "iopub.status.busy": "2023-05-28T13:11:49.306694Z",
     "iopub.status.idle": "2023-05-28T13:11:50.078069Z",
     "shell.execute_reply": "2023-05-28T13:11:50.077123Z",
     "shell.execute_reply.started": "2023-05-28T13:11:49.307064Z"
    }
   },
   "outputs": [],
   "source": [
    "resnet34 = ResNet(layers=34,input_shape=(256,256,3))\n",
    "resnet34.compile(optimizer=tf.keras.optimizers.Adam(learning_rate=1e-4), loss='categorical_crossentropy', metrics=[cat_acc,auc_roc,prec,recall])"
   ]
  },
  {
   "cell_type": "code",
   "execution_count": 48,
   "metadata": {
    "execution": {
     "iopub.execute_input": "2023-05-28T13:11:50.080305Z",
     "iopub.status.busy": "2023-05-28T13:11:50.079952Z",
     "iopub.status.idle": "2023-05-28T13:11:50.091320Z",
     "shell.execute_reply": "2023-05-28T13:11:50.089299Z",
     "shell.execute_reply.started": "2023-05-28T13:11:50.080272Z"
    }
   },
   "outputs": [
    {
     "data": {
      "text/plain": [
       "21308163"
      ]
     },
     "execution_count": 48,
     "metadata": {},
     "output_type": "execute_result"
    }
   ],
   "source": [
    "resnet34.count_params()"
   ]
  },
  {
   "cell_type": "code",
   "execution_count": 49,
   "metadata": {
    "execution": {
     "iopub.execute_input": "2023-05-28T13:11:50.930538Z",
     "iopub.status.busy": "2023-05-28T13:11:50.929619Z",
     "iopub.status.idle": "2023-05-28T13:27:46.992020Z",
     "shell.execute_reply": "2023-05-28T13:27:46.991090Z",
     "shell.execute_reply.started": "2023-05-28T13:11:50.930496Z"
    }
   },
   "outputs": [
    {
     "name": "stdout",
     "output_type": "stream",
     "text": [
      "Epoch 1/10\n"
     ]
    },
    {
     "name": "stderr",
     "output_type": "stream",
     "text": [
      "2023-05-28 13:11:59.818062: E tensorflow/core/grappler/optimizers/meta_optimizer.cc:954] layout failed: INVALID_ARGUMENT: Size of values 0 does not match size of permutation 4 @ fanin shape inResNet18/dropout_12/dropout/SelectV2-2-TransposeNHWCToNCHW-LayoutOptimizer\n"
     ]
    },
    {
     "name": "stdout",
     "output_type": "stream",
     "text": [
      "450/450 - 113s - loss: 0.2523 - categorical_accuracy: 0.9206 - auc: 0.9825 - auc_1: 0.9654 - val_loss: 1.9612 - val_categorical_accuracy: 0.3333 - val_auc: 0.8196 - val_auc_1: 0.7452 - 113s/epoch - 252ms/step\n",
      "\n",
      "Epoch 2/10\n",
      "\n",
      "450/450 - 94s - loss: 0.1603 - categorical_accuracy: 0.9353 - auc: 0.9905 - auc_1: 0.9810 - val_loss: 0.3012 - val_categorical_accuracy: 0.8830 - val_auc: 0.9883 - val_auc_1: 0.9765 - 94s/epoch - 208ms/step\n",
      "\n",
      "Epoch 3/10\n",
      "\n",
      "450/450 - 90s - loss: 0.1411 - categorical_accuracy: 0.9446 - auc: 0.9923 - auc_1: 0.9846 - val_loss: 0.2795 - val_categorical_accuracy: 0.9305 - val_auc: 0.9847 - val_auc_1: 0.9714 - 90s/epoch - 201ms/step\n",
      "\n",
      "Epoch 4/10\n",
      "\n",
      "450/450 - 91s - loss: 0.1349 - categorical_accuracy: 0.9489 - auc: 0.9927 - auc_1: 0.9851 - val_loss: 0.1528 - val_categorical_accuracy: 0.9417 - val_auc: 0.9923 - val_auc_1: 0.9837 - 91s/epoch - 203ms/step\n",
      "\n",
      "Epoch 5/10\n",
      "\n",
      "450/450 - 94s - loss: 0.1263 - categorical_accuracy: 0.9519 - auc: 0.9936 - auc_1: 0.9870 - val_loss: 0.1960 - val_categorical_accuracy: 0.9365 - val_auc: 0.9889 - val_auc_1: 0.9801 - 94s/epoch - 208ms/step\n",
      "\n",
      "Epoch 6/10\n",
      "\n",
      "450/450 - 97s - loss: 0.1201 - categorical_accuracy: 0.9538 - auc: 0.9939 - auc_1: 0.9876 - val_loss: 0.2351 - val_categorical_accuracy: 0.9410 - val_auc: 0.9853 - val_auc_1: 0.9739 - 97s/epoch - 215ms/step\n",
      "\n",
      "Epoch 7/10\n",
      "\n",
      "450/450 - 96s - loss: 0.1149 - categorical_accuracy: 0.9586 - auc: 0.9944 - auc_1: 0.9883 - val_loss: 0.2300 - val_categorical_accuracy: 0.9413 - val_auc: 0.9879 - val_auc_1: 0.9786 - 96s/epoch - 213ms/step\n",
      "\n",
      "Epoch 8/10\n",
      "\n",
      "450/450 - 94s - loss: 0.1150 - categorical_accuracy: 0.9560 - auc: 0.9945 - auc_1: 0.9890 - val_loss: 0.1797 - val_categorical_accuracy: 0.9233 - val_auc: 0.9900 - val_auc_1: 0.9809 - 94s/epoch - 208ms/step\n",
      "\n",
      "Epoch 9/10\n",
      "\n",
      "450/450 - 93s - loss: 0.1057 - categorical_accuracy: 0.9595 - auc: 0.9954 - auc_1: 0.9909 - val_loss: 0.1692 - val_categorical_accuracy: 0.9358 - val_auc: 0.9913 - val_auc_1: 0.9834 - 93s/epoch - 207ms/step\n",
      "\n",
      "Epoch 10/10\n",
      "\n",
      "450/450 - 94s - loss: 0.1016 - categorical_accuracy: 0.9617 - auc: 0.9955 - auc_1: 0.9907 - val_loss: 0.1630 - val_categorical_accuracy: 0.9410 - val_auc: 0.9907 - val_auc_1: 0.9817 - 94s/epoch - 209ms/step\n",
      "\n",
      "===================================\n",
      "\n",
      "10 epochs in 15.934245812892915 min\n"
     ]
    }
   ],
   "source": [
    "start = time()\n",
    "resnet34_hist = resnet34.fit(train_gen, steps_per_epoch=train_steps, \n",
    "                    validation_data=val_gen,\n",
    "                    validation_steps=val_steps,\n",
    "                    epochs=10, verbose=2)\n",
    "end = time()\n",
    "print(\"===================================\")\n",
    "print(f'10 epochs in {(end-start)/60} min')"
   ]
  },
  {
   "cell_type": "code",
   "execution_count": 50,
   "metadata": {
    "execution": {
     "iopub.execute_input": "2023-05-28T13:27:46.995610Z",
     "iopub.status.busy": "2023-05-28T13:27:46.995318Z",
     "iopub.status.idle": "2023-05-28T13:27:47.002352Z",
     "shell.execute_reply": "2023-05-28T13:27:47.001361Z",
     "shell.execute_reply.started": "2023-05-28T13:27:46.995585Z"
    }
   },
   "outputs": [],
   "source": [
    "hist_df = pd.DataFrame(resnet34_hist.history)\n",
    "hist_json_file = 'ResNet34_10ep_histori.json' \n",
    "with open(hist_json_file, mode='w') as f:\n",
    "    hist_df.to_json(f)"
   ]
  },
  {
   "cell_type": "code",
   "execution_count": 51,
   "metadata": {
    "execution": {
     "iopub.execute_input": "2023-05-28T13:30:15.016583Z",
     "iopub.status.busy": "2023-05-28T13:30:15.015851Z",
     "iopub.status.idle": "2023-05-28T13:31:36.999914Z",
     "shell.execute_reply": "2023-05-28T13:31:36.998926Z",
     "shell.execute_reply.started": "2023-05-28T13:30:15.016550Z"
    }
   },
   "outputs": [
    {
     "name": "stdout",
     "output_type": "stream",
     "text": [
      "3600/3600 [==============================] - 44s 12ms/step - loss: 0.1672 - categorical_accuracy: 0.9364 - auc: 0.9902 - auc_1: 0.9814\n"
     ]
    }
   ],
   "source": [
    "pred = resnet34.evaluate(test_gen)"
   ]
  },
  {
   "cell_type": "code",
   "execution_count": 52,
   "metadata": {
    "execution": {
     "iopub.execute_input": "2023-05-28T13:31:37.002112Z",
     "iopub.status.busy": "2023-05-28T13:31:37.001771Z",
     "iopub.status.idle": "2023-05-28T13:32:09.238372Z",
     "shell.execute_reply": "2023-05-28T13:32:09.236526Z",
     "shell.execute_reply.started": "2023-05-28T13:31:37.002079Z"
    }
   },
   "outputs": [
    {
     "name": "stdout",
     "output_type": "stream",
     "text": [
      "3600/3600 [==============================] - 31s 8ms/step\n",
      "\n",
      "[[[2268  132]\n",
      "\n",
      "  [  95 1105]]\n",
      "\n",
      "\n",
      "\n",
      " [[2373   27]\n",
      "\n",
      "  [  65 1135]]\n",
      "\n",
      "\n",
      "\n",
      " [[2330   70]\n",
      "\n",
      "  [  69 1131]]]\n",
      "\n",
      "              precision    recall  f1-score   support\n",
      "\n",
      "\n",
      "\n",
      "      faulty     0.8933    0.9208    0.9069      1200\n",
      "\n",
      "      normal     0.9768    0.9458    0.9610      1200\n",
      "\n",
      "     vfaulty     0.9417    0.9425    0.9421      1200\n",
      "\n",
      "\n",
      "\n",
      "    accuracy                         0.9364      3600\n",
      "\n",
      "   macro avg     0.9373    0.9364    0.9367      3600\n",
      "\n",
      "weighted avg     0.9373    0.9364    0.9367      3600\n",
      "\n",
      "\n"
     ]
    }
   ],
   "source": [
    "report(resnet34)"
   ]
  },
  {
   "cell_type": "markdown",
   "metadata": {},
   "source": [
    "## ResNet above 50"
   ]
  },
  {
   "cell_type": "code",
   "execution_count": 12,
   "metadata": {
    "execution": {
     "iopub.execute_input": "2023-05-28T15:55:58.928712Z",
     "iopub.status.busy": "2023-05-28T15:55:58.928350Z",
     "iopub.status.idle": "2023-05-28T15:55:58.941857Z",
     "shell.execute_reply": "2023-05-28T15:55:58.940922Z",
     "shell.execute_reply.started": "2023-05-28T15:55:58.928683Z"
    }
   },
   "outputs": [],
   "source": [
    "def BN_identity_block(x, filter):\n",
    "    x_skip = x\n",
    "    \n",
    "    act = 'relu'\n",
    "    \n",
    "    x = Conv2D(filters=filter, kernel_size=(1,1), padding='valid')(x)\n",
    "    x = BatchNormalization(axis=3)(x)\n",
    "    x = tf.keras.layers.Activation(act)(x)\n",
    "    \n",
    "    x = Conv2D(filters=filter, kernel_size=(3,3), padding='same')(x)\n",
    "    x = BatchNormalization(axis=3)(x)\n",
    "    x = tf.keras.layers.Activation(act)(x)\n",
    "    \n",
    "    x = Conv2D(filters=filter*4, kernel_size=(1,1), padding='valid')(x)\n",
    "    x = BatchNormalization(axis=3)(x)\n",
    "    \n",
    "    x = tf.keras.layers.Add()([x, x_skip])\n",
    "    x = tf.keras.layers.Activation(act)(x)\n",
    "    \n",
    "    return x\n",
    "\n",
    "def BN_convolutional_block(x, filter, s):\n",
    "    x_skip = x\n",
    "    \n",
    "    act = 'relu'\n",
    "    \n",
    "    x = Conv2D(filters=filter, kernel_size=(1,1), padding='valid', strides=s)(x)\n",
    "    x = BatchNormalization(axis=3)(x)\n",
    "    x = tf.keras.layers.Activation(act)(x)\n",
    "    \n",
    "    x = Conv2D(filters=filter, kernel_size=(3,3), padding='same')(x)\n",
    "    x = BatchNormalization(axis=3)(x)\n",
    "    x = tf.keras.layers.Activation(act)(x)\n",
    "    \n",
    "    x = Conv2D(filters=filter*4, kernel_size=(1,1), padding='valid')(x)\n",
    "    x = BatchNormalization(axis=3)(x)\n",
    "    \n",
    "    x_skip = Conv2D(filters=filter*4, kernel_size=1, strides=s, padding='valid')(x_skip)\n",
    "    \n",
    "    x = tf.keras.layers.Add()([x, x_skip])\n",
    "    x = tf.keras.layers.Activation(act)(x)\n",
    "    return x"
   ]
  },
  {
   "cell_type": "code",
   "execution_count": 13,
   "metadata": {
    "execution": {
     "iopub.execute_input": "2023-05-28T15:55:59.428200Z",
     "iopub.status.busy": "2023-05-28T15:55:59.427890Z",
     "iopub.status.idle": "2023-05-28T15:55:59.439268Z",
     "shell.execute_reply": "2023-05-28T15:55:59.438379Z",
     "shell.execute_reply.started": "2023-05-28T15:55:59.428174Z"
    }
   },
   "outputs": [],
   "source": [
    "def BN_ResNet(input_shape=(256,256,3)):\n",
    "    \n",
    "    filters = 64\n",
    "    act = 'relu'\n",
    "    \n",
    "    x_input = Input(shape=input_shape)\n",
    "    \n",
    "    x = Conv2D(filters=filters, kernel_size=(7,7), strides=2)(x_input)\n",
    "    x = Dropout(0.2)(x)\n",
    "    x = BatchNormalization()(x)\n",
    "    x = tf.keras.layers.Activation(act)(x)\n",
    "    x = MaxPool2D(pool_size=3, strides=2, padding='same')(x)\n",
    "    \n",
    "    block_layers = [3,4,6,3]\n",
    "    for i in range(4):\n",
    "        if i == 0:\n",
    "            x = BN_convolutional_block(x=x, filter=filters, s=1)\n",
    "            for j in range(block_layers[i]-1):\n",
    "                x = BN_identity_block(x, filters)\n",
    "        else:\n",
    "            filters = filters*2\n",
    "            x = BN_convolutional_block(x, filters, s=2)\n",
    "            for j in range(block_layers[i] - 1):\n",
    "                x = BN_identity_block(x, filters)\n",
    "    \n",
    "    x = tf.keras.layers.GlobalAveragePooling2D()(x)\n",
    "    x = Flatten()(x)\n",
    "    x = Dropout(0.4)(x)\n",
    "    output = Dense(units=3, activation='softmax')(x)\n",
    "    \n",
    "    model = Model(inputs=x_input, outputs=output, name='ResNet50')\n",
    "    \n",
    "    return model"
   ]
  },
  {
   "cell_type": "code",
   "execution_count": 14,
   "metadata": {
    "execution": {
     "iopub.execute_input": "2023-05-28T15:56:01.291529Z",
     "iopub.status.busy": "2023-05-28T15:56:01.291160Z",
     "iopub.status.idle": "2023-05-28T15:56:02.466756Z",
     "shell.execute_reply": "2023-05-28T15:56:02.465762Z",
     "shell.execute_reply.started": "2023-05-28T15:56:01.291499Z"
    }
   },
   "outputs": [],
   "source": [
    "resnet50 = BN_ResNet(input_shape=(256,256,3))\n",
    "resnet50.compile(optimizer=tf.keras.optimizers.Adam(learning_rate=1e-4), loss='categorical_crossentropy', metrics=[cat_acc,auc_roc,prec,recall])"
   ]
  },
  {
   "cell_type": "code",
   "execution_count": 15,
   "metadata": {
    "execution": {
     "iopub.execute_input": "2023-05-28T15:56:02.468984Z",
     "iopub.status.busy": "2023-05-28T15:56:02.468443Z",
     "iopub.status.idle": "2023-05-28T15:56:02.483041Z",
     "shell.execute_reply": "2023-05-28T15:56:02.482008Z",
     "shell.execute_reply.started": "2023-05-28T15:56:02.468951Z"
    }
   },
   "outputs": [
    {
     "data": {
      "text/plain": [
       "23578499"
      ]
     },
     "execution_count": 15,
     "metadata": {},
     "output_type": "execute_result"
    }
   ],
   "source": [
    "resnet50.count_params()"
   ]
  },
  {
   "cell_type": "code",
   "execution_count": 16,
   "metadata": {
    "execution": {
     "iopub.execute_input": "2023-05-28T15:56:17.629468Z",
     "iopub.status.busy": "2023-05-28T15:56:17.629078Z",
     "iopub.status.idle": "2023-05-28T16:20:57.525502Z",
     "shell.execute_reply": "2023-05-28T16:20:57.524525Z",
     "shell.execute_reply.started": "2023-05-28T15:56:17.629439Z"
    }
   },
   "outputs": [
    {
     "name": "stdout",
     "output_type": "stream",
     "text": [
      "Epoch 1/10\n"
     ]
    },
    {
     "name": "stderr",
     "output_type": "stream",
     "text": [
      "2023-05-28 15:56:31.344234: E tensorflow/core/grappler/optimizers/meta_optimizer.cc:954] layout failed: INVALID_ARGUMENT: Size of values 0 does not match size of permutation 4 @ fanin shape inResNet50/dropout/dropout/SelectV2-2-TransposeNHWCToNCHW-LayoutOptimizer\n"
     ]
    },
    {
     "name": "stdout",
     "output_type": "stream",
     "text": [
      "450/450 - 246s - loss: 0.2684 - categorical_accuracy: 0.9090 - auc: 0.9789 - auc_1: 0.9589 - val_loss: 4.0934 - val_categorical_accuracy: 0.3333 - val_auc: 0.5522 - val_auc_1: 0.3739 - 246s/epoch - 546ms/step\n",
      "\n",
      "Epoch 2/10\n",
      "\n",
      "450/450 - 136s - loss: 0.1894 - categorical_accuracy: 0.9262 - auc: 0.9874 - auc_1: 0.9754 - val_loss: 0.3687 - val_categorical_accuracy: 0.8697 - val_auc: 0.9873 - val_auc_1: 0.9740 - 136s/epoch - 302ms/step\n",
      "\n",
      "Epoch 3/10\n",
      "\n",
      "450/450 - 136s - loss: 0.1672 - categorical_accuracy: 0.9298 - auc: 0.9901 - auc_1: 0.9805 - val_loss: 0.2664 - val_categorical_accuracy: 0.9070 - val_auc: 0.9862 - val_auc_1: 0.9725 - 136s/epoch - 303ms/step\n",
      "\n",
      "Epoch 4/10\n",
      "\n",
      "450/450 - 136s - loss: 0.1618 - categorical_accuracy: 0.9371 - auc: 0.9903 - auc_1: 0.9802 - val_loss: 0.2849 - val_categorical_accuracy: 0.8988 - val_auc: 0.9878 - val_auc_1: 0.9761 - 136s/epoch - 303ms/step\n",
      "\n",
      "Epoch 5/10\n",
      "\n",
      "450/450 - 138s - loss: 0.1450 - categorical_accuracy: 0.9438 - auc: 0.9922 - auc_1: 0.9844 - val_loss: 0.3305 - val_categorical_accuracy: 0.9098 - val_auc: 0.9855 - val_auc_1: 0.9722 - 138s/epoch - 307ms/step\n",
      "\n",
      "Epoch 6/10\n",
      "\n",
      "450/450 - 136s - loss: 0.1346 - categorical_accuracy: 0.9491 - auc: 0.9929 - auc_1: 0.9859 - val_loss: 0.1914 - val_categorical_accuracy: 0.9302 - val_auc: 0.9908 - val_auc_1: 0.9820 - 136s/epoch - 301ms/step\n",
      "\n",
      "Epoch 7/10\n",
      "\n",
      "450/450 - 136s - loss: 0.1272 - categorical_accuracy: 0.9505 - auc: 0.9934 - auc_1: 0.9863 - val_loss: 0.3236 - val_categorical_accuracy: 0.8972 - val_auc: 0.9860 - val_auc_1: 0.9727 - 136s/epoch - 302ms/step\n",
      "\n",
      "Epoch 8/10\n",
      "\n",
      "450/450 - 137s - loss: 0.1234 - categorical_accuracy: 0.9517 - auc: 0.9938 - auc_1: 0.9874 - val_loss: 0.2540 - val_categorical_accuracy: 0.9070 - val_auc: 0.9890 - val_auc_1: 0.9788 - 137s/epoch - 304ms/step\n",
      "\n",
      "Epoch 9/10\n",
      "\n",
      "450/450 - 137s - loss: 0.1182 - categorical_accuracy: 0.9540 - auc: 0.9944 - auc_1: 0.9889 - val_loss: 0.2608 - val_categorical_accuracy: 0.9077 - val_auc: 0.9898 - val_auc_1: 0.9794 - 137s/epoch - 304ms/step\n",
      "\n",
      "Epoch 10/10\n",
      "\n",
      "450/450 - 138s - loss: 0.1125 - categorical_accuracy: 0.9578 - auc: 0.9947 - auc_1: 0.9893 - val_loss: 0.1980 - val_categorical_accuracy: 0.9257 - val_auc: 0.9936 - val_auc_1: 0.9875 - 138s/epoch - 307ms/step\n",
      "\n",
      "===================================\n",
      "\n",
      "10 epochs in 24.664823027451835 min\n"
     ]
    }
   ],
   "source": [
    "start = time()\n",
    "resnet50_hist = resnet50.fit(train_gen, steps_per_epoch=train_steps, \n",
    "                    validation_data=val_gen,\n",
    "                    validation_steps=val_steps,\n",
    "                    epochs=10, verbose=2)\n",
    "end = time()\n",
    "print(\"===================================\")\n",
    "print(f'10 epochs in {(end-start)/60} min')"
   ]
  },
  {
   "cell_type": "code",
   "execution_count": 17,
   "metadata": {
    "execution": {
     "iopub.execute_input": "2023-05-28T16:22:04.547026Z",
     "iopub.status.busy": "2023-05-28T16:22:04.546660Z",
     "iopub.status.idle": "2023-05-28T16:22:04.558818Z",
     "shell.execute_reply": "2023-05-28T16:22:04.557804Z",
     "shell.execute_reply.started": "2023-05-28T16:22:04.546994Z"
    }
   },
   "outputs": [],
   "source": [
    "hist_df = pd.DataFrame(resnet50_hist.history)\n",
    "hist_json_file = 'ResNet50_10ep_histori.json' \n",
    "with open(hist_json_file, mode='w') as f:\n",
    "    hist_df.to_json(f)"
   ]
  },
  {
   "cell_type": "code",
   "execution_count": 18,
   "metadata": {
    "execution": {
     "iopub.execute_input": "2023-05-28T16:22:05.464533Z",
     "iopub.status.busy": "2023-05-28T16:22:05.464143Z",
     "iopub.status.idle": "2023-05-28T16:23:27.447242Z",
     "shell.execute_reply": "2023-05-28T16:23:27.446231Z",
     "shell.execute_reply.started": "2023-05-28T16:22:05.464497Z"
    }
   },
   "outputs": [
    {
     "name": "stdout",
     "output_type": "stream",
     "text": [
      "3600/3600 [==============================] - 51s 14ms/step - loss: 0.2040 - categorical_accuracy: 0.9258 - auc: 0.9935 - auc_1: 0.9864\n"
     ]
    }
   ],
   "source": [
    "pred = resnet50.evaluate(test_gen)"
   ]
  },
  {
   "cell_type": "code",
   "execution_count": 19,
   "metadata": {
    "execution": {
     "iopub.execute_input": "2023-05-28T16:23:27.449854Z",
     "iopub.status.busy": "2023-05-28T16:23:27.449519Z",
     "iopub.status.idle": "2023-05-28T16:24:06.310465Z",
     "shell.execute_reply": "2023-05-28T16:24:06.309390Z",
     "shell.execute_reply.started": "2023-05-28T16:23:27.449823Z"
    }
   },
   "outputs": [
    {
     "name": "stdout",
     "output_type": "stream",
     "text": [
      "3600/3600 [==============================] - 37s 10ms/step\n",
      "\n",
      "[[[2366   34]\n",
      "\n",
      "  [ 228  972]]\n",
      "\n",
      "\n",
      "\n",
      " [[2370   30]\n",
      "\n",
      "  [  33 1167]]\n",
      "\n",
      "\n",
      "\n",
      " [[2197  203]\n",
      "\n",
      "  [   6 1194]]]\n",
      "\n",
      "              precision    recall  f1-score   support\n",
      "\n",
      "\n",
      "\n",
      "      faulty     0.9662    0.8100    0.8812      1200\n",
      "\n",
      "      normal     0.9749    0.9725    0.9737      1200\n",
      "\n",
      "     vfaulty     0.8547    0.9950    0.9195      1200\n",
      "\n",
      "\n",
      "\n",
      "    accuracy                         0.9258      3600\n",
      "\n",
      "   macro avg     0.9319    0.9258    0.9248      3600\n",
      "\n",
      "weighted avg     0.9319    0.9258    0.9248      3600\n",
      "\n",
      "\n"
     ]
    }
   ],
   "source": [
    "report(resnet50)"
   ]
  },
  {
   "cell_type": "markdown",
   "metadata": {},
   "source": [
    "## DenseNet"
   ]
  },
  {
   "cell_type": "code",
   "execution_count": 14,
   "metadata": {
    "execution": {
     "iopub.execute_input": "2023-05-28T14:19:23.704467Z",
     "iopub.status.busy": "2023-05-28T14:19:23.704106Z",
     "iopub.status.idle": "2023-05-28T14:19:23.712224Z",
     "shell.execute_reply": "2023-05-28T14:19:23.711159Z",
     "shell.execute_reply.started": "2023-05-28T14:19:23.704436Z"
    }
   },
   "outputs": [],
   "source": [
    "def convolutional_layer(x, filters, kernel=1, strides=1):\n",
    "    x = BatchNormalization()(x)\n",
    "    x = tf.keras.layers.Activation('relu')(x)\n",
    "    x = Conv2D(filters, kernel_size=kernel, strides=strides, padding='same')(x)\n",
    "    return x\n",
    "\n",
    "def dense_block(x, layers, filters):\n",
    "    for _ in range(layers):\n",
    "        x_d = convolutional_layer(x, 4*filters)\n",
    "        x_d = convolutional_layer(x_d, filters, kernel=3)\n",
    "        x = tf.keras.layers.Concatenate()([x_d,x])\n",
    "    return x\n",
    "\n",
    "def transition_layer(x):\n",
    "    x = convolutional_layer(x, filters=x.shape[-1]//2)\n",
    "    x = tf.keras.layers.AveragePooling2D(2, strides=2, padding='same')(x)\n",
    "    return x"
   ]
  },
  {
   "cell_type": "code",
   "execution_count": 18,
   "metadata": {
    "execution": {
     "iopub.execute_input": "2023-05-28T14:20:53.267207Z",
     "iopub.status.busy": "2023-05-28T14:20:53.266833Z",
     "iopub.status.idle": "2023-05-28T14:20:53.275144Z",
     "shell.execute_reply": "2023-05-28T14:20:53.274098Z",
     "shell.execute_reply.started": "2023-05-28T14:20:53.267175Z"
    }
   },
   "outputs": [],
   "source": [
    "def denseNet121(input_shape):\n",
    "    input = Input(shape=input_shape)\n",
    "    \n",
    "    x = Conv2D(filters=64, kernel_size=7, strides=2, padding='same')(input)\n",
    "    x = BatchNormalization()(x)\n",
    "    x = tf.keras.layers.Activation('relu')(x)\n",
    "    x = MaxPool2D(3, strides=2, padding='same')(x)\n",
    "    \n",
    "    for l in [6,12,24,16]:\n",
    "        d = dense_block(x, layers=l, filters=32)\n",
    "        x = Dropout(0.2)(x)\n",
    "        x = transition_layer(d)\n",
    "    x = Dropout(0.5)(x)\n",
    "        \n",
    "    x = tf.keras.layers.GlobalAveragePooling2D()(d)\n",
    "    x = Flatten()(x)\n",
    "    output = Dense(units=3, activation='softmax')(x)\n",
    "    \n",
    "    model = Model(inputs=input, outputs=output, name='DenseNet')\n",
    "    \n",
    "    return model"
   ]
  },
  {
   "cell_type": "code",
   "execution_count": 19,
   "metadata": {
    "execution": {
     "iopub.execute_input": "2023-05-28T14:20:54.259276Z",
     "iopub.status.busy": "2023-05-28T14:20:54.258884Z",
     "iopub.status.idle": "2023-05-28T14:20:57.255530Z",
     "shell.execute_reply": "2023-05-28T14:20:57.254442Z",
     "shell.execute_reply.started": "2023-05-28T14:20:54.259244Z"
    }
   },
   "outputs": [],
   "source": [
    "densenet = denseNet121(input_shape=(256,256,3))\n",
    "densenet.compile(optimizer=tf.keras.optimizers.Adam(learning_rate=1e-4), loss='categorical_crossentropy', metrics=[cat_acc,auc_roc,prec,recall])"
   ]
  },
  {
   "cell_type": "code",
   "execution_count": 20,
   "metadata": {
    "execution": {
     "iopub.execute_input": "2023-05-28T14:20:57.257800Z",
     "iopub.status.busy": "2023-05-28T14:20:57.257411Z",
     "iopub.status.idle": "2023-05-28T14:20:57.284450Z",
     "shell.execute_reply": "2023-05-28T14:20:57.283592Z",
     "shell.execute_reply.started": "2023-05-28T14:20:57.257764Z"
    }
   },
   "outputs": [
    {
     "data": {
      "text/plain": [
       "7046723"
      ]
     },
     "execution_count": 20,
     "metadata": {},
     "output_type": "execute_result"
    }
   ],
   "source": [
    "densenet.count_params()"
   ]
  },
  {
   "cell_type": "code",
   "execution_count": 21,
   "metadata": {
    "execution": {
     "iopub.execute_input": "2023-05-28T14:21:14.548423Z",
     "iopub.status.busy": "2023-05-28T14:21:14.548076Z",
     "iopub.status.idle": "2023-05-28T14:48:12.248386Z",
     "shell.execute_reply": "2023-05-28T14:48:12.247351Z",
     "shell.execute_reply.started": "2023-05-28T14:21:14.548394Z"
    }
   },
   "outputs": [
    {
     "name": "stdout",
     "output_type": "stream",
     "text": [
      "Epoch 1/10\n",
      "\n",
      "450/450 - 313s - loss: 0.1928 - categorical_accuracy: 0.9266 - auc: 0.9867 - auc_1: 0.9735 - val_loss: 1.6162 - val_categorical_accuracy: 0.3333 - val_auc: 0.8541 - val_auc_1: 0.7849 - 313s/epoch - 696ms/step\n",
      "\n",
      "Epoch 2/10\n",
      "\n",
      "450/450 - 142s - loss: 0.1505 - categorical_accuracy: 0.9410 - auc: 0.9914 - auc_1: 0.9824 - val_loss: 0.1634 - val_categorical_accuracy: 0.9448 - val_auc: 0.9919 - val_auc_1: 0.9845 - 142s/epoch - 316ms/step\n",
      "\n",
      "Epoch 3/10\n",
      "\n",
      "450/450 - 143s - loss: 0.1363 - categorical_accuracy: 0.9479 - auc: 0.9927 - auc_1: 0.9850 - val_loss: 0.1660 - val_categorical_accuracy: 0.9428 - val_auc: 0.9903 - val_auc_1: 0.9812 - 143s/epoch - 317ms/step\n",
      "\n",
      "Epoch 4/10\n",
      "\n",
      "450/450 - 143s - loss: 0.1230 - categorical_accuracy: 0.9528 - auc: 0.9940 - auc_1: 0.9880 - val_loss: 0.3750 - val_categorical_accuracy: 0.8895 - val_auc: 0.9797 - val_auc_1: 0.9620 - 143s/epoch - 319ms/step\n",
      "\n",
      "Epoch 5/10\n",
      "\n",
      "450/450 - 143s - loss: 0.1208 - categorical_accuracy: 0.9543 - auc: 0.9941 - auc_1: 0.9881 - val_loss: 0.1650 - val_categorical_accuracy: 0.9345 - val_auc: 0.9909 - val_auc_1: 0.9833 - 143s/epoch - 318ms/step\n",
      "\n",
      "Epoch 6/10\n",
      "\n",
      "450/450 - 142s - loss: 0.1122 - categorical_accuracy: 0.9586 - auc: 0.9947 - auc_1: 0.9893 - val_loss: 0.1058 - val_categorical_accuracy: 0.9577 - val_auc: 0.9957 - val_auc_1: 0.9915 - 142s/epoch - 316ms/step\n",
      "\n",
      "Epoch 7/10\n",
      "\n",
      "450/450 - 144s - loss: 0.1061 - categorical_accuracy: 0.9599 - auc: 0.9953 - auc_1: 0.9906 - val_loss: 0.1228 - val_categorical_accuracy: 0.9570 - val_auc: 0.9943 - val_auc_1: 0.9889 - 144s/epoch - 319ms/step\n",
      "\n",
      "Epoch 8/10\n",
      "\n",
      "450/450 - 159s - loss: 0.1052 - categorical_accuracy: 0.9592 - auc: 0.9954 - auc_1: 0.9908 - val_loss: 0.1998 - val_categorical_accuracy: 0.9360 - val_auc: 0.9893 - val_auc_1: 0.9801 - 159s/epoch - 353ms/step\n",
      "\n",
      "Epoch 9/10\n",
      "\n",
      "450/450 - 144s - loss: 0.0966 - categorical_accuracy: 0.9622 - auc: 0.9959 - auc_1: 0.9917 - val_loss: 0.1444 - val_categorical_accuracy: 0.9500 - val_auc: 0.9938 - val_auc_1: 0.9884 - 144s/epoch - 320ms/step\n",
      "\n",
      "Epoch 10/10\n",
      "\n",
      "450/450 - 144s - loss: 0.0935 - categorical_accuracy: 0.9637 - auc: 0.9963 - auc_1: 0.9926 - val_loss: 0.1092 - val_categorical_accuracy: 0.9618 - val_auc: 0.9948 - val_auc_1: 0.9898 - 144s/epoch - 319ms/step\n",
      "\n",
      "===================================\n",
      "\n",
      "10 epochs in 26.96157837708791 min\n"
     ]
    }
   ],
   "source": [
    "start = time()\n",
    "densenet_hist = densenet.fit(train_gen, steps_per_epoch=train_steps, \n",
    "                    validation_data=val_gen,\n",
    "                    validation_steps=val_steps,\n",
    "                    epochs=10, verbose=2)\n",
    "end = time()\n",
    "print(\"===================================\")\n",
    "print(f'10 epochs in {(end-start)/60} min')"
   ]
  },
  {
   "cell_type": "code",
   "execution_count": 23,
   "metadata": {
    "execution": {
     "iopub.execute_input": "2023-05-28T14:53:00.964519Z",
     "iopub.status.busy": "2023-05-28T14:53:00.964164Z",
     "iopub.status.idle": "2023-05-28T14:53:00.974533Z",
     "shell.execute_reply": "2023-05-28T14:53:00.973645Z",
     "shell.execute_reply.started": "2023-05-28T14:53:00.964487Z"
    }
   },
   "outputs": [],
   "source": [
    "hist_df = pd.DataFrame(densenet_hist.history)\n",
    "hist_json_file = 'densenet_10ep_histori.json' \n",
    "with open(hist_json_file, mode='w') as f:\n",
    "    hist_df.to_json(f)"
   ]
  },
  {
   "cell_type": "code",
   "execution_count": 24,
   "metadata": {
    "execution": {
     "iopub.execute_input": "2023-05-28T14:53:13.482577Z",
     "iopub.status.busy": "2023-05-28T14:53:13.482195Z",
     "iopub.status.idle": "2023-05-28T14:54:39.896088Z",
     "shell.execute_reply": "2023-05-28T14:54:39.895051Z",
     "shell.execute_reply.started": "2023-05-28T14:53:13.482546Z"
    }
   },
   "outputs": [
    {
     "name": "stdout",
     "output_type": "stream",
     "text": [
      "3600/3600 [==============================] - 86s 24ms/step - loss: 0.1067 - categorical_accuracy: 0.9594 - auc: 0.9958 - auc_1: 0.9919\n"
     ]
    }
   ],
   "source": [
    "pred = densenet.evaluate(test_gen)"
   ]
  },
  {
   "cell_type": "code",
   "execution_count": 25,
   "metadata": {
    "execution": {
     "iopub.execute_input": "2023-05-28T14:54:57.624577Z",
     "iopub.status.busy": "2023-05-28T14:54:57.624226Z",
     "iopub.status.idle": "2023-05-28T14:56:15.737149Z",
     "shell.execute_reply": "2023-05-28T14:56:15.735872Z",
     "shell.execute_reply.started": "2023-05-28T14:54:57.624547Z"
    }
   },
   "outputs": [
    {
     "name": "stdout",
     "output_type": "stream",
     "text": [
      "3600/3600 [==============================] - 76s 20ms/step\n",
      "\n",
      "[[[2326   74]\n",
      "\n",
      "  [  69 1131]]\n",
      "\n",
      "\n",
      "\n",
      " [[2372   28]\n",
      "\n",
      "  [  24 1176]]\n",
      "\n",
      "\n",
      "\n",
      " [[2356   44]\n",
      "\n",
      "  [  53 1147]]]\n",
      "\n",
      "              precision    recall  f1-score   support\n",
      "\n",
      "\n",
      "\n",
      "      faulty     0.9386    0.9425    0.9405      1200\n",
      "\n",
      "      normal     0.9767    0.9800    0.9784      1200\n",
      "\n",
      "     vfaulty     0.9631    0.9558    0.9594      1200\n",
      "\n",
      "\n",
      "\n",
      "    accuracy                         0.9594      3600\n",
      "\n",
      "   macro avg     0.9595    0.9594    0.9594      3600\n",
      "\n",
      "weighted avg     0.9595    0.9594    0.9594      3600\n",
      "\n",
      "\n"
     ]
    }
   ],
   "source": [
    "report(densenet)"
   ]
  },
  {
   "cell_type": "markdown",
   "metadata": {},
   "source": [
    "## Inception v1"
   ]
  },
  {
   "cell_type": "code",
   "execution_count": 21,
   "metadata": {
    "execution": {
     "iopub.execute_input": "2023-05-27T23:32:23.157739Z",
     "iopub.status.busy": "2023-05-27T23:32:23.157347Z",
     "iopub.status.idle": "2023-05-27T23:32:23.168448Z",
     "shell.execute_reply": "2023-05-27T23:32:23.167492Z",
     "shell.execute_reply.started": "2023-05-27T23:32:23.157708Z"
    }
   },
   "outputs": [],
   "source": [
    "def inception_module(x,filters_1x1,filters_3x3_reduce,filters_3x3,\n",
    "    filters_5x5_reduce,filters_5x5,filters_pool_proj,name=None):\n",
    "\n",
    "    conv_1x1 = Conv2D(filters_1x1, (1, 1), padding='same', activation='relu')(x)\n",
    "\n",
    "    conv_3x3 = Conv2D(filters_3x3_reduce, (1, 1), padding='same', activation='relu')(x)\n",
    "    conv_3x3 = Conv2D(filters_3x3, (3, 3), padding='same', activation='relu')(conv_3x3)\n",
    "    conv_5x5 = Conv2D(filters_5x5_reduce, (1, 1), padding='same', activation='relu')(x)\n",
    "    conv_5x5 = Conv2D(filters_5x5, (5, 5), padding='same', activation='relu')(conv_5x5)\n",
    "    pool_proj = MaxPool2D((3, 3), strides=(1, 1), padding='same')(x)\n",
    "    pool_proj = Conv2D(filters_pool_proj, (1, 1), padding='same', activation='relu')(pool_proj)\n",
    "    output = tf.keras.layers.Concatenate(axis=3, name=name)([conv_1x1, conv_3x3, conv_5x5, pool_proj])\n",
    "\n",
    "    return output"
   ]
  },
  {
   "cell_type": "code",
   "execution_count": 22,
   "metadata": {
    "execution": {
     "iopub.execute_input": "2023-05-27T23:32:24.402840Z",
     "iopub.status.busy": "2023-05-27T23:32:24.402481Z",
     "iopub.status.idle": "2023-05-27T23:32:24.424311Z",
     "shell.execute_reply": "2023-05-27T23:32:24.423227Z",
     "shell.execute_reply.started": "2023-05-27T23:32:24.402813Z"
    }
   },
   "outputs": [],
   "source": [
    "def inception_v1(input_shape=(256,256,3)):\n",
    "    \n",
    "    input = Input(shape=input_shape)\n",
    "    \n",
    "    x = Conv2D(64, (7, 7), padding='same', strides=(2, 2), activation='relu', name='conv_1_7x7/2')(input)\n",
    "    x = MaxPool2D((3, 3), padding='same', strides=(2, 2), name='max_pool_1_3x3/2')(x)\n",
    "    x = Conv2D(64, (1, 1), padding='same', strides=(1, 1), activation='relu', name='conv_2a_3x3/1')(x)\n",
    "    x = Conv2D(192, (3, 3), padding='same', strides=(1, 1), activation='relu', name='conv_2b_3x3/1')(x)\n",
    "    x = MaxPool2D((3, 3), padding='same', strides=(2, 2), name='max_pool_2_3x3/2')(x)\n",
    "    \n",
    "    x = inception_module(x,filters_1x1=64,filters_3x3_reduce=96,\n",
    "     filters_3x3=128,filters_5x5_reduce=16,filters_5x5=32,filters_pool_proj=32,name='inception_3a')\n",
    "    x = Dropout(0.2)(x)\n",
    "    \n",
    "    x = inception_module(x,filters_1x1=128,filters_3x3_reduce=128,\n",
    "     filters_3x3=192,filters_5x5_reduce=32,filters_5x5=96,filters_pool_proj=64,name='inception_3b')\n",
    "    x = Dropout(0.2)(x)\n",
    "    \n",
    "    x = MaxPool2D((3, 3), padding='same', strides=(2, 2), name='max_pool_3_3x3/2')(x)\n",
    "    x = inception_module(x,filters_1x1=192,filters_3x3_reduce=96,\n",
    "    filters_3x3=208,filters_5x5_reduce=16,filters_5x5=48,filters_pool_proj=64, name='inception_4a')\n",
    "    x = Dropout(0.2)(x)\n",
    "    \n",
    "    x1 = tf.keras.layers.AveragePooling2D((5, 5), strides=3)(x)\n",
    "    x1 = Conv2D(128, (1, 1), padding='same', activation='relu')(x1)\n",
    "    x1 = Flatten()(x1)\n",
    "    x1 = Dense(1024, activation='relu')(x1)\n",
    "    x1 = Dropout(0.7)(x1)\n",
    "    x1 = Dense(3, activation='softmax', name='auxilliary_output_1')(x1)\n",
    "    \n",
    "    x = inception_module(x,filters_1x1=160,filters_3x3_reduce=112,\n",
    "    filters_3x3=224,filters_5x5_reduce=24,filters_5x5=64,filters_pool_proj=64,name='inception_4b')\n",
    "    x = Dropout(0.2)(x)\n",
    "    \n",
    "    x = inception_module(x,filters_1x1=128,filters_3x3_reduce=128,\n",
    "     filters_3x3=256,filters_5x5_reduce=24,filters_5x5=64,filters_pool_proj=64,name='inception_4c')\n",
    "    x = Dropout(0.2)(x)\n",
    "    \n",
    "    x = inception_module(x,filters_1x1=112,filters_3x3_reduce=144,\n",
    "     filters_3x3=288,filters_5x5_reduce=32,filters_5x5=64,filters_pool_proj=64,name='inception_4d')\n",
    "    x = Dropout(0.2)(x)\n",
    "    \n",
    "    x2 = tf.keras.layers.AveragePooling2D((5, 5), strides=3)(x)\n",
    "    x2 = Conv2D(128, (1, 1), padding='same', activation='relu')(x2)\n",
    "    x2 = Flatten()(x2)\n",
    "    x2 = Dense(1024, activation='relu')(x2)\n",
    "    x2 = Dropout(0.7)(x2)\n",
    "    x2 = Dense(3, activation='softmax', name='auxilliary_output_2')(x2)\n",
    "    \n",
    "    x = inception_module(x,filters_1x1=256,filters_3x3_reduce=160,\n",
    "     filters_3x3=320,filters_5x5_reduce=32,filters_5x5=128,filters_pool_proj=128,name='inception_4e')\n",
    "    \n",
    "    x = MaxPool2D((3, 3), padding='same', strides=(2, 2), name='max_pool_4_3x3/2')(x)\n",
    "    x = inception_module(x,filters_1x1=256,filters_3x3_reduce=160,\n",
    "     filters_3x3=320,filters_5x5_reduce=32,filters_5x5=128,filters_pool_proj=128,name='inception_5a')\n",
    "    \n",
    "    x = inception_module(x, filters_1x1=384,filters_3x3_reduce=192,\n",
    "     filters_3x3=384,filters_5x5_reduce=48,filters_5x5=128,filters_pool_proj=128,name='inception_5b')\n",
    "    \n",
    "    x = tf.keras.layers.GlobalAveragePooling2D(name='avg_pool_5_3x3/1')(x)\n",
    "    x = Dropout(0.4)(x)\n",
    "    x = Dense(3, activation='softmax', name='output')(x)\n",
    "    \n",
    "    model = Model(inputs=input, outputs=[x, x1, x2], name='inception_v1')\n",
    "    \n",
    "    return model"
   ]
  },
  {
   "cell_type": "code",
   "execution_count": 23,
   "metadata": {
    "execution": {
     "iopub.execute_input": "2023-05-27T23:32:26.993089Z",
     "iopub.status.busy": "2023-05-27T23:32:26.992365Z",
     "iopub.status.idle": "2023-05-27T23:32:27.800207Z",
     "shell.execute_reply": "2023-05-27T23:32:27.799281Z",
     "shell.execute_reply.started": "2023-05-27T23:32:26.993054Z"
    }
   },
   "outputs": [],
   "source": [
    "inception1 = inception_v1(input_shape=(256,256,3))\n",
    "inception1.compile(optimizer=tf.keras.optimizers.Adam(learning_rate=1e-4), loss=['categorical_crossentropy','categorical_crossentropy', 'categorical_crossentropy'], loss_weights=[1.0,0.3,0.3], metrics=[cat_acc,auc_roc,prec,recall])"
   ]
  },
  {
   "cell_type": "code",
   "execution_count": 24,
   "metadata": {
    "execution": {
     "iopub.execute_input": "2023-05-27T23:32:38.738851Z",
     "iopub.status.busy": "2023-05-27T23:32:38.737692Z",
     "iopub.status.idle": "2023-05-27T23:47:19.531012Z",
     "shell.execute_reply": "2023-05-27T23:47:19.530055Z",
     "shell.execute_reply.started": "2023-05-27T23:32:38.738800Z"
    }
   },
   "outputs": [
    {
     "name": "stdout",
     "output_type": "stream",
     "text": [
      "Epoch 1/10\n"
     ]
    },
    {
     "name": "stderr",
     "output_type": "stream",
     "text": [
      "2023-05-27 23:32:49.942303: E tensorflow/core/grappler/optimizers/meta_optimizer.cc:954] layout failed: INVALID_ARGUMENT: Size of values 0 does not match size of permutation 4 @ fanin shape ininception_v1/dropout_5/dropout/SelectV2-2-TransposeNHWCToNCHW-LayoutOptimizer\n"
     ]
    },
    {
     "name": "stdout",
     "output_type": "stream",
     "text": [
      "450/450 - 117s - loss: 0.5635 - output_loss: 0.3411 - auxilliary_output_1_loss: 0.3954 - auxilliary_output_2_loss: 0.3456 - output_categorical_accuracy: 0.8497 - output_auc: 0.9636 - output_auc_1: 0.9325 - auxilliary_output_1_categorical_accuracy: 0.8415 - auxilliary_output_1_auc: 0.9573 - auxilliary_output_1_auc_1: 0.9232 - auxilliary_output_2_categorical_accuracy: 0.8572 - auxilliary_output_2_auc: 0.9631 - auxilliary_output_2_auc_1: 0.9316 - val_loss: 0.6677 - val_output_loss: 0.4629 - val_auxilliary_output_1_loss: 0.3059 - val_auxilliary_output_2_loss: 0.3768 - val_output_categorical_accuracy: 0.8843 - val_output_auc: 0.9661 - val_output_auc_1: 0.9318 - val_auxilliary_output_1_categorical_accuracy: 0.8870 - val_auxilliary_output_1_auc: 0.9824 - val_auxilliary_output_1_auc_1: 0.9495 - val_auxilliary_output_2_categorical_accuracy: 0.8915 - val_auxilliary_output_2_auc: 0.9701 - val_auxilliary_output_2_auc_1: 0.9311 - 117s/epoch - 259ms/step\n",
      "\n",
      "Epoch 2/10\n",
      "\n",
      "450/450 - 83s - loss: 0.3314 - output_loss: 0.2081 - auxilliary_output_1_loss: 0.2025 - auxilliary_output_2_loss: 0.2084 - output_categorical_accuracy: 0.9226 - output_auc: 0.9843 - output_auc_1: 0.9677 - auxilliary_output_1_categorical_accuracy: 0.9256 - auxilliary_output_1_auc: 0.9852 - auxilliary_output_1_auc_1: 0.9684 - auxilliary_output_2_categorical_accuracy: 0.9226 - auxilliary_output_2_auc: 0.9841 - auxilliary_output_2_auc_1: 0.9670 - val_loss: 0.4816 - val_output_loss: 0.3348 - val_auxilliary_output_1_loss: 0.2275 - val_auxilliary_output_2_loss: 0.2617 - val_output_categorical_accuracy: 0.9195 - val_output_auc: 0.9896 - val_output_auc_1: 0.9792 - val_auxilliary_output_1_categorical_accuracy: 0.9257 - val_auxilliary_output_1_auc: 0.9869 - val_auxilliary_output_1_auc_1: 0.9730 - val_auxilliary_output_2_categorical_accuracy: 0.9195 - val_auxilliary_output_2_auc: 0.9896 - val_auxilliary_output_2_auc_1: 0.9797 - 83s/epoch - 184ms/step\n",
      "\n",
      "Epoch 3/10\n",
      "\n",
      "450/450 - 83s - loss: 0.2993 - output_loss: 0.1881 - auxilliary_output_1_loss: 0.1838 - auxilliary_output_2_loss: 0.1870 - output_categorical_accuracy: 0.9283 - output_auc: 0.9874 - output_auc_1: 0.9744 - auxilliary_output_1_categorical_accuracy: 0.9307 - auxilliary_output_1_auc: 0.9881 - auxilliary_output_1_auc_1: 0.9752 - auxilliary_output_2_categorical_accuracy: 0.9297 - auxilliary_output_2_auc: 0.9878 - auxilliary_output_2_auc_1: 0.9748 - val_loss: 0.5507 - val_output_loss: 0.4064 - val_auxilliary_output_1_loss: 0.1979 - val_auxilliary_output_2_loss: 0.2830 - val_output_categorical_accuracy: 0.9193 - val_output_auc: 0.9867 - val_output_auc_1: 0.9752 - val_auxilliary_output_1_categorical_accuracy: 0.9340 - val_auxilliary_output_1_auc: 0.9902 - val_auxilliary_output_1_auc_1: 0.9803 - val_auxilliary_output_2_categorical_accuracy: 0.9263 - val_auxilliary_output_2_auc: 0.9880 - val_auxilliary_output_2_auc_1: 0.9776 - 83s/epoch - 184ms/step\n",
      "\n",
      "Epoch 4/10\n",
      "\n",
      "450/450 - 81s - loss: 0.2798 - output_loss: 0.1763 - auxilliary_output_1_loss: 0.1731 - auxilliary_output_2_loss: 0.1721 - output_categorical_accuracy: 0.9318 - output_auc: 0.9888 - output_auc_1: 0.9775 - auxilliary_output_1_categorical_accuracy: 0.9328 - auxilliary_output_1_auc: 0.9894 - auxilliary_output_1_auc_1: 0.9787 - auxilliary_output_2_categorical_accuracy: 0.9322 - auxilliary_output_2_auc: 0.9893 - auxilliary_output_2_auc_1: 0.9786 - val_loss: 0.3433 - val_output_loss: 0.2391 - val_auxilliary_output_1_loss: 0.1645 - val_auxilliary_output_2_loss: 0.1828 - val_output_categorical_accuracy: 0.9285 - val_output_auc: 0.9900 - val_output_auc_1: 0.9771 - val_auxilliary_output_1_categorical_accuracy: 0.9395 - val_auxilliary_output_1_auc: 0.9917 - val_auxilliary_output_1_auc_1: 0.9837 - val_auxilliary_output_2_categorical_accuracy: 0.9333 - val_auxilliary_output_2_auc: 0.9910 - val_auxilliary_output_2_auc_1: 0.9813 - 81s/epoch - 181ms/step\n",
      "\n",
      "Epoch 5/10\n",
      "\n",
      "450/450 - 83s - loss: 0.2741 - output_loss: 0.1721 - auxilliary_output_1_loss: 0.1703 - auxilliary_output_2_loss: 0.1698 - output_categorical_accuracy: 0.9344 - output_auc: 0.9893 - output_auc_1: 0.9785 - auxilliary_output_1_categorical_accuracy: 0.9349 - auxilliary_output_1_auc: 0.9896 - auxilliary_output_1_auc_1: 0.9784 - auxilliary_output_2_categorical_accuracy: 0.9341 - auxilliary_output_2_auc: 0.9894 - auxilliary_output_2_auc_1: 0.9781 - val_loss: 0.4840 - val_output_loss: 0.3606 - val_auxilliary_output_1_loss: 0.1739 - val_auxilliary_output_2_loss: 0.2374 - val_output_categorical_accuracy: 0.9018 - val_output_auc: 0.9868 - val_output_auc_1: 0.9696 - val_auxilliary_output_1_categorical_accuracy: 0.9397 - val_auxilliary_output_1_auc: 0.9916 - val_auxilliary_output_1_auc_1: 0.9833 - val_auxilliary_output_2_categorical_accuracy: 0.9257 - val_auxilliary_output_2_auc: 0.9902 - val_auxilliary_output_2_auc_1: 0.9783 - 83s/epoch - 185ms/step\n",
      "\n",
      "Epoch 6/10\n",
      "\n",
      "450/450 - 85s - loss: 0.2571 - output_loss: 0.1617 - auxilliary_output_1_loss: 0.1601 - auxilliary_output_2_loss: 0.1578 - output_categorical_accuracy: 0.9367 - output_auc: 0.9904 - output_auc_1: 0.9805 - auxilliary_output_1_categorical_accuracy: 0.9385 - auxilliary_output_1_auc: 0.9908 - auxilliary_output_1_auc_1: 0.9814 - auxilliary_output_2_categorical_accuracy: 0.9381 - auxilliary_output_2_auc: 0.9907 - auxilliary_output_2_auc_1: 0.9811 - val_loss: 0.4211 - val_output_loss: 0.3123 - val_auxilliary_output_1_loss: 0.1560 - val_auxilliary_output_2_loss: 0.2068 - val_output_categorical_accuracy: 0.9168 - val_output_auc: 0.9914 - val_output_auc_1: 0.9834 - val_auxilliary_output_1_categorical_accuracy: 0.9403 - val_auxilliary_output_1_auc: 0.9925 - val_auxilliary_output_1_auc_1: 0.9855 - val_auxilliary_output_2_categorical_accuracy: 0.9365 - val_auxilliary_output_2_auc: 0.9922 - val_auxilliary_output_2_auc_1: 0.9849 - 85s/epoch - 189ms/step\n",
      "\n",
      "Epoch 7/10\n",
      "\n",
      "450/450 - 83s - loss: 0.2477 - output_loss: 0.1559 - auxilliary_output_1_loss: 0.1540 - auxilliary_output_2_loss: 0.1521 - output_categorical_accuracy: 0.9367 - output_auc: 0.9909 - output_auc_1: 0.9814 - auxilliary_output_1_categorical_accuracy: 0.9394 - auxilliary_output_1_auc: 0.9913 - auxilliary_output_1_auc_1: 0.9818 - auxilliary_output_2_categorical_accuracy: 0.9378 - auxilliary_output_2_auc: 0.9912 - auxilliary_output_2_auc_1: 0.9819 - val_loss: 0.3814 - val_output_loss: 0.2760 - val_auxilliary_output_1_loss: 0.1539 - val_auxilliary_output_2_loss: 0.1976 - val_output_categorical_accuracy: 0.9218 - val_output_auc: 0.9912 - val_output_auc_1: 0.9825 - val_auxilliary_output_1_categorical_accuracy: 0.9415 - val_auxilliary_output_1_auc: 0.9922 - val_auxilliary_output_1_auc_1: 0.9843 - val_auxilliary_output_2_categorical_accuracy: 0.9350 - val_auxilliary_output_2_auc: 0.9919 - val_auxilliary_output_2_auc_1: 0.9836 - 83s/epoch - 184ms/step\n",
      "\n",
      "Epoch 8/10\n",
      "\n",
      "450/450 - 86s - loss: 0.2397 - output_loss: 0.1514 - auxilliary_output_1_loss: 0.1477 - auxilliary_output_2_loss: 0.1464 - output_categorical_accuracy: 0.9403 - output_auc: 0.9913 - output_auc_1: 0.9824 - auxilliary_output_1_categorical_accuracy: 0.9417 - auxilliary_output_1_auc: 0.9919 - auxilliary_output_1_auc_1: 0.9831 - auxilliary_output_2_categorical_accuracy: 0.9420 - auxilliary_output_2_auc: 0.9919 - auxilliary_output_2_auc_1: 0.9836 - val_loss: 0.3542 - val_output_loss: 0.2566 - val_auxilliary_output_1_loss: 0.1434 - val_auxilliary_output_2_loss: 0.1816 - val_output_categorical_accuracy: 0.9315 - val_output_auc: 0.9926 - val_output_auc_1: 0.9856 - val_auxilliary_output_1_categorical_accuracy: 0.9445 - val_auxilliary_output_1_auc: 0.9928 - val_auxilliary_output_1_auc_1: 0.9853 - val_auxilliary_output_2_categorical_accuracy: 0.9392 - val_auxilliary_output_2_auc: 0.9928 - val_auxilliary_output_2_auc_1: 0.9855 - 86s/epoch - 191ms/step\n",
      "\n",
      "Epoch 9/10\n",
      "\n",
      "450/450 - 88s - loss: 0.2344 - output_loss: 0.1470 - auxilliary_output_1_loss: 0.1447 - auxilliary_output_2_loss: 0.1467 - output_categorical_accuracy: 0.9404 - output_auc: 0.9917 - output_auc_1: 0.9830 - auxilliary_output_1_categorical_accuracy: 0.9411 - auxilliary_output_1_auc: 0.9921 - auxilliary_output_1_auc_1: 0.9836 - auxilliary_output_2_categorical_accuracy: 0.9413 - auxilliary_output_2_auc: 0.9919 - auxilliary_output_2_auc_1: 0.9834 - val_loss: 0.3674 - val_output_loss: 0.2660 - val_auxilliary_output_1_loss: 0.1476 - val_auxilliary_output_2_loss: 0.1903 - val_output_categorical_accuracy: 0.9333 - val_output_auc: 0.9923 - val_output_auc_1: 0.9852 - val_auxilliary_output_1_categorical_accuracy: 0.9425 - val_auxilliary_output_1_auc: 0.9930 - val_auxilliary_output_1_auc_1: 0.9860 - val_auxilliary_output_2_categorical_accuracy: 0.9392 - val_auxilliary_output_2_auc: 0.9929 - val_auxilliary_output_2_auc_1: 0.9862 - 88s/epoch - 197ms/step\n",
      "\n",
      "Epoch 10/10\n",
      "\n",
      "450/450 - 92s - loss: 0.2255 - output_loss: 0.1418 - auxilliary_output_1_loss: 0.1379 - auxilliary_output_2_loss: 0.1411 - output_categorical_accuracy: 0.9446 - output_auc: 0.9922 - output_auc_1: 0.9842 - auxilliary_output_1_categorical_accuracy: 0.9448 - auxilliary_output_1_auc: 0.9926 - auxilliary_output_1_auc_1: 0.9849 - auxilliary_output_2_categorical_accuracy: 0.9459 - auxilliary_output_2_auc: 0.9921 - auxilliary_output_2_auc_1: 0.9838 - val_loss: 0.3630 - val_output_loss: 0.2626 - val_auxilliary_output_1_loss: 0.1403 - val_auxilliary_output_2_loss: 0.1942 - val_output_categorical_accuracy: 0.9377 - val_output_auc: 0.9932 - val_output_auc_1: 0.9870 - val_auxilliary_output_1_categorical_accuracy: 0.9493 - val_auxilliary_output_1_auc: 0.9935 - val_auxilliary_output_1_auc_1: 0.9868 - val_auxilliary_output_2_categorical_accuracy: 0.9418 - val_auxilliary_output_2_auc: 0.9935 - val_auxilliary_output_2_auc_1: 0.9871 - 92s/epoch - 204ms/step\n",
      "\n",
      "===================================\n",
      "\n",
      "10 epochs in 14.679776211579641 min\n"
     ]
    }
   ],
   "source": [
    "start = time()\n",
    "inception1_hist = inception1.fit(train_gen, steps_per_epoch=train_steps, \n",
    "                    validation_data=val_gen,\n",
    "                    validation_steps=val_steps,\n",
    "                    epochs=10, verbose=2)\n",
    "end = time()\n",
    "print(\"===================================\")\n",
    "print(f'10 epochs in {(end-start)/60} min')"
   ]
  },
  {
   "cell_type": "code",
   "execution_count": 26,
   "metadata": {
    "execution": {
     "iopub.execute_input": "2023-05-27T23:49:56.364641Z",
     "iopub.status.busy": "2023-05-27T23:49:56.364242Z",
     "iopub.status.idle": "2023-05-27T23:49:56.374410Z",
     "shell.execute_reply": "2023-05-27T23:49:56.373459Z",
     "shell.execute_reply.started": "2023-05-27T23:49:56.364610Z"
    }
   },
   "outputs": [],
   "source": [
    "hist_df = pd.DataFrame(inception1_hist.history)\n",
    "hist_json_file = 'inception1_10ep_history.json' \n",
    "with open(hist_json_file, mode='w') as f:\n",
    "    hist_df.to_json(f)"
   ]
  },
  {
   "cell_type": "code",
   "execution_count": 27,
   "metadata": {
    "execution": {
     "iopub.execute_input": "2023-05-27T23:50:45.626171Z",
     "iopub.status.busy": "2023-05-27T23:50:45.625388Z",
     "iopub.status.idle": "2023-05-27T23:51:49.530982Z",
     "shell.execute_reply": "2023-05-27T23:51:49.529996Z",
     "shell.execute_reply.started": "2023-05-27T23:50:45.626134Z"
    }
   },
   "outputs": [
    {
     "name": "stdout",
     "output_type": "stream",
     "text": [
      "3600/3600 [==============================] - 64s 18ms/step - loss: 0.3563 - output_loss: 0.2588 - auxilliary_output_1_loss: 0.1351 - auxilliary_output_2_loss: 0.1901 - output_categorical_accuracy: 0.9392 - output_auc: 0.9936 - output_auc_1: 0.9872 - auxilliary_output_1_categorical_accuracy: 0.9508 - auxilliary_output_1_auc: 0.9943 - auxilliary_output_1_auc_1: 0.9887 - auxilliary_output_2_categorical_accuracy: 0.9439 - auxilliary_output_2_auc: 0.9939 - auxilliary_output_2_auc_1: 0.9878\n"
     ]
    }
   ],
   "source": [
    "pred = inception1.evaluate(test_gen)"
   ]
  },
  {
   "cell_type": "code",
   "execution_count": 65,
   "metadata": {
    "execution": {
     "iopub.execute_input": "2023-05-28T01:14:32.478444Z",
     "iopub.status.busy": "2023-05-28T01:14:32.478071Z",
     "iopub.status.idle": "2023-05-28T01:15:11.777457Z",
     "shell.execute_reply": "2023-05-28T01:15:11.776535Z",
     "shell.execute_reply.started": "2023-05-28T01:14:32.478416Z"
    }
   },
   "outputs": [
    {
     "name": "stdout",
     "output_type": "stream",
     "text": [
      "3600/3600 [==============================] - 35s 10ms/step\n",
      "\n",
      "incept\n",
      "\n",
      "[[[2302   98]\n",
      "\n",
      "  [ 117 1083]]\n",
      "\n",
      "\n",
      "\n",
      " [[2394    6]\n",
      "\n",
      "  [  81 1119]]\n",
      "\n",
      "\n",
      "\n",
      " [[2285  115]\n",
      "\n",
      "  [  21 1179]]]\n",
      "\n",
      "              precision    recall  f1-score   support\n",
      "\n",
      "\n",
      "\n",
      "      faulty     0.9170    0.9025    0.9097      1200\n",
      "\n",
      "      normal     0.9947    0.9325    0.9626      1200\n",
      "\n",
      "     vfaulty     0.9111    0.9825    0.9455      1200\n",
      "\n",
      "\n",
      "\n",
      "    accuracy                         0.9392      3600\n",
      "\n",
      "   macro avg     0.9409    0.9392    0.9393      3600\n",
      "\n",
      "weighted avg     0.9409    0.9392    0.9393      3600\n",
      "\n",
      "\n"
     ]
    }
   ],
   "source": [
    "report(inception1)"
   ]
  }
 ],
 "metadata": {
  "kernelspec": {
   "display_name": "Python 3 (ipykernel)",
   "language": "python",
   "name": "python3"
  },
  "language_info": {
   "codemirror_mode": {
    "name": "ipython",
    "version": 3
   },
   "file_extension": ".py",
   "mimetype": "text/x-python",
   "name": "python",
   "nbconvert_exporter": "python",
   "pygments_lexer": "ipython3",
   "version": "3.8.10"
  },
  "toc-autonumbering": false,
  "toc-showmarkdowntxt": false
 },
 "nbformat": 4,
 "nbformat_minor": 4
}
