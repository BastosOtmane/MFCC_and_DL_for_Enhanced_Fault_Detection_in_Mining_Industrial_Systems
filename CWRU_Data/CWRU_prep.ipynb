{
 "cells": [
  {
   "cell_type": "code",
   "execution_count": 1,
   "id": "73b2c1ed-34cb-4498-869b-b663077b49fc",
   "metadata": {},
   "outputs": [],
   "source": [
    "import pandas as pd\n",
    "import numpy as np\n",
    "import matplotlib.pyplot as plt\n",
    "import csv\n",
    "import pyarrow\n",
    "import pyarrow.parquet as pq\n",
    "import itertools\n",
    "\n",
    "import librosa\n",
    "from scipy.signal import stft\n",
    "from scipy import signal\n",
    "from scipy.fft import rfft\n",
    "import pywt\n",
    "\n",
    "from tqdm import tqdm\n",
    "import os\n",
    "import gc\n",
    "import time\n",
    "from scipy.io import loadmat"
   ]
  },
  {
   "cell_type": "markdown",
   "id": "06f9d510-3123-4d4a-952e-dcbebf6bd75d",
   "metadata": {
    "tags": []
   },
   "source": [
    "# Preparation"
   ]
  },
  {
   "cell_type": "code",
   "execution_count": 44,
   "id": "a84e83d4-a6ad-42c0-8147-472c86258a1f",
   "metadata": {},
   "outputs": [],
   "source": [
    "fault_dir = 'CWRU/12DriveEndFault/'\n",
    "speeds = os.listdir(fault_dir)\n",
    "\n",
    "faults = []\n",
    "for s in speeds:\n",
    "    faults.append(os.listdir('CWRU/12DriveEndFault/'+s))\n",
    "\n",
    "for f in faults[0]:\n",
    "    directory = 'Conditions/BA/'+f[:-4]\n",
    "    if not os.path.exists(directory):\n",
    "        os.makedirs(directory)"
   ]
  },
  {
   "cell_type": "code",
   "execution_count": null,
   "id": "b43d92b0-dfd5-46ba-aced-1b768b704e0e",
   "metadata": {},
   "outputs": [],
   "source": [
    "for s in speeds:\n",
    "    for f in faults[0]:\n",
    "        mat_file_path = 'CWRU/12DriveEndFault/'+s+'/'+f\n",
    "        mat_data = loadmat(mat_file_path)\n",
    "\n",
    "        data_dict = {}\n",
    "        for key in mat_data:\n",
    "            if not key.startswith('__') and key.endswith('BA_time'):\n",
    "                if mat_data[key].ndim >= 2:\n",
    "                    flattened_array = mat_data[key].flatten()\n",
    "                    data_dict[key] = flattened_array\n",
    "                else:\n",
    "                    data_dict[key] = mat_data[key]\n",
    "\n",
    "        for key in data_dict:\n",
    "            df = pd.DataFrame(data_dict)\n",
    "            output_filename  = 'Conditions/BA/'+f[:-4]+'/'+s+'.parquet'\n",
    "            table = pyarrow.Table.from_pandas(df)\n",
    "            pq.write_table(table, output_filename)"
   ]
  },
  {
   "cell_type": "code",
   "execution_count": 22,
   "id": "a65b9f46-433b-4420-a708-7e0fc85fe5a2",
   "metadata": {},
   "outputs": [],
   "source": [
    "normal_dir = 'CWRU/NormalBaseline/'\n",
    "speeds = os.listdir(normal_dir)\n",
    "\n",
    "normals = []\n",
    "for s in speeds:\n",
    "    normals.append(os.listdir(normal_dir+s))\n",
    "\n",
    "for n in normals[0]:\n",
    "    directory = 'Conditions/'+n[:-4]\n",
    "    if not os.path.exists(directory):\n",
    "        os.makedirs(directory)"
   ]
  },
  {
   "cell_type": "code",
   "execution_count": 29,
   "id": "147e00aa-e758-41fd-bf5d-8621db3a1463",
   "metadata": {},
   "outputs": [],
   "source": [
    "for s in speeds:\n",
    "    for n in normals[0]:\n",
    "        mat_file_path = 'CWRU/NormalBaseline/'+s+'/'+n\n",
    "        mat_data = loadmat(mat_file_path)\n",
    "\n",
    "        data_dict = {}\n",
    "        for key in mat_data:\n",
    "            if not key.startswith('__') and key.endswith('DE_time'):\n",
    "                if mat_data[key].ndim >= 2:\n",
    "                    flattened_array = mat_data[key].flatten()\n",
    "                    data_dict[key] = flattened_array\n",
    "                else:\n",
    "                    data_dict[key] = mat_data[key]\n",
    "\n",
    "        for key in data_dict:\n",
    "            df = pd.DataFrame(data_dict[key])\n",
    "            output_filename  = 'Conditions/'+n[:-4]+'/'+key+'_'+s+'.parquet'\n",
    "            table = pyarrow.Table.from_pandas(df)\n",
    "            pq.write_table(table, output_filename)"
   ]
  },
  {
   "cell_type": "code",
   "execution_count": 31,
   "id": "1fc145ed-5850-4528-bb35-6c4b59841917",
   "metadata": {},
   "outputs": [],
   "source": [
    "data = pd.read_parquet(\"Conditions/Normal/X097_DE_time_1797.parquet\")"
   ]
  },
  {
   "cell_type": "code",
   "execution_count": null,
   "id": "bc53db41-67ae-43ad-8662-f4b94756a6f4",
   "metadata": {},
   "outputs": [],
   "source": [
    "faults = []\n",
    "for s in speeds:\n",
    "    faults.append(os.listdir('CWRU/12DriveEndFault/'+s))\n",
    "\n",
    "for f in faults[0]:\n",
    "    directory = 'Conditions/DE/'+f[:-4]\n",
    "    if not os.path.exists(directory):\n",
    "        os.makedirs(directory)\n",
    "        \n",
    "for s in speeds:\n",
    "    for f in faults[0]:\n",
    "        mat_file_path = 'CWRU/12DriveEndFault/'+s+'/'+f\n",
    "        mat_data = loadmat(mat_file_path)\n",
    "\n",
    "        data_dict = {}\n",
    "        for key in mat_data:\n",
    "            if not key.startswith('__') and key.endswith('FE_time'):\n",
    "                if mat_data[key].ndim >= 2:\n",
    "                    flattened_array = mat_data[key].flatten()\n",
    "                    data_dict[key] = flattened_array\n",
    "                else:\n",
    "                    data_dict[key] = mat_data[key]\n",
    "\n",
    "        for key in data_dict:\n",
    "            df = pd.DataFrame(data_dict)\n",
    "            output_filename  = 'Conditions/FE/'+f[:-4]+'/'+s+'.parquet'\n",
    "            table = pyarrow.Table.from_pandas(df)\n",
    "            pq.write_table(table, output_filename)"
   ]
  },
  {
   "cell_type": "markdown",
   "id": "0c793fa7-51d4-4994-b215-322bf7f4b2bb",
   "metadata": {},
   "source": [
    "# Functions"
   ]
  },
  {
   "cell_type": "code",
   "execution_count": 48,
   "id": "01a42f3a-2a2e-473c-bbb0-2c6f281669c6",
   "metadata": {},
   "outputs": [],
   "source": [
    "def read(path=''):\n",
    "    data = pd.read_parquet(path)\n",
    "    data.rename({data.columns[0]: \"Value\"}, axis=1, inplace=True)\n",
    "    print(len(data))\n",
    "    return data\n",
    "    \n",
    "def generate_spectr_coeff(data, kind=\"mfcc\", period=10):\n",
    "    coeff = []\n",
    "    split = []\n",
    "    date = []\n",
    "    \n",
    "    # Params\n",
    "    sample_rate = 2\n",
    "    frame_size = 256\n",
    "    hop = 32\n",
    "    n_coeff = 20\n",
    "    lifter = 0\n",
    "    n_mels = 20\n",
    "    dct = 2\n",
    "    win_length=32\n",
    "    wind = 'tukey'\n",
    "    \n",
    "    step = period*120\n",
    "    for i in range(0,len(data),step):\n",
    "        split.append(data.Value.iloc[i:i+step].tolist())\n",
    "            \n",
    "    ############\n",
    "    ### MFCC ###\n",
    "    if kind == \"mfcc\":\n",
    "        for j in tqdm(range(len(split)-1)):\n",
    "            \n",
    "            coef = librosa.feature.mfcc(y=np.array(split[j]), sr=sample_rate, lifter=lifter, n_fft=frame_size, hop_length=hop, win_length=win_length, n_mfcc=n_coeff, n_mels=n_mels, dct_type=dct, window=wind)\n",
    "            # Compute delta coefficients\n",
    "            deltas = librosa.feature.delta(coef)\n",
    "            #deltasdeltas = librosa.feature.delta(deltas)\n",
    "\n",
    "            # Concatenate the MFCC and delta coefficients\n",
    "            features = np.concatenate((coef, deltas), axis=0)\n",
    "            coeff.append(features)\n",
    "            # del features\n",
    "    \n",
    "    ############        \n",
    "    ### STFT ###    \n",
    "    elif kind == \"stft\":\n",
    "        for j in tqdm(range(len(split))):\n",
    "            signal = split[j]\n",
    "            window = wind\n",
    "            #The length of each segment of the signal, measured in samples.\n",
    "            nperseg = sample_rate*50\n",
    "            noverlap = nperseg//2\n",
    "\n",
    "            # Compute STFT\n",
    "            f, t, Zxx = stft(signal, fs=sample_rate, window=window, nperseg=nperseg, noverlap=noverlap)\n",
    "\n",
    "            # Convert magnitude spectrogram to dB scale\n",
    "            # np.finfo(float).eps to avoid taking log(0)\n",
    "            coeff.append(20 * np.log10(np.abs(Zxx + np.finfo(float).eps)))\n",
    "            del f, t, Zxx\n",
    "    \n",
    "    ###########        \n",
    "    ### CWT ###\n",
    "    elif kind == \"cwt\":\n",
    "        for j in tqdm(range(len(split))):\n",
    "            signal = split[j]\n",
    "            wavelet = \"morl\"\n",
    "            coef, freqs = pywt.cwt(signal, np.arange(1, 128), wavelet)\n",
    "            \n",
    "    elif kind == \"fft\":\n",
    "        for j in tqdm(range(len(split))):\n",
    "            signal = split[j]\n",
    "            fft_sig = rfft(signal, axis=-1, norm='ortho', overwrite_x=False)\n",
    "            coeff.append(np.abs(fft_sig[1:]))\n",
    "            \n",
    "    del split\n",
    "    print(f'Coefficient computed {np.max(coeff[0])}, {np.min(coeff[0])}')\n",
    "    return coeff\n",
    "\n",
    "def generate_spectr(coeff, condition, folder_name=\"\", kind=\"mfcc\"):\n",
    "    directory = folder_name+'/'+condition\n",
    "    if not os.path.exists(directory):\n",
    "        os.makedirs(directory)\n",
    "    print(f\"Saving images in {directory}\")\n",
    "    if kind == \"mfcc\":\n",
    "        for i,co in enumerate(tqdm(coeff)):\n",
    "            fig, ax = plt.subplots(figsize=(5,5))\n",
    "            librosa.display.specshow(co, cmap='inferno', vmin=-10, ax=ax)\n",
    "            fig.savefig(f'{directory}/_{i}.png', bbox_inches='tight', pad_inches=0)\n",
    "            plt.close(fig)\n",
    "            fig, ax = None, None\n",
    "    return gc.collect()\n",
    "\n",
    "def generate_data(data_folder:str='', condition='', ouput_name='Images', kind=\"mfcc\", location='DE'):\n",
    "   \n",
    "    records = os.listdir(f'{data_folder}/{location}/{d}')\n",
    "    print(f'{data_folder}/{location}/{d}')\n",
    "    record_data = []\n",
    "    for r in records:\n",
    "        record_data.append(read(f'{data_folder}/{location}/{d}/{r}'))\n",
    "    print(len(record_data))\n",
    "    record_data = pd.concat(record_data).reset_index(drop=True)\n",
    "    print(len(record_data))\n",
    "    coeff = generate_spectr_coeff(record_data, kind=kind)\n",
    "    record_data = None\n",
    "    generate_spectr(coeff, condition=condition, folder_name=f'{ouput_name}_{kind}/{location}', kind=kind)\n",
    "    coeff = None\n",
    "    del coeff, record_data, records\n",
    "    gc.collect()"
   ]
  },
  {
   "cell_type": "code",
   "execution_count": 49,
   "id": "2404b6ad-b16d-4e7b-a5c9-1856522cf06c",
   "metadata": {},
   "outputs": [],
   "source": [
    "directory = os.listdir('Conditions/BA')"
   ]
  },
  {
   "cell_type": "code",
   "execution_count": 50,
   "id": "c7343092-039d-4941-a9a5-d735cb3d630d",
   "metadata": {},
   "outputs": [
    {
     "name": "stdout",
     "output_type": "stream",
     "text": [
      "Conditions/BA/0.007-Ball\n",
      "121556\n",
      "121556\n",
      "121410\n",
      "122571\n",
      "4\n",
      "487093\n"
     ]
    },
    {
     "name": "stderr",
     "output_type": "stream",
     "text": [
      "100%|███████████████████████████████████████████████████████████████████████████████| 405/405 [00:00<00:00, 426.63it/s]\n"
     ]
    },
    {
     "name": "stdout",
     "output_type": "stream",
     "text": [
      "Coefficient computed 45.62387572272087, -25.623604313146128\n",
      "Saving images in Images_mfcc/BA/0.007-Ball\n"
     ]
    },
    {
     "name": "stderr",
     "output_type": "stream",
     "text": [
      "100%|████████████████████████████████████████████████████████████████████████████████| 405/405 [00:22<00:00, 17.71it/s]\n"
     ]
    },
    {
     "name": "stdout",
     "output_type": "stream",
     "text": [
      "Conditions/BA/0.007-InnerRace\n",
      "122917\n",
      "122136\n",
      "121991\n",
      "121265\n",
      "4\n",
      "488309\n"
     ]
    },
    {
     "name": "stderr",
     "output_type": "stream",
     "text": [
      "100%|███████████████████████████████████████████████████████████████████████████████| 406/406 [00:01<00:00, 259.25it/s]\n"
     ]
    },
    {
     "name": "stdout",
     "output_type": "stream",
     "text": [
      "Coefficient computed 52.89669042367298, -31.560188835173065\n",
      "Saving images in Images_mfcc/BA/0.007-InnerRace\n"
     ]
    },
    {
     "name": "stderr",
     "output_type": "stream",
     "text": [
      "100%|████████████████████████████████████████████████████████████████████████████████| 406/406 [00:23<00:00, 17.30it/s]\n"
     ]
    },
    {
     "name": "stdout",
     "output_type": "stream",
     "text": [
      "Conditions/BA/0.007-OuterRace12\n",
      "122136\n",
      "122281\n",
      "121991\n",
      "122281\n",
      "4\n",
      "488689\n"
     ]
    },
    {
     "name": "stderr",
     "output_type": "stream",
     "text": [
      "100%|███████████████████████████████████████████████████████████████████████████████| 407/407 [00:00<00:00, 434.24it/s]\n"
     ]
    },
    {
     "name": "stdout",
     "output_type": "stream",
     "text": [
      "Coefficient computed 39.1624085737935, -22.84398174967926\n",
      "Saving images in Images_mfcc/BA/0.007-OuterRace12\n"
     ]
    },
    {
     "name": "stderr",
     "output_type": "stream",
     "text": [
      "100%|████████████████████████████████████████████████████████████████████████████████| 407/407 [00:24<00:00, 16.78it/s]\n"
     ]
    },
    {
     "name": "stdout",
     "output_type": "stream",
     "text": [
      "Conditions/BA/0.007-OuterRace3\n",
      "122281\n",
      "121556\n",
      "121846\n",
      "122281\n",
      "4\n",
      "487964\n"
     ]
    },
    {
     "name": "stderr",
     "output_type": "stream",
     "text": [
      "100%|███████████████████████████████████████████████████████████████████████████████| 406/406 [00:01<00:00, 325.66it/s]\n"
     ]
    },
    {
     "name": "stdout",
     "output_type": "stream",
     "text": [
      "Coefficient computed 48.64139139303589, -26.15474407117673\n",
      "Saving images in Images_mfcc/BA/0.007-OuterRace3\n"
     ]
    },
    {
     "name": "stderr",
     "output_type": "stream",
     "text": [
      "100%|████████████████████████████████████████████████████████████████████████████████| 406/406 [00:27<00:00, 14.61it/s]\n"
     ]
    }
   ],
   "source": [
    "for d in directory[0:4]:\n",
    "    generate_data(data_folder=f'Conditions', condition=d, ouput_name='Images', location='BA')"
   ]
  },
  {
   "cell_type": "code",
   "execution_count": 51,
   "id": "d0841dde-35fe-4916-8c68-e13ee1b6663a",
   "metadata": {},
   "outputs": [
    {
     "data": {
      "text/plain": [
       "3319456"
      ]
     },
     "execution_count": 51,
     "metadata": {},
     "output_type": "execute_result"
    }
   ],
   "source": [
    "gc.collect()"
   ]
  },
  {
   "cell_type": "code",
   "execution_count": 52,
   "id": "e1f20fca-b856-44e1-9184-8e81a927862b",
   "metadata": {},
   "outputs": [
    {
     "name": "stdout",
     "output_type": "stream",
     "text": [
      "Conditions/BA/0.007-OuterRace6\n",
      "122571\n",
      "121410\n",
      "122426\n",
      "121991\n",
      "4\n",
      "488398\n"
     ]
    },
    {
     "name": "stderr",
     "output_type": "stream",
     "text": [
      "100%|███████████████████████████████████████████████████████████████████████████████| 406/406 [00:00<00:00, 408.11it/s]\n"
     ]
    },
    {
     "name": "stdout",
     "output_type": "stream",
     "text": [
      "Coefficient computed 50.53325495838148, -31.96074552658546\n",
      "Saving images in Images_mfcc/BA/0.007-OuterRace6\n"
     ]
    },
    {
     "name": "stderr",
     "output_type": "stream",
     "text": [
      "100%|████████████████████████████████████████████████████████████████████████████████| 406/406 [00:21<00:00, 18.50it/s]\n"
     ]
    },
    {
     "name": "stdout",
     "output_type": "stream",
     "text": [
      "Conditions/BA/0.014-Ball\n",
      "122136\n",
      "121991\n",
      "122136\n",
      "121846\n",
      "4\n",
      "488109\n"
     ]
    },
    {
     "name": "stderr",
     "output_type": "stream",
     "text": [
      "100%|███████████████████████████████████████████████████████████████████████████████| 406/406 [00:00<00:00, 412.54it/s]\n"
     ]
    },
    {
     "name": "stdout",
     "output_type": "stream",
     "text": [
      "Coefficient computed 45.14663745143722, -24.420568051490754\n",
      "Saving images in Images_mfcc/BA/0.014-Ball\n"
     ]
    },
    {
     "name": "stderr",
     "output_type": "stream",
     "text": [
      "100%|████████████████████████████████████████████████████████████████████████████████| 406/406 [00:21<00:00, 18.88it/s]\n"
     ]
    },
    {
     "name": "stdout",
     "output_type": "stream",
     "text": [
      "Conditions/BA/0.014-InnerRace\n",
      "121701\n",
      "121846\n",
      "121846\n",
      "121846\n",
      "4\n",
      "487239\n"
     ]
    },
    {
     "name": "stderr",
     "output_type": "stream",
     "text": [
      "100%|███████████████████████████████████████████████████████████████████████████████| 406/406 [00:01<00:00, 363.87it/s]\n"
     ]
    },
    {
     "name": "stdout",
     "output_type": "stream",
     "text": [
      "Coefficient computed 33.66853610026884, -26.68821380616653\n",
      "Saving images in Images_mfcc/BA/0.014-InnerRace\n"
     ]
    },
    {
     "name": "stderr",
     "output_type": "stream",
     "text": [
      "100%|████████████████████████████████████████████████████████████████████████████████| 406/406 [00:21<00:00, 19.20it/s]\n"
     ]
    },
    {
     "name": "stdout",
     "output_type": "stream",
     "text": [
      "Conditions/BA/0.014-OuterRace6\n",
      "121991\n",
      "121846\n",
      "122136\n",
      "121846\n",
      "4\n",
      "487819\n"
     ]
    },
    {
     "name": "stderr",
     "output_type": "stream",
     "text": [
      "100%|███████████████████████████████████████████████████████████████████████████████| 406/406 [00:01<00:00, 352.07it/s]\n"
     ]
    },
    {
     "name": "stdout",
     "output_type": "stream",
     "text": [
      "Coefficient computed 40.76615401662785, -25.013669842669522\n",
      "Saving images in Images_mfcc/BA/0.014-OuterRace6\n"
     ]
    },
    {
     "name": "stderr",
     "output_type": "stream",
     "text": [
      "100%|████████████████████████████████████████████████████████████████████████████████| 406/406 [00:21<00:00, 18.80it/s]\n"
     ]
    }
   ],
   "source": [
    "for d in directory[4:8]:\n",
    "    generate_data(data_folder=f'Conditions', condition=d, ouput_name='Images', location='BA')"
   ]
  },
  {
   "cell_type": "code",
   "execution_count": 53,
   "id": "7ffb84a5-69ee-44f5-a961-eb22ba6f373c",
   "metadata": {},
   "outputs": [
    {
     "data": {
      "text/plain": [
       "3319456"
      ]
     },
     "execution_count": 53,
     "metadata": {},
     "output_type": "execute_result"
    }
   ],
   "source": [
    "gc.collect()"
   ]
  },
  {
   "cell_type": "code",
   "execution_count": 54,
   "id": "92bf84f0-3de0-4e17-af7d-18fe3c3d660a",
   "metadata": {},
   "outputs": [
    {
     "name": "stdout",
     "output_type": "stream",
     "text": [
      "Conditions/BA/0.021-Ball\n",
      "122136\n",
      "122136\n",
      "121701\n",
      "121991\n",
      "4\n",
      "487964\n"
     ]
    },
    {
     "name": "stderr",
     "output_type": "stream",
     "text": [
      "100%|███████████████████████████████████████████████████████████████████████████████| 406/406 [00:00<00:00, 431.19it/s]\n"
     ]
    },
    {
     "name": "stdout",
     "output_type": "stream",
     "text": [
      "Coefficient computed 40.03463151806926, -21.27301841691733\n",
      "Saving images in Images_mfcc/BA/0.021-Ball\n"
     ]
    },
    {
     "name": "stderr",
     "output_type": "stream",
     "text": [
      "100%|████████████████████████████████████████████████████████████████████████████████| 406/406 [00:19<00:00, 20.57it/s]\n"
     ]
    },
    {
     "name": "stdout",
     "output_type": "stream",
     "text": [
      "Conditions/BA/0.021-InnerRace\n",
      "121991\n",
      "121846\n",
      "121556\n",
      "122136\n",
      "4\n",
      "487529\n"
     ]
    },
    {
     "name": "stderr",
     "output_type": "stream",
     "text": [
      "100%|███████████████████████████████████████████████████████████████████████████████| 406/406 [00:01<00:00, 386.00it/s]\n"
     ]
    },
    {
     "name": "stdout",
     "output_type": "stream",
     "text": [
      "Coefficient computed 45.72566432055882, -19.775027959317974\n",
      "Saving images in Images_mfcc/BA/0.021-InnerRace\n"
     ]
    },
    {
     "name": "stderr",
     "output_type": "stream",
     "text": [
      "100%|████████████████████████████████████████████████████████████████████████████████| 406/406 [00:21<00:00, 18.64it/s]\n"
     ]
    },
    {
     "name": "stdout",
     "output_type": "stream",
     "text": [
      "Conditions/BA/0.021-OuterRace12\n",
      "121701\n",
      "122716\n",
      "122426\n",
      "121846\n",
      "4\n",
      "488689\n"
     ]
    },
    {
     "name": "stderr",
     "output_type": "stream",
     "text": [
      "100%|███████████████████████████████████████████████████████████████████████████████| 407/407 [00:00<00:00, 429.87it/s]\n"
     ]
    },
    {
     "name": "stdout",
     "output_type": "stream",
     "text": [
      "Coefficient computed 47.52352733348701, -27.01387684228397\n",
      "Saving images in Images_mfcc/BA/0.021-OuterRace12\n"
     ]
    },
    {
     "name": "stderr",
     "output_type": "stream",
     "text": [
      "100%|████████████████████████████████████████████████████████████████████████████████| 407/407 [00:18<00:00, 22.01it/s]\n"
     ]
    },
    {
     "name": "stdout",
     "output_type": "stream",
     "text": [
      "Conditions/BA/0.021-OuterRace3\n",
      "122136\n",
      "122281\n",
      "121991\n",
      "121701\n",
      "4\n",
      "488109\n"
     ]
    },
    {
     "name": "stderr",
     "output_type": "stream",
     "text": [
      "100%|███████████████████████████████████████████████████████████████████████████████| 406/406 [00:00<00:00, 437.40it/s]\n"
     ]
    },
    {
     "name": "stdout",
     "output_type": "stream",
     "text": [
      "Coefficient computed 57.745868719800896, -17.664197176546644\n",
      "Saving images in Images_mfcc/BA/0.021-OuterRace3\n"
     ]
    },
    {
     "name": "stderr",
     "output_type": "stream",
     "text": [
      "100%|████████████████████████████████████████████████████████████████████████████████| 406/406 [00:18<00:00, 21.39it/s]\n"
     ]
    }
   ],
   "source": [
    "for d in directory[8:12]:\n",
    "    generate_data(data_folder=f'Conditions', condition=d, ouput_name='Images', location='BA')"
   ]
  },
  {
   "cell_type": "code",
   "execution_count": 55,
   "id": "ed6dce37-bceb-41e9-a4e1-687bfb9579ac",
   "metadata": {},
   "outputs": [
    {
     "data": {
      "text/plain": [
       "3321500"
      ]
     },
     "execution_count": 55,
     "metadata": {},
     "output_type": "execute_result"
    }
   ],
   "source": [
    "gc.collect()"
   ]
  },
  {
   "cell_type": "code",
   "execution_count": 56,
   "id": "286cb1e6-47b1-4766-a141-b7b018af8278",
   "metadata": {},
   "outputs": [
    {
     "name": "stdout",
     "output_type": "stream",
     "text": [
      "Conditions/BA/0.021-OuterRace6\n",
      "121991\n",
      "122281\n",
      "121991\n",
      "122426\n",
      "4\n",
      "488689\n"
     ]
    },
    {
     "name": "stderr",
     "output_type": "stream",
     "text": [
      "100%|███████████████████████████████████████████████████████████████████████████████| 407/407 [00:00<00:00, 456.99it/s]\n"
     ]
    },
    {
     "name": "stdout",
     "output_type": "stream",
     "text": [
      "Coefficient computed 49.45102114236879, -33.10648539342995\n",
      "Saving images in Images_mfcc/BA/0.021-OuterRace6\n"
     ]
    },
    {
     "name": "stderr",
     "output_type": "stream",
     "text": [
      "100%|████████████████████████████████████████████████████████████████████████████████| 407/407 [00:18<00:00, 22.44it/s]\n"
     ]
    }
   ],
   "source": [
    "for d in directory[12:]:\n",
    "    generate_data(data_folder=f'Conditions', condition=d, ouput_name='Images', location='BA')"
   ]
  },
  {
   "cell_type": "code",
   "execution_count": 58,
   "id": "ff03936d-da54-47d6-8b28-901d4d264e99",
   "metadata": {},
   "outputs": [
    {
     "data": {
      "text/plain": [
       "0"
      ]
     },
     "execution_count": 58,
     "metadata": {},
     "output_type": "execute_result"
    }
   ],
   "source": [
    "gc.collect()"
   ]
  },
  {
   "cell_type": "markdown",
   "id": "c17b4f36-02d7-4134-bd38-66f28481db3e",
   "metadata": {},
   "source": [
    "# Image Spliting"
   ]
  },
  {
   "cell_type": "code",
   "execution_count": 59,
   "id": "ea646294-42d5-42a8-ae4f-a396afa0bc05",
   "metadata": {},
   "outputs": [],
   "source": [
    "import shutil\n",
    "import random"
   ]
  },
  {
   "cell_type": "code",
   "execution_count": 60,
   "id": "ad9a389b-27d8-47bb-b830-e1d3e7808389",
   "metadata": {},
   "outputs": [],
   "source": [
    "# Set the paths\n",
    "data_folder = 'Images_mfcc/BA'\n",
    "train_folder = 'Model_Image/train'\n",
    "val_folder = 'Model_Image/val'\n",
    "test_folder = 'Model_Image/test'\n",
    "\n",
    "train_ratio = 0.7\n",
    "val_ratio = 0.15\n",
    "test_ratio = 0.15\n",
    "\n",
    "os.makedirs(train_folder, exist_ok=True)\n",
    "os.makedirs(val_folder, exist_ok=True)\n",
    "os.makedirs(test_folder, exist_ok=True)\n",
    "\n",
    "# Loop through each label subfolder\n",
    "for label_folder in os.listdir(data_folder):\n",
    "    label_path = os.path.join(data_folder, label_folder)\n",
    "    if os.path.isdir(label_path):\n",
    "        images = os.listdir(label_path)\n",
    "        num_images = len(images)\n",
    "        random.shuffle(images)\n",
    "        \n",
    "        # Calculate split indices\n",
    "        train_split = int(train_ratio * num_images)\n",
    "        val_split = train_split + int(val_ratio * num_images)\n",
    "        \n",
    "        # Split images\n",
    "        train_images = images[:train_split]\n",
    "        val_images = images[train_split:val_split]\n",
    "        test_images = images[val_split:]\n",
    "        \n",
    "        # Move images to respective folders\n",
    "        for img in train_images:\n",
    "            src = os.path.join(label_path, img)\n",
    "            dest = os.path.join(train_folder, label_folder, img)\n",
    "            os.makedirs(os.path.dirname(dest), exist_ok=True)\n",
    "            shutil.copy(src, dest)\n",
    "            \n",
    "        for img in val_images:\n",
    "            src = os.path.join(label_path, img)\n",
    "            dest = os.path.join(val_folder, label_folder, img)\n",
    "            os.makedirs(os.path.dirname(dest), exist_ok=True)\n",
    "            shutil.copy(src, dest)\n",
    "            \n",
    "        for img in test_images:\n",
    "            src = os.path.join(label_path, img)\n",
    "            dest = os.path.join(test_folder, label_folder, img)\n",
    "            os.makedirs(os.path.dirname(dest), exist_ok=True)\n",
    "            shutil.copy(src, dest)"
   ]
  },
  {
   "cell_type": "code",
   "execution_count": 61,
   "id": "a32500c6-dd74-416b-af6a-6caf56319f2d",
   "metadata": {},
   "outputs": [],
   "source": [
    "labels = os.listdir('Model_Image/train')\n",
    "train_samples = 0\n",
    "val_samples = 0\n",
    "test_samples = 0\n",
    "for l in labels:\n",
    "    train_samples += len(os.listdir('Model_Image/train/'+l))\n",
    "for l in labels:\n",
    "    val_samples += len(os.listdir('Model_Image/val/'+l))\n",
    "for l in labels:\n",
    "    test_samples += len(os.listdir('Model_Image/test/'+l))"
   ]
  },
  {
   "cell_type": "code",
   "execution_count": 62,
   "id": "23629882-1f98-4297-8596-18cd5e9c5f3a",
   "metadata": {},
   "outputs": [
    {
     "name": "stdout",
     "output_type": "stream",
     "text": [
      "train_samples :  12909\n",
      "val_samples :  2741\n",
      "test_samples :  2815\n"
     ]
    }
   ],
   "source": [
    "print(\"train_samples : \",train_samples)\n",
    "print(\"val_samples : \",val_samples)\n",
    "print(\"test_samples : \",test_samples)"
   ]
  },
  {
   "cell_type": "code",
   "execution_count": null,
   "id": "460931f6-d72b-49d0-a891-a13ecb24f79f",
   "metadata": {},
   "outputs": [],
   "source": []
  }
 ],
 "metadata": {
  "kernelspec": {
   "display_name": "Python 3 (ipykernel)",
   "language": "python",
   "name": "python3"
  },
  "language_info": {
   "codemirror_mode": {
    "name": "ipython",
    "version": 3
   },
   "file_extension": ".py",
   "mimetype": "text/x-python",
   "name": "python",
   "nbconvert_exporter": "python",
   "pygments_lexer": "ipython3",
   "version": "3.8.10"
  }
 },
 "nbformat": 4,
 "nbformat_minor": 5
}
