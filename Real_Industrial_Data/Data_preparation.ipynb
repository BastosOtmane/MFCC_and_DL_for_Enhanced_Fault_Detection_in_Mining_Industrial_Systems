{
 "cells": [
  {
   "cell_type": "code",
   "execution_count": 1,
   "id": "deddde89-00dc-4d47-987c-d701fe6bf7fb",
   "metadata": {},
   "outputs": [],
   "source": [
    "import pandas as pd\n",
    "import numpy as np\n",
    "import cv2\n",
    "\n",
    "from sklearn.model_selection import train_test_split\n",
    "from sklearn.utils import shuffle\n",
    "\n",
    "import os\n",
    "import sys\n",
    "from tqdm import tqdm\n",
    "import shutil"
   ]
  },
  {
   "cell_type": "markdown",
   "id": "6ad6a9e7-4453-45ae-8834-8dce9377f979",
   "metadata": {},
   "source": [
    "# Data Preparation"
   ]
  },
  {
   "cell_type": "code",
   "execution_count": 27,
   "id": "16e44637-5a36-4064-89a6-f2f3a38cf4a3",
   "metadata": {},
   "outputs": [
    {
     "name": "stdout",
     "output_type": "stream",
     "text": [
      "Condition\n",
      "VFaulty    11343\n",
      "Normal      9209\n",
      "Faulty      8577\n",
      "Name: count, dtype: int64\n",
      "Condition\n",
      "VFaulty    6000\n",
      "Normal     6000\n",
      "Faulty     6000\n",
      "Name: count, dtype: int64\n"
     ]
    }
   ],
   "source": [
    "labels = pd.read_pickle('Label/29k_labels.pickle')\n",
    "print(labels.Condition.value_counts())\n",
    "labels.sort_values('filename', inplace=True)\n",
    "\n",
    "# Deviding Data into chunks\n",
    "normal = labels.loc[(labels.Condition == 'Normal')].sample(6000, random_state=5)\n",
    "faulty = labels.loc[(labels.Condition == 'Faulty')].sample(6000, random_state=5)\n",
    "vfaulty = labels.loc[(labels.Condition == 'VFaulty')].sample(6000, random_state=5)\n",
    "labels = pd.concat([normal,faulty,vfaulty])\n",
    "labels.sort_values('filename', inplace=True)\n",
    "labels = shuffle(labels)\n",
    "print(labels.Condition.value_counts())"
   ]
  },
  {
   "cell_type": "code",
   "execution_count": 28,
   "id": "445933c6-a7ac-49c8-b6d7-9923ec27aad7",
   "metadata": {
    "tags": []
   },
   "outputs": [
    {
     "name": "stdout",
     "output_type": "stream",
     "text": [
      "Condition\n",
      "VFaulty    11343\n",
      "Normal      9209\n",
      "Faulty      8577\n",
      "Name: count, dtype: int64\n"
     ]
    }
   ],
   "source": [
    "labels_eval = pd.read_pickle('Label/29k_labels.pickle')\n",
    "print(labels_eval.Condition.value_counts())\n",
    "labels_eval.sort_values('filename', inplace=True)"
   ]
  },
  {
   "cell_type": "code",
   "execution_count": 29,
   "id": "a1f16fe3-889d-44b1-b0ec-0b9c017c853b",
   "metadata": {},
   "outputs": [],
   "source": [
    "to_eval = []\n",
    "for evals in labels_eval.index:\n",
    "    if evals not in labels.index:\n",
    "        to_eval.append(evals)"
   ]
  },
  {
   "cell_type": "code",
   "execution_count": 30,
   "id": "9f72c5e4-ad98-4170-bf72-1facdb3aad2d",
   "metadata": {},
   "outputs": [],
   "source": [
    "labels_eval = labels_eval.loc[to_eval]"
   ]
  },
  {
   "cell_type": "code",
   "execution_count": 31,
   "id": "5f7eb5be-f12a-47d7-9c3e-c76931a18263",
   "metadata": {},
   "outputs": [
    {
     "name": "stdout",
     "output_type": "stream",
     "text": [
      "Condition\n",
      "VFaulty    5343\n",
      "Normal     3209\n",
      "Faulty     2577\n",
      "Name: count, dtype: int64\n",
      "Condition\n",
      "Faulty     2000\n",
      "Normal     2000\n",
      "VFaulty    2000\n",
      "Name: count, dtype: int64\n"
     ]
    }
   ],
   "source": [
    "labels_eval.sort_values('filename', inplace=True)\n",
    "print(labels_eval.Condition.value_counts())\n",
    "# Deviding Data into chunks\n",
    "normal = labels_eval.loc[(labels_eval.Condition == 'Normal')].sample(2000, random_state=5)\n",
    "faulty = labels_eval.loc[(labels_eval.Condition == 'Faulty')].sample(2000, random_state=5)\n",
    "vfaulty = labels_eval.loc[(labels_eval.Condition == 'VFaulty')].sample(2000, random_state=5)\n",
    "labels_eval = pd.concat([normal,faulty,vfaulty])\n",
    "labels_eval.sort_values('filename', inplace=True)\n",
    "labels_eval = shuffle(labels_eval)\n",
    "print(labels_eval.Condition.value_counts())"
   ]
  },
  {
   "cell_type": "code",
   "execution_count": 3,
   "id": "91420844-30fe-4140-802c-a54d04cb9967",
   "metadata": {},
   "outputs": [],
   "source": [
    "y = labels.Condition\n",
    "train_data, test_data = train_test_split(labels, test_size=0.2, random_state=5, stratify=y)"
   ]
  },
  {
   "cell_type": "code",
   "execution_count": 4,
   "id": "09293083-0f8d-42df-b2f3-09add676d67c",
   "metadata": {},
   "outputs": [
    {
     "name": "stdout",
     "output_type": "stream",
     "text": [
      "(14400, 2)\n",
      "(3600, 2)\n",
      "Condition\n",
      "VFaulty    4800\n",
      "Faulty     4800\n",
      "Normal     4800\n",
      "Name: count, dtype: int64\n",
      "Condition\n",
      "Normal     1200\n",
      "VFaulty    1200\n",
      "Faulty     1200\n",
      "Name: count, dtype: int64\n"
     ]
    }
   ],
   "source": [
    "print(train_data.shape)\n",
    "print(test_data.shape)\n",
    "print(train_data.Condition.value_counts())\n",
    "print(test_data.Condition.value_counts())"
   ]
  },
  {
   "cell_type": "code",
   "execution_count": 13,
   "id": "f7900220-edec-4a9e-8561-42238d36917f",
   "metadata": {},
   "outputs": [],
   "source": [
    "# Create a new directory\n",
    "base_dir = 'Image_Data'\n",
    "os.mkdir(base_dir)\n",
    "\n",
    "#CREATE 2 FOLDERS INSIDE THE BASE DIRECTORY\n",
    "\n",
    "\"\"\" train_dir\n",
    "     -> Faulty\n",
    "     -> VFaulty\n",
    "     -> Normal\n",
    "\n",
    " test_dir\n",
    "     -> Faulty\n",
    "     -> VFaulty\n",
    "     -> Normal\n",
    "\"\"\"\n",
    "\n",
    "# train_dir\n",
    "train_dir = os.path.join(base_dir, 'train_dir')\n",
    "os.mkdir(train_dir)\n",
    "# test_dir\n",
    "test_dir = os.path.join(base_dir, 'test_dir')\n",
    "os.mkdir(test_dir)\n",
    "\n",
    "# Inside each folder we create seperate folders for each class\n",
    "faulty_dir = os.path.join(train_dir, 'faulty')\n",
    "os.mkdir(faulty_dir)\n",
    "vfaulty_dir = os.path.join(train_dir, 'vfaulty')\n",
    "os.mkdir(vfaulty_dir)\n",
    "normal_dir = os.path.join(train_dir, 'normal')\n",
    "os.mkdir(normal_dir)\n",
    "\n",
    "# create new folders inside test_dir\n",
    "faulty_dir = os.path.join(test_dir, 'faulty')\n",
    "os.mkdir(faulty_dir)\n",
    "vfaulty_dir = os.path.join(test_dir, 'vfaulty')\n",
    "os.mkdir(vfaulty_dir)\n",
    "normal_dir = os.path.join(test_dir, 'normal')\n",
    "os.mkdir(normal_dir)"
   ]
  },
  {
   "cell_type": "code",
   "execution_count": 33,
   "id": "28db1414-2e93-458a-b390-c56ef6db3b06",
   "metadata": {},
   "outputs": [],
   "source": [
    "# Evaluation data\n",
    "\"\"\" eval_dir\n",
    "     -> Faulty\n",
    "     -> VFaulty\n",
    "     -> Normal\n",
    "\"\"\"\n",
    "\n",
    "eval_dir = os.path.join(base_dir, 'eval_dir')\n",
    "os.mkdir(eval_dir)\n",
    "\n",
    "faulty_dir = os.path.join(eval_dir, 'faulty')\n",
    "os.mkdir(faulty_dir)\n",
    "vfaulty_dir = os.path.join(eval_dir, 'vfaulty')\n",
    "os.mkdir(vfaulty_dir)\n",
    "normal_dir = os.path.join(eval_dir, 'normal')\n",
    "os.mkdir(normal_dir)"
   ]
  },
  {
   "cell_type": "code",
   "execution_count": 19,
   "id": "24af80eb-d667-4b81-9c3c-d79853ce1b47",
   "metadata": {},
   "outputs": [
    {
     "name": "stderr",
     "output_type": "stream",
     "text": [
      "100%|████████████████████████████████████████████████████████████████████████████| 14400/14400 [13:08<00:00, 18.26it/s]\n"
     ]
    }
   ],
   "source": [
    "# train and test images\n",
    "train_list = list(train_data.index)\n",
    "test_list = list(test_data.index)\n",
    "\n",
    "for image in tqdm(train_list):\n",
    "    fname = image\n",
    "    # get the label for a certain image\n",
    "    target = labels.loc[image,'Condition']\n",
    "    \n",
    "    # these must match the folder names\n",
    "    if target == 'Faulty':\n",
    "        label = 'Faulty'\n",
    "    if target == 'VFaulty':\n",
    "        label = 'VFaulty'\n",
    "    if target == 'Normal':\n",
    "        label = 'Normal'\n",
    "    \n",
    "    # source path to image\n",
    "    src = os.path.join('Images_mfcc/Data/', fname)\n",
    "    # destination path to image\n",
    "    dst = os.path.join(train_dir, label, fname)\n",
    "    # copy the image from the source to the destination\n",
    "    shutil.copyfile(src, dst)"
   ]
  },
  {
   "cell_type": "code",
   "execution_count": 20,
   "id": "0bd24619-60f7-4059-a36c-af6f60723c0a",
   "metadata": {},
   "outputs": [
    {
     "name": "stderr",
     "output_type": "stream",
     "text": [
      "100%|██████████████████████████████████████████████████████████████████████████████| 3600/3600 [01:36<00:00, 37.27it/s]\n"
     ]
    }
   ],
   "source": [
    "for image in tqdm(test_list):\n",
    "    fname = image\n",
    "    # get the label for a certain image\n",
    "    target = labels.loc[image,'Condition']\n",
    "    \n",
    "    # these must match the folder names\n",
    "    if target == 'Faulty':\n",
    "        label = 'Faulty'\n",
    "    if target == 'VFaulty':\n",
    "        label = 'VFaulty'\n",
    "    if target == 'Normal':\n",
    "        label = 'Normal'\n",
    "    \n",
    "    # source path to image\n",
    "    src = os.path.join('Images_mfcc/Data/', fname)\n",
    "    # destination path to image\n",
    "    dst = os.path.join(test_dir, label, fname)\n",
    "    # copy the image from the source to the destination\n",
    "    shutil.copyfile(src, dst)"
   ]
  },
  {
   "cell_type": "code",
   "execution_count": 36,
   "id": "ca2dd279-86b4-45c3-8dca-5df43b186ed0",
   "metadata": {},
   "outputs": [
    {
     "name": "stderr",
     "output_type": "stream",
     "text": [
      "100%|██████████████████████████████████████████████████████████████████████████████| 6000/6000 [07:39<00:00, 13.06it/s]\n"
     ]
    }
   ],
   "source": [
    "eval_list = list(labels_eval.index)\n",
    "\n",
    "for image in tqdm(eval_list):\n",
    "    fname = image\n",
    "    # get the label for a certain image\n",
    "    target = labels_eval.loc[image,'Condition']\n",
    "    \n",
    "    # these must match the folder names\n",
    "    if target == 'Faulty':\n",
    "        label = 'Faulty'\n",
    "    if target == 'VFaulty':\n",
    "        label = 'VFaulty'\n",
    "    if target == 'Normal':\n",
    "        label = 'Normal'\n",
    "    \n",
    "    # source path to image\n",
    "    src = os.path.join('Images_mfcc/Data/', fname)\n",
    "    # destination path to image\n",
    "    dst = os.path.join(eval_dir, label, fname)\n",
    "    # copy the image from the source to the destination\n",
    "    shutil.copyfile(src, dst)"
   ]
  },
  {
   "cell_type": "code",
   "execution_count": 22,
   "id": "f3a5d12a-b9be-4339-b3e2-4e3572c54873",
   "metadata": {},
   "outputs": [
    {
     "name": "stdout",
     "output_type": "stream",
     "text": [
      "Lengths of train\n",
      "4800\n",
      "4800\n",
      "4800\n",
      "Lengths of test\n",
      "1200\n",
      "1200\n",
      "1200\n"
     ]
    }
   ],
   "source": [
    "print('Lengths of train')\n",
    "print(len(os.listdir('Image_Data/train_dir/faulty')))\n",
    "print(len(os.listdir('Image_Data/train_dir/vfaulty')))\n",
    "print(len(os.listdir('Image_Data/train_dir/normal')))\n",
    "print('Lengths of test')\n",
    "print(len(os.listdir('Image_Data/test_dir/faulty')))\n",
    "print(len(os.listdir('Image_Data/test_dir/vfaulty')))\n",
    "print(len(os.listdir('Image_Data/test_dir/normal')))"
   ]
  },
  {
   "cell_type": "code",
   "execution_count": 37,
   "id": "a93a251f-1cc0-42bf-ad1a-28c10fa37a03",
   "metadata": {},
   "outputs": [
    {
     "name": "stdout",
     "output_type": "stream",
     "text": [
      "Lengths of eval\n",
      "2000\n",
      "2000\n",
      "2000\n"
     ]
    }
   ],
   "source": [
    "print('Lengths of eval')\n",
    "print(len(os.listdir('Image_Data/eval_dir/faulty')))\n",
    "print(len(os.listdir('Image_Data/eval_dir/vfaulty')))\n",
    "print(len(os.listdir('Image_Data/eval_dir/normal')))"
   ]
  }
 ],
 "metadata": {
  "kernelspec": {
   "display_name": "Python 3 (ipykernel)",
   "language": "python",
   "name": "python3"
  },
  "language_info": {
   "codemirror_mode": {
    "name": "ipython",
    "version": 3
   },
   "file_extension": ".py",
   "mimetype": "text/x-python",
   "name": "python",
   "nbconvert_exporter": "python",
   "pygments_lexer": "ipython3",
   "version": "3.8.10"
  }
 },
 "nbformat": 4,
 "nbformat_minor": 5
}
